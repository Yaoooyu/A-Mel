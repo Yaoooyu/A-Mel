{
 "cells": [
  {
   "cell_type": "code",
   "execution_count": null,
   "id": "7fb0cde7-dde7-4dcd-998d-18aa2b91140f",
   "metadata": {},
   "outputs": [],
   "source": [
    "# 🎯 Test Loss: 0.2025 | Test Accuracy: 0.9302\n",
    "# 🎯 Test Loss: 0.2940 | Test Accuracy: 0.8770\n",
    "# 🎯 Test Loss: 0.2525 | Test Accuracy: 0.9151\n",
    "# 🎯 Test Loss: 0.3163 | Test Accuracy: 0.8818"
   ]
  },
  {
   "cell_type": "code",
   "execution_count": 1,
   "id": "c7098460-c45d-4713-bb8d-6da98d367226",
   "metadata": {},
   "outputs": [
    {
     "name": "stderr",
     "output_type": "stream",
     "text": [
      "Downloading: \"https://download.pytorch.org/models/mobilenet_v3_large-5c1a4163.pth\" to /root/.cache/torch/hub/checkpoints/mobilenet_v3_large-5c1a4163.pth\n",
      "100%|██████████| 21.1M/21.1M [00:17<00:00, 1.30MB/s]\n"
     ]
    },
    {
     "data": {
      "application/vnd.jupyter.widget-view+json": {
       "model_id": "1803454af1bd4000a867b7f8d4ee4486",
       "version_major": 2,
       "version_minor": 0
      },
      "text/plain": [
       "Epoch 1/10:   0%|          | 0/251 [00:00<?, ?it/s]"
      ]
     },
     "metadata": {},
     "output_type": "display_data"
    },
    {
     "name": "stdout",
     "output_type": "stream",
     "text": [
      "[Epoch 1] Train Loss: 0.2742, Acc: 0.8966 | Val Loss: 0.2087, Acc: 0.9167\n",
      "✅ Saved Best Model!\n"
     ]
    },
    {
     "data": {
      "application/vnd.jupyter.widget-view+json": {
       "model_id": "d2528838208a4dacb170fc29aec8da9d",
       "version_major": 2,
       "version_minor": 0
      },
      "text/plain": [
       "Epoch 2/10:   0%|          | 0/251 [00:00<?, ?it/s]"
      ]
     },
     "metadata": {},
     "output_type": "display_data"
    },
    {
     "name": "stdout",
     "output_type": "stream",
     "text": [
      "[Epoch 2] Train Loss: 0.2095, Acc: 0.9174 | Val Loss: 0.3804, Acc: 0.8981\n"
     ]
    },
    {
     "data": {
      "application/vnd.jupyter.widget-view+json": {
       "model_id": "5df16338bdcf498eb3cd4e72104ca249",
       "version_major": 2,
       "version_minor": 0
      },
      "text/plain": [
       "Epoch 3/10:   0%|          | 0/251 [00:00<?, ?it/s]"
      ]
     },
     "metadata": {},
     "output_type": "display_data"
    },
    {
     "name": "stdout",
     "output_type": "stream",
     "text": [
      "[Epoch 3] Train Loss: 0.1971, Acc: 0.9204 | Val Loss: 0.2220, Acc: 0.9289\n",
      "✅ Saved Best Model!\n"
     ]
    },
    {
     "data": {
      "application/vnd.jupyter.widget-view+json": {
       "model_id": "fdf5bcaa7a91467b9116c4674e5151f9",
       "version_major": 2,
       "version_minor": 0
      },
      "text/plain": [
       "Epoch 4/10:   0%|          | 0/251 [00:00<?, ?it/s]"
      ]
     },
     "metadata": {},
     "output_type": "display_data"
    },
    {
     "name": "stdout",
     "output_type": "stream",
     "text": [
      "[Epoch 4] Train Loss: 0.1618, Acc: 0.9376 | Val Loss: 0.2049, Acc: 0.9249\n"
     ]
    },
    {
     "data": {
      "application/vnd.jupyter.widget-view+json": {
       "model_id": "0e9dccf00ea347c88b7fbb7057c441a0",
       "version_major": 2,
       "version_minor": 0
      },
      "text/plain": [
       "Epoch 5/10:   0%|          | 0/251 [00:00<?, ?it/s]"
      ]
     },
     "metadata": {},
     "output_type": "display_data"
    },
    {
     "name": "stdout",
     "output_type": "stream",
     "text": [
      "[Epoch 5] Train Loss: 0.1491, Acc: 0.9438 | Val Loss: 0.2431, Acc: 0.9097\n"
     ]
    },
    {
     "data": {
      "application/vnd.jupyter.widget-view+json": {
       "model_id": "b23b053d5ece4735897c50b17f4d5946",
       "version_major": 2,
       "version_minor": 0
      },
      "text/plain": [
       "Epoch 6/10:   0%|          | 0/251 [00:00<?, ?it/s]"
      ]
     },
     "metadata": {},
     "output_type": "display_data"
    },
    {
     "name": "stdout",
     "output_type": "stream",
     "text": [
      "[Epoch 6] Train Loss: 0.1155, Acc: 0.9571 | Val Loss: 0.1999, Acc: 0.9220\n"
     ]
    },
    {
     "data": {
      "application/vnd.jupyter.widget-view+json": {
       "model_id": "84e00ab83cda45d6994806a32321a153",
       "version_major": 2,
       "version_minor": 0
      },
      "text/plain": [
       "Epoch 7/10:   0%|          | 0/251 [00:00<?, ?it/s]"
      ]
     },
     "metadata": {},
     "output_type": "display_data"
    },
    {
     "name": "stdout",
     "output_type": "stream",
     "text": [
      "[Epoch 7] Train Loss: 0.0997, Acc: 0.9649 | Val Loss: 0.2061, Acc: 0.9284\n"
     ]
    },
    {
     "data": {
      "application/vnd.jupyter.widget-view+json": {
       "model_id": "ebab6acb4108480192fd316b26ae0a49",
       "version_major": 2,
       "version_minor": 0
      },
      "text/plain": [
       "Epoch 8/10:   0%|          | 0/251 [00:00<?, ?it/s]"
      ]
     },
     "metadata": {},
     "output_type": "display_data"
    },
    {
     "name": "stdout",
     "output_type": "stream",
     "text": [
      "[Epoch 8] Train Loss: 0.0860, Acc: 0.9692 | Val Loss: 0.2525, Acc: 0.8940\n"
     ]
    },
    {
     "data": {
      "application/vnd.jupyter.widget-view+json": {
       "model_id": "861049d5f96c43e1a93d93dc7eda7702",
       "version_major": 2,
       "version_minor": 0
      },
      "text/plain": [
       "Epoch 9/10:   0%|          | 0/251 [00:00<?, ?it/s]"
      ]
     },
     "metadata": {},
     "output_type": "display_data"
    },
    {
     "name": "stdout",
     "output_type": "stream",
     "text": [
      "[Epoch 9] Train Loss: 0.0694, Acc: 0.9758 | Val Loss: 0.2780, Acc: 0.9220\n"
     ]
    },
    {
     "data": {
      "application/vnd.jupyter.widget-view+json": {
       "model_id": "262067d693e347b987203e303cf2ca12",
       "version_major": 2,
       "version_minor": 0
      },
      "text/plain": [
       "Epoch 10/10:   0%|          | 0/251 [00:00<?, ?it/s]"
      ]
     },
     "metadata": {},
     "output_type": "display_data"
    },
    {
     "name": "stdout",
     "output_type": "stream",
     "text": [
      "[Epoch 10] Train Loss: 0.0515, Acc: 0.9808 | Val Loss: 0.2998, Acc: 0.9266\n"
     ]
    },
    {
     "name": "stderr",
     "output_type": "stream",
     "text": [
      "/tmp/ipykernel_78762/3485870107.py:102: FutureWarning: You are using `torch.load` with `weights_only=False` (the current default value), which uses the default pickle module implicitly. It is possible to construct malicious pickle data which will execute arbitrary code during unpickling (See https://github.com/pytorch/pytorch/blob/main/SECURITY.md#untrusted-models for more details). In a future release, the default value for `weights_only` will be flipped to `True`. This limits the functions that could be executed during unpickling. Arbitrary objects will no longer be allowed to be loaded via this mode unless they are explicitly allowlisted by the user via `torch.serialization.add_safe_globals`. We recommend you start setting `weights_only=True` for any use case where you don't have full control of the loaded file. Please open an issue on GitHub for any issues related to this experimental feature.\n",
      "  model.load_state_dict(torch.load(ckpt_path))\n"
     ]
    },
    {
     "name": "stdout",
     "output_type": "stream",
     "text": [
      "🎯 Test Loss: 0.2025 | Test Accuracy: 0.9302\n",
      "\n",
      "📊 Evaluating all epoch checkpoints on test set:\n"
     ]
    },
    {
     "name": "stderr",
     "output_type": "stream",
     "text": [
      "/tmp/ipykernel_78762/3485870107.py:128: FutureWarning: You are using `torch.load` with `weights_only=False` (the current default value), which uses the default pickle module implicitly. It is possible to construct malicious pickle data which will execute arbitrary code during unpickling (See https://github.com/pytorch/pytorch/blob/main/SECURITY.md#untrusted-models for more details). In a future release, the default value for `weights_only` will be flipped to `True`. This limits the functions that could be executed during unpickling. Arbitrary objects will no longer be allowed to be loaded via this mode unless they are explicitly allowlisted by the user via `torch.serialization.add_safe_globals`. We recommend you start setting `weights_only=True` for any use case where you don't have full control of the loaded file. Please open an issue on GitHub for any issues related to this experimental feature.\n",
      "  model.load_state_dict(torch.load(ckpt_file))\n"
     ]
    },
    {
     "name": "stdout",
     "output_type": "stream",
     "text": [
      "📁 Epoch 01 | Test Loss: 0.2067 | Test Accuracy: 0.9109\n",
      "📁 Epoch 02 | Test Loss: 0.3402 | Test Accuracy: 0.9034\n",
      "📁 Epoch 03 | Test Loss: 0.2025 | Test Accuracy: 0.9302\n",
      "📁 Epoch 04 | Test Loss: 0.1978 | Test Accuracy: 0.9284\n",
      "📁 Epoch 05 | Test Loss: 0.2212 | Test Accuracy: 0.9185\n",
      "📁 Epoch 06 | Test Loss: 0.1853 | Test Accuracy: 0.9249\n",
      "📁 Epoch 07 | Test Loss: 0.2107 | Test Accuracy: 0.9139\n",
      "📁 Epoch 08 | Test Loss: 0.2627 | Test Accuracy: 0.8807\n",
      "📁 Epoch 09 | Test Loss: 0.2870 | Test Accuracy: 0.9086\n",
      "📁 Epoch 10 | Test Loss: 0.3089 | Test Accuracy: 0.9191\n"
     ]
    }
   ],
   "source": [
    "import os\n",
    "import torch\n",
    "import torch.nn as nn\n",
    "import torch.optim as optim\n",
    "from torchvision import transforms\n",
    "from torch.utils.data import DataLoader\n",
    "from torchvision.datasets import ImageFolder\n",
    "from torchvision.models import mobilenet_v3_large, MobileNet_V3_Large_Weights\n",
    "from tqdm.notebook import tqdm\n",
    "\n",
    "# —— 1. 忽略隐藏目录 —— #\n",
    "class FilteredImageFolder(ImageFolder):\n",
    "    def find_classes(self, directory):\n",
    "        classes = [d.name for d in os.scandir(directory) if d.is_dir() and not d.name.startswith('.')]\n",
    "        classes.sort()\n",
    "        class_to_idx = {cls_name: idx for idx, cls_name in enumerate(classes)}\n",
    "        return classes, class_to_idx\n",
    "\n",
    "# —— 2. 配置 —— #\n",
    "train_dir = \"/root/autodl-fs/isic19_20_split/train\"\n",
    "val_dir   = \"/root/autodl-fs/isic19_20_split/val\"\n",
    "test_dir  = \"/root/autodl-fs/isic19_20_split/test\"\n",
    "ckpt_path     = \"/root/autodl-fs/best_mobilenetv3.pth\"\n",
    "batch_size    = 32\n",
    "num_epochs    = 10\n",
    "learning_rate = 1e-3  # MobileNet 通常用较大的学习率\n",
    "device        = torch.device(\"cuda\" if torch.cuda.is_available() else \"cpu\")\n",
    "\n",
    "# —— 3. 使用 MobileNetV3 的官方预处理 —— #\n",
    "weights = MobileNet_V3_Large_Weights.DEFAULT\n",
    "transform = weights.transforms()\n",
    "\n",
    "# —— 4. 加载数据 —— #\n",
    "train_dataset = FilteredImageFolder(root=train_dir, transform=transform)\n",
    "test_dataset  = FilteredImageFolder(root=test_dir,  transform=transform)\n",
    "\n",
    "if os.path.exists(val_dir):\n",
    "    val_dataset = FilteredImageFolder(root=val_dir, transform=transform)\n",
    "else:\n",
    "    val_len = int(len(train_dataset) * 0.15)\n",
    "    train_len = len(train_dataset) - val_len\n",
    "    train_dataset, val_dataset = torch.utils.data.random_split(train_dataset, [train_len, val_len])\n",
    "\n",
    "train_loader = DataLoader(train_dataset, batch_size=batch_size, shuffle=True, num_workers=4)\n",
    "val_loader   = DataLoader(val_dataset,   batch_size=batch_size, shuffle=False, num_workers=4)\n",
    "test_loader  = DataLoader(test_dataset,  batch_size=batch_size, shuffle=False, num_workers=4)\n",
    "\n",
    "# —— 5. MobileNetV3 模型定义 —— #\n",
    "model = mobilenet_v3_large(weights=weights)\n",
    "num_classes = len(train_dataset.dataset.classes if hasattr(train_dataset, 'dataset') else train_dataset.classes)\n",
    "model.classifier[3] = nn.Linear(model.classifier[3].in_features, num_classes)\n",
    "model.to(device)\n",
    "\n",
    "criterion = nn.CrossEntropyLoss()\n",
    "optimizer = optim.Adam(model.parameters(), lr=learning_rate)\n",
    "\n",
    "# —— 6. 训练 + 验证 + 保存最佳模型 —— #\n",
    "best_val_acc = 0.0\n",
    "for epoch in range(num_epochs):\n",
    "    model.train()\n",
    "    train_loss, train_acc = 0.0, 0\n",
    "    for x, y in tqdm(train_loader, desc=f\"Epoch {epoch+1}/{num_epochs}\"):\n",
    "        x, y = x.to(device), y.to(device)\n",
    "        optimizer.zero_grad()\n",
    "        out = model(x)\n",
    "        loss = criterion(out, y)\n",
    "        loss.backward()\n",
    "        optimizer.step()\n",
    "        train_loss += loss.item() * x.size(0)\n",
    "        train_acc += (out.argmax(1) == y).sum().item()\n",
    "\n",
    "    train_loss /= len(train_loader.dataset)\n",
    "    train_acc  /= len(train_loader.dataset)\n",
    "\n",
    "    # 验证\n",
    "    model.eval()\n",
    "    val_loss, val_acc = 0.0, 0\n",
    "    with torch.no_grad():\n",
    "        for x, y in val_loader:\n",
    "            x, y = x.to(device), y.to(device)\n",
    "            out = model(x)\n",
    "            loss = criterion(out, y)\n",
    "            val_loss += loss.item() * x.size(0)\n",
    "            val_acc  += (out.argmax(1) == y).sum().item()\n",
    "    val_loss /= len(val_loader.dataset)\n",
    "    val_acc  /= len(val_loader.dataset)\n",
    "\n",
    "    print(f\"[Epoch {epoch+1}] Train Loss: {train_loss:.4f}, Acc: {train_acc:.4f} | Val Loss: {val_loss:.4f}, Acc: {val_acc:.4f}\")\n",
    "\n",
    "    if val_acc > best_val_acc:\n",
    "        best_val_acc = val_acc\n",
    "        os.makedirs(os.path.dirname(ckpt_path), exist_ok=True)\n",
    "        torch.save(model.state_dict(), ckpt_path)\n",
    "        print(\"✅ Saved Best Model!\")\n",
    "\n",
    "    # 每个 epoch 保存一次模型\n",
    "    epoch_ckpt_path = f\"/root/autodl-fs/ckpt_mobilenetv3/epoch_{epoch+1}.pth\"\n",
    "    os.makedirs(os.path.dirname(epoch_ckpt_path), exist_ok=True)\n",
    "    torch.save(model.state_dict(), epoch_ckpt_path)\n",
    "\n",
    "# —— 7. 测试集评估 —— #\n",
    "model.load_state_dict(torch.load(ckpt_path))\n",
    "model.eval()\n",
    "test_loss, test_acc, total = 0.0, 0, 0\n",
    "with torch.no_grad():\n",
    "    for x, y in test_loader:\n",
    "        x, y = x.to(device), y.to(device)\n",
    "        out = model(x)\n",
    "        loss = criterion(out, y)\n",
    "        test_loss += loss.item() * x.size(0)\n",
    "        test_acc  += (out.argmax(1) == y).sum().item()\n",
    "        total += y.size(0)\n",
    "\n",
    "test_loss /= total\n",
    "test_acc  /= total\n",
    "print(f\"🎯 Test Loss: {test_loss:.4f} | Test Accuracy: {test_acc:.4f}\")\n",
    "\n",
    "# —— 8. 所有 epoch 的模型推理 —— #\n",
    "print(\"\\n📊 Evaluating all epoch checkpoints on test set:\")\n",
    "epoch_results = []\n",
    "\n",
    "for e in range(1, num_epochs + 1):\n",
    "    ckpt_file = f\"/root/autodl-fs/ckpt_mobilenetv3/epoch_{e}.pth\"\n",
    "    if not os.path.exists(ckpt_file):\n",
    "        print(f\"❌ Epoch {e} model not found.\")\n",
    "        continue\n",
    "\n",
    "    model.load_state_dict(torch.load(ckpt_file))\n",
    "    model.eval()\n",
    "\n",
    "    test_loss, test_acc, total = 0.0, 0, 0\n",
    "    with torch.no_grad():\n",
    "        for x, y in test_loader:\n",
    "            x, y = x.to(device), y.to(device)\n",
    "            out = model(x)\n",
    "            loss = criterion(out, y)\n",
    "            test_loss += loss.item() * x.size(0)\n",
    "            test_acc  += (out.argmax(1) == y).sum().item()\n",
    "            total += y.size(0)\n",
    "\n",
    "    test_loss /= total\n",
    "    test_acc  /= total\n",
    "    epoch_results.append((e, test_loss, test_acc))\n",
    "    print(f\"📁 Epoch {e:02d} | Test Loss: {test_loss:.4f} | Test Accuracy: {test_acc:.4f}\")\n"
   ]
  },
  {
   "cell_type": "code",
   "execution_count": 2,
   "id": "d6630b16-f07d-42f0-84f9-344754d4aa33",
   "metadata": {},
   "outputs": [
    {
     "data": {
      "application/vnd.jupyter.widget-view+json": {
       "model_id": "f337d6fe09204e76b0e217e87f4357d1",
       "version_major": 2,
       "version_minor": 0
      },
      "text/plain": [
       "Epoch 1/10:   0%|          | 0/287 [00:00<?, ?it/s]"
      ]
     },
     "metadata": {},
     "output_type": "display_data"
    },
    {
     "name": "stdout",
     "output_type": "stream",
     "text": [
      "[Epoch 1] Train Loss: 0.2550, Acc: 0.9020 | Val Loss: 2.0279, Acc: 0.7659\n",
      "✅ Saved Best Model!\n"
     ]
    },
    {
     "data": {
      "application/vnd.jupyter.widget-view+json": {
       "model_id": "d0d369041b874295bafeacf41d08da9f",
       "version_major": 2,
       "version_minor": 0
      },
      "text/plain": [
       "Epoch 2/10:   0%|          | 0/287 [00:00<?, ?it/s]"
      ]
     },
     "metadata": {},
     "output_type": "display_data"
    },
    {
     "name": "stdout",
     "output_type": "stream",
     "text": [
      "[Epoch 2] Train Loss: 0.2006, Acc: 0.9207 | Val Loss: 0.1984, Acc: 0.9282\n",
      "✅ Saved Best Model!\n"
     ]
    },
    {
     "data": {
      "application/vnd.jupyter.widget-view+json": {
       "model_id": "5306122c7a1841929841e98c2997d9ee",
       "version_major": 2,
       "version_minor": 0
      },
      "text/plain": [
       "Epoch 3/10:   0%|          | 0/287 [00:00<?, ?it/s]"
      ]
     },
     "metadata": {},
     "output_type": "display_data"
    },
    {
     "name": "stdout",
     "output_type": "stream",
     "text": [
      "[Epoch 3] Train Loss: 0.2226, Acc: 0.9143 | Val Loss: 0.2605, Acc: 0.9065\n"
     ]
    },
    {
     "data": {
      "application/vnd.jupyter.widget-view+json": {
       "model_id": "629bdd1d707443fd812ddc3ba70fe0ce",
       "version_major": 2,
       "version_minor": 0
      },
      "text/plain": [
       "Epoch 4/10:   0%|          | 0/287 [00:00<?, ?it/s]"
      ]
     },
     "metadata": {},
     "output_type": "display_data"
    },
    {
     "name": "stdout",
     "output_type": "stream",
     "text": [
      "[Epoch 4] Train Loss: 0.2007, Acc: 0.9235 | Val Loss: 0.1749, Acc: 0.9325\n",
      "✅ Saved Best Model!\n"
     ]
    },
    {
     "data": {
      "application/vnd.jupyter.widget-view+json": {
       "model_id": "7f1c3b0acb5e41b69a74aa6357df6666",
       "version_major": 2,
       "version_minor": 0
      },
      "text/plain": [
       "Epoch 5/10:   0%|          | 0/287 [00:00<?, ?it/s]"
      ]
     },
     "metadata": {},
     "output_type": "display_data"
    },
    {
     "name": "stdout",
     "output_type": "stream",
     "text": [
      "[Epoch 5] Train Loss: 0.1719, Acc: 0.9355 | Val Loss: 0.1817, Acc: 0.9251\n"
     ]
    },
    {
     "data": {
      "application/vnd.jupyter.widget-view+json": {
       "model_id": "731a24541e014c0eb65d76f0bbd62348",
       "version_major": 2,
       "version_minor": 0
      },
      "text/plain": [
       "Epoch 6/10:   0%|          | 0/287 [00:00<?, ?it/s]"
      ]
     },
     "metadata": {},
     "output_type": "display_data"
    },
    {
     "name": "stdout",
     "output_type": "stream",
     "text": [
      "[Epoch 6] Train Loss: 0.1434, Acc: 0.9466 | Val Loss: 0.1820, Acc: 0.9313\n"
     ]
    },
    {
     "data": {
      "application/vnd.jupyter.widget-view+json": {
       "model_id": "209801c952544acfb946689e7827ff04",
       "version_major": 2,
       "version_minor": 0
      },
      "text/plain": [
       "Epoch 7/10:   0%|          | 0/287 [00:00<?, ?it/s]"
      ]
     },
     "metadata": {},
     "output_type": "display_data"
    },
    {
     "name": "stdout",
     "output_type": "stream",
     "text": [
      "[Epoch 7] Train Loss: 0.3450, Acc: 0.9054 | Val Loss: 12.1100, Acc: 0.6477\n"
     ]
    },
    {
     "data": {
      "application/vnd.jupyter.widget-view+json": {
       "model_id": "ea5f21873a7e4799b79e8973b9e67f18",
       "version_major": 2,
       "version_minor": 0
      },
      "text/plain": [
       "Epoch 8/10:   0%|          | 0/287 [00:00<?, ?it/s]"
      ]
     },
     "metadata": {},
     "output_type": "display_data"
    },
    {
     "name": "stdout",
     "output_type": "stream",
     "text": [
      "[Epoch 8] Train Loss: 0.2369, Acc: 0.9067 | Val Loss: 0.2250, Acc: 0.9146\n"
     ]
    },
    {
     "data": {
      "application/vnd.jupyter.widget-view+json": {
       "model_id": "aa73e1091f654cd79ab9e2c94e05b40c",
       "version_major": 2,
       "version_minor": 0
      },
      "text/plain": [
       "Epoch 9/10:   0%|          | 0/287 [00:00<?, ?it/s]"
      ]
     },
     "metadata": {},
     "output_type": "display_data"
    },
    {
     "name": "stdout",
     "output_type": "stream",
     "text": [
      "[Epoch 9] Train Loss: 0.1994, Acc: 0.9214 | Val Loss: 0.2071, Acc: 0.9195\n"
     ]
    },
    {
     "data": {
      "application/vnd.jupyter.widget-view+json": {
       "model_id": "20ec6402a57544c9a1662b0010ba2acf",
       "version_major": 2,
       "version_minor": 0
      },
      "text/plain": [
       "Epoch 10/10:   0%|          | 0/287 [00:00<?, ?it/s]"
      ]
     },
     "metadata": {},
     "output_type": "display_data"
    },
    {
     "name": "stdout",
     "output_type": "stream",
     "text": [
      "[Epoch 10] Train Loss: 0.1783, Acc: 0.9322 | Val Loss: 0.1794, Acc: 0.9319\n"
     ]
    },
    {
     "name": "stderr",
     "output_type": "stream",
     "text": [
      "/tmp/ipykernel_78762/894820141.py:102: FutureWarning: You are using `torch.load` with `weights_only=False` (the current default value), which uses the default pickle module implicitly. It is possible to construct malicious pickle data which will execute arbitrary code during unpickling (See https://github.com/pytorch/pytorch/blob/main/SECURITY.md#untrusted-models for more details). In a future release, the default value for `weights_only` will be flipped to `True`. This limits the functions that could be executed during unpickling. Arbitrary objects will no longer be allowed to be loaded via this mode unless they are explicitly allowlisted by the user via `torch.serialization.add_safe_globals`. We recommend you start setting `weights_only=True` for any use case where you don't have full control of the loaded file. Please open an issue on GitHub for any issues related to this experimental feature.\n",
      "  model.load_state_dict(torch.load(ckpt_path))\n"
     ]
    },
    {
     "name": "stdout",
     "output_type": "stream",
     "text": [
      "🎯 Test Loss: 0.2493 | Test Accuracy: 0.9019\n",
      "\n",
      "📊 Evaluating all epoch checkpoints on test set:\n"
     ]
    },
    {
     "name": "stderr",
     "output_type": "stream",
     "text": [
      "/tmp/ipykernel_78762/894820141.py:128: FutureWarning: You are using `torch.load` with `weights_only=False` (the current default value), which uses the default pickle module implicitly. It is possible to construct malicious pickle data which will execute arbitrary code during unpickling (See https://github.com/pytorch/pytorch/blob/main/SECURITY.md#untrusted-models for more details). In a future release, the default value for `weights_only` will be flipped to `True`. This limits the functions that could be executed during unpickling. Arbitrary objects will no longer be allowed to be loaded via this mode unless they are explicitly allowlisted by the user via `torch.serialization.add_safe_globals`. We recommend you start setting `weights_only=True` for any use case where you don't have full control of the loaded file. Please open an issue on GitHub for any issues related to this experimental feature.\n",
      "  model.load_state_dict(torch.load(ckpt_file))\n"
     ]
    },
    {
     "name": "stdout",
     "output_type": "stream",
     "text": [
      "📁 Epoch 01 | Test Loss: 0.5278 | Test Accuracy: 0.8536\n",
      "📁 Epoch 02 | Test Loss: 0.2966 | Test Accuracy: 0.8858\n",
      "📁 Epoch 03 | Test Loss: 0.3168 | Test Accuracy: 0.8726\n",
      "📁 Epoch 04 | Test Loss: 0.2493 | Test Accuracy: 0.9019\n",
      "📁 Epoch 05 | Test Loss: 0.2775 | Test Accuracy: 0.9004\n",
      "📁 Epoch 06 | Test Loss: 0.3817 | Test Accuracy: 0.8653\n",
      "📁 Epoch 07 | Test Loss: 133.3426 | Test Accuracy: 0.3075\n",
      "📁 Epoch 08 | Test Loss: 0.4779 | Test Accuracy: 0.8551\n",
      "📁 Epoch 09 | Test Loss: 0.2708 | Test Accuracy: 0.8960\n",
      "📁 Epoch 10 | Test Loss: 0.2940 | Test Accuracy: 0.8770\n"
     ]
    }
   ],
   "source": [
    "import os\n",
    "import torch\n",
    "import torch.nn as nn\n",
    "import torch.optim as optim\n",
    "from torchvision import transforms\n",
    "from torch.utils.data import DataLoader\n",
    "from torchvision.datasets import ImageFolder\n",
    "from torchvision.models import mobilenet_v3_large, MobileNet_V3_Large_Weights\n",
    "from tqdm.notebook import tqdm\n",
    "\n",
    "# —— 1. 忽略隐藏目录 —— #\n",
    "class FilteredImageFolder(ImageFolder):\n",
    "    def find_classes(self, directory):\n",
    "        classes = [d.name for d in os.scandir(directory) if d.is_dir() and not d.name.startswith('.')]\n",
    "        classes.sort()\n",
    "        class_to_idx = {cls_name: idx for idx, cls_name in enumerate(classes)}\n",
    "        return classes, class_to_idx\n",
    "\n",
    "# —— 2. 配置 —— #\n",
    "train_dir = \"/root/autodl-fs/processed/processed/train\"\n",
    "val_dir   = \"/root/autodl-fs/processed/processed/val\"\n",
    "test_dir  = \"/root/autodl-fs/processed/processed/test\"\n",
    "ckpt_path     = \"/root/autodl-fs/best_mobilenetv3.pth\"\n",
    "batch_size    = 32\n",
    "num_epochs    = 10\n",
    "learning_rate = 1e-3  # MobileNet 通常用较大的学习率\n",
    "device        = torch.device(\"cuda\" if torch.cuda.is_available() else \"cpu\")\n",
    "\n",
    "# —— 3. 使用 MobileNetV3 的官方预处理 —— #\n",
    "weights = MobileNet_V3_Large_Weights.DEFAULT\n",
    "transform = weights.transforms()\n",
    "\n",
    "# —— 4. 加载数据 —— #\n",
    "train_dataset = FilteredImageFolder(root=train_dir, transform=transform)\n",
    "test_dataset  = FilteredImageFolder(root=test_dir,  transform=transform)\n",
    "\n",
    "if os.path.exists(val_dir):\n",
    "    val_dataset = FilteredImageFolder(root=val_dir, transform=transform)\n",
    "else:\n",
    "    val_len = int(len(train_dataset) * 0.15)\n",
    "    train_len = len(train_dataset) - val_len\n",
    "    train_dataset, val_dataset = torch.utils.data.random_split(train_dataset, [train_len, val_len])\n",
    "\n",
    "train_loader = DataLoader(train_dataset, batch_size=batch_size, shuffle=True, num_workers=4)\n",
    "val_loader   = DataLoader(val_dataset,   batch_size=batch_size, shuffle=False, num_workers=4)\n",
    "test_loader  = DataLoader(test_dataset,  batch_size=batch_size, shuffle=False, num_workers=4)\n",
    "\n",
    "# —— 5. MobileNetV3 模型定义 —— #\n",
    "model = mobilenet_v3_large(weights=weights)\n",
    "num_classes = len(train_dataset.dataset.classes if hasattr(train_dataset, 'dataset') else train_dataset.classes)\n",
    "model.classifier[3] = nn.Linear(model.classifier[3].in_features, num_classes)\n",
    "model.to(device)\n",
    "\n",
    "criterion = nn.CrossEntropyLoss()\n",
    "optimizer = optim.Adam(model.parameters(), lr=learning_rate)\n",
    "\n",
    "# —— 6. 训练 + 验证 + 保存最佳模型 —— #\n",
    "best_val_acc = 0.0\n",
    "for epoch in range(num_epochs):\n",
    "    model.train()\n",
    "    train_loss, train_acc = 0.0, 0\n",
    "    for x, y in tqdm(train_loader, desc=f\"Epoch {epoch+1}/{num_epochs}\"):\n",
    "        x, y = x.to(device), y.to(device)\n",
    "        optimizer.zero_grad()\n",
    "        out = model(x)\n",
    "        loss = criterion(out, y)\n",
    "        loss.backward()\n",
    "        optimizer.step()\n",
    "        train_loss += loss.item() * x.size(0)\n",
    "        train_acc += (out.argmax(1) == y).sum().item()\n",
    "\n",
    "    train_loss /= len(train_loader.dataset)\n",
    "    train_acc  /= len(train_loader.dataset)\n",
    "\n",
    "    # 验证\n",
    "    model.eval()\n",
    "    val_loss, val_acc = 0.0, 0\n",
    "    with torch.no_grad():\n",
    "        for x, y in val_loader:\n",
    "            x, y = x.to(device), y.to(device)\n",
    "            out = model(x)\n",
    "            loss = criterion(out, y)\n",
    "            val_loss += loss.item() * x.size(0)\n",
    "            val_acc  += (out.argmax(1) == y).sum().item()\n",
    "    val_loss /= len(val_loader.dataset)\n",
    "    val_acc  /= len(val_loader.dataset)\n",
    "\n",
    "    print(f\"[Epoch {epoch+1}] Train Loss: {train_loss:.4f}, Acc: {train_acc:.4f} | Val Loss: {val_loss:.4f}, Acc: {val_acc:.4f}\")\n",
    "\n",
    "    if val_acc > best_val_acc:\n",
    "        best_val_acc = val_acc\n",
    "        os.makedirs(os.path.dirname(ckpt_path), exist_ok=True)\n",
    "        torch.save(model.state_dict(), ckpt_path)\n",
    "        print(\"✅ Saved Best Model!\")\n",
    "\n",
    "    # 每个 epoch 保存一次模型\n",
    "    epoch_ckpt_path = f\"/root/autodl-fs/ckpt_mobilenetv3/epoch_{epoch+1}.pth\"\n",
    "    os.makedirs(os.path.dirname(epoch_ckpt_path), exist_ok=True)\n",
    "    torch.save(model.state_dict(), epoch_ckpt_path)\n",
    "\n",
    "# —— 7. 测试集评估 —— #\n",
    "model.load_state_dict(torch.load(ckpt_path))\n",
    "model.eval()\n",
    "test_loss, test_acc, total = 0.0, 0, 0\n",
    "with torch.no_grad():\n",
    "    for x, y in test_loader:\n",
    "        x, y = x.to(device), y.to(device)\n",
    "        out = model(x)\n",
    "        loss = criterion(out, y)\n",
    "        test_loss += loss.item() * x.size(0)\n",
    "        test_acc  += (out.argmax(1) == y).sum().item()\n",
    "        total += y.size(0)\n",
    "\n",
    "test_loss /= total\n",
    "test_acc  /= total\n",
    "print(f\"🎯 Test Loss: {test_loss:.4f} | Test Accuracy: {test_acc:.4f}\")\n",
    "\n",
    "# —— 8. 所有 epoch 的模型推理 —— #\n",
    "print(\"\\n📊 Evaluating all epoch checkpoints on test set:\")\n",
    "epoch_results = []\n",
    "\n",
    "for e in range(1, num_epochs + 1):\n",
    "    ckpt_file = f\"/root/autodl-fs/ckpt_mobilenetv3/epoch_{e}.pth\"\n",
    "    if not os.path.exists(ckpt_file):\n",
    "        print(f\"❌ Epoch {e} model not found.\")\n",
    "        continue\n",
    "\n",
    "    model.load_state_dict(torch.load(ckpt_file))\n",
    "    model.eval()\n",
    "\n",
    "    test_loss, test_acc, total = 0.0, 0, 0\n",
    "    with torch.no_grad():\n",
    "        for x, y in test_loader:\n",
    "            x, y = x.to(device), y.to(device)\n",
    "            out = model(x)\n",
    "            loss = criterion(out, y)\n",
    "            test_loss += loss.item() * x.size(0)\n",
    "            test_acc  += (out.argmax(1) == y).sum().item()\n",
    "            total += y.size(0)\n",
    "\n",
    "    test_loss /= total\n",
    "    test_acc  /= total\n",
    "    epoch_results.append((e, test_loss, test_acc))\n",
    "    print(f\"📁 Epoch {e:02d} | Test Loss: {test_loss:.4f} | Test Accuracy: {test_acc:.4f}\")\n"
   ]
  },
  {
   "cell_type": "code",
   "execution_count": 3,
   "id": "5abd2484-d080-443b-b1b5-bc818231e69b",
   "metadata": {},
   "outputs": [
    {
     "data": {
      "application/vnd.jupyter.widget-view+json": {
       "model_id": "0e575812c9934aeaa36815b76eefde48",
       "version_major": 2,
       "version_minor": 0
      },
      "text/plain": [
       "Epoch 1/10:   0%|          | 0/286 [00:00<?, ?it/s]"
      ]
     },
     "metadata": {},
     "output_type": "display_data"
    },
    {
     "name": "stdout",
     "output_type": "stream",
     "text": [
      "[Epoch 1] Train Loss: 0.2599, Acc: 0.8986 | Val Loss: 0.2102, Acc: 0.9189\n",
      "✅ Saved Best Model!\n"
     ]
    },
    {
     "data": {
      "application/vnd.jupyter.widget-view+json": {
       "model_id": "58f3f8cc1874413c8cb5e5abc7a0a1ea",
       "version_major": 2,
       "version_minor": 0
      },
      "text/plain": [
       "Epoch 2/10:   0%|          | 0/286 [00:00<?, ?it/s]"
      ]
     },
     "metadata": {},
     "output_type": "display_data"
    },
    {
     "name": "stdout",
     "output_type": "stream",
     "text": [
      "[Epoch 2] Train Loss: 0.2079, Acc: 0.9198 | Val Loss: 0.3265, Acc: 0.8693\n"
     ]
    },
    {
     "data": {
      "application/vnd.jupyter.widget-view+json": {
       "model_id": "2811a7b73ba246b48660d4b05bfbb6b8",
       "version_major": 2,
       "version_minor": 0
      },
      "text/plain": [
       "Epoch 3/10:   0%|          | 0/286 [00:00<?, ?it/s]"
      ]
     },
     "metadata": {},
     "output_type": "display_data"
    },
    {
     "name": "stdout",
     "output_type": "stream",
     "text": [
      "[Epoch 3] Train Loss: 0.1772, Acc: 0.9308 | Val Loss: 0.2311, Acc: 0.9133\n"
     ]
    },
    {
     "data": {
      "application/vnd.jupyter.widget-view+json": {
       "model_id": "f18ff4de3ff74e519278d0cb3d27df89",
       "version_major": 2,
       "version_minor": 0
      },
      "text/plain": [
       "Epoch 4/10:   0%|          | 0/286 [00:00<?, ?it/s]"
      ]
     },
     "metadata": {},
     "output_type": "display_data"
    },
    {
     "name": "stdout",
     "output_type": "stream",
     "text": [
      "[Epoch 4] Train Loss: 0.1531, Acc: 0.9420 | Val Loss: 0.2407, Acc: 0.9232\n",
      "✅ Saved Best Model!\n"
     ]
    },
    {
     "data": {
      "application/vnd.jupyter.widget-view+json": {
       "model_id": "7cf8f487750c4ae1ba20432e369f808d",
       "version_major": 2,
       "version_minor": 0
      },
      "text/plain": [
       "Epoch 5/10:   0%|          | 0/286 [00:00<?, ?it/s]"
      ]
     },
     "metadata": {},
     "output_type": "display_data"
    },
    {
     "name": "stdout",
     "output_type": "stream",
     "text": [
      "[Epoch 5] Train Loss: 0.1323, Acc: 0.9488 | Val Loss: 0.2204, Acc: 0.9207\n"
     ]
    },
    {
     "data": {
      "application/vnd.jupyter.widget-view+json": {
       "model_id": "584a44224d8b4d2cae4980b5f6828828",
       "version_major": 2,
       "version_minor": 0
      },
      "text/plain": [
       "Epoch 6/10:   0%|          | 0/286 [00:00<?, ?it/s]"
      ]
     },
     "metadata": {},
     "output_type": "display_data"
    },
    {
     "name": "stdout",
     "output_type": "stream",
     "text": [
      "[Epoch 6] Train Loss: 0.1065, Acc: 0.9588 | Val Loss: 0.2681, Acc: 0.9077\n"
     ]
    },
    {
     "data": {
      "application/vnd.jupyter.widget-view+json": {
       "model_id": "021a859798e34cf886b2f78782aa1c2a",
       "version_major": 2,
       "version_minor": 0
      },
      "text/plain": [
       "Epoch 7/10:   0%|          | 0/286 [00:00<?, ?it/s]"
      ]
     },
     "metadata": {},
     "output_type": "display_data"
    },
    {
     "name": "stdout",
     "output_type": "stream",
     "text": [
      "[Epoch 7] Train Loss: 0.0806, Acc: 0.9674 | Val Loss: 0.2855, Acc: 0.9108\n"
     ]
    },
    {
     "data": {
      "application/vnd.jupyter.widget-view+json": {
       "model_id": "fbac3ffb1b4c495fa4bb052ff4a275a4",
       "version_major": 2,
       "version_minor": 0
      },
      "text/plain": [
       "Epoch 8/10:   0%|          | 0/286 [00:00<?, ?it/s]"
      ]
     },
     "metadata": {},
     "output_type": "display_data"
    },
    {
     "name": "stdout",
     "output_type": "stream",
     "text": [
      "[Epoch 8] Train Loss: 0.0795, Acc: 0.9698 | Val Loss: 0.2554, Acc: 0.9139\n"
     ]
    },
    {
     "data": {
      "application/vnd.jupyter.widget-view+json": {
       "model_id": "797742ae984d4afcb4580f368e629943",
       "version_major": 2,
       "version_minor": 0
      },
      "text/plain": [
       "Epoch 9/10:   0%|          | 0/286 [00:00<?, ?it/s]"
      ]
     },
     "metadata": {},
     "output_type": "display_data"
    },
    {
     "name": "stdout",
     "output_type": "stream",
     "text": [
      "[Epoch 9] Train Loss: 0.0599, Acc: 0.9787 | Val Loss: 0.2471, Acc: 0.9071\n"
     ]
    },
    {
     "data": {
      "application/vnd.jupyter.widget-view+json": {
       "model_id": "d9d170a3dbdf431b893fc344a9d31a02",
       "version_major": 2,
       "version_minor": 0
      },
      "text/plain": [
       "Epoch 10/10:   0%|          | 0/286 [00:00<?, ?it/s]"
      ]
     },
     "metadata": {},
     "output_type": "display_data"
    },
    {
     "name": "stdout",
     "output_type": "stream",
     "text": [
      "[Epoch 10] Train Loss: 0.0483, Acc: 0.9825 | Val Loss: 0.6662, Acc: 0.8712\n"
     ]
    },
    {
     "name": "stderr",
     "output_type": "stream",
     "text": [
      "/tmp/ipykernel_78762/3926138629.py:102: FutureWarning: You are using `torch.load` with `weights_only=False` (the current default value), which uses the default pickle module implicitly. It is possible to construct malicious pickle data which will execute arbitrary code during unpickling (See https://github.com/pytorch/pytorch/blob/main/SECURITY.md#untrusted-models for more details). In a future release, the default value for `weights_only` will be flipped to `True`. This limits the functions that could be executed during unpickling. Arbitrary objects will no longer be allowed to be loaded via this mode unless they are explicitly allowlisted by the user via `torch.serialization.add_safe_globals`. We recommend you start setting `weights_only=True` for any use case where you don't have full control of the loaded file. Please open an issue on GitHub for any issues related to this experimental feature.\n",
      "  model.load_state_dict(torch.load(ckpt_path))\n"
     ]
    },
    {
     "name": "stdout",
     "output_type": "stream",
     "text": [
      "🎯 Test Loss: 0.2741 | Test Accuracy: 0.9048\n",
      "\n",
      "📊 Evaluating all epoch checkpoints on test set:\n"
     ]
    },
    {
     "name": "stderr",
     "output_type": "stream",
     "text": [
      "/tmp/ipykernel_78762/3926138629.py:128: FutureWarning: You are using `torch.load` with `weights_only=False` (the current default value), which uses the default pickle module implicitly. It is possible to construct malicious pickle data which will execute arbitrary code during unpickling (See https://github.com/pytorch/pytorch/blob/main/SECURITY.md#untrusted-models for more details). In a future release, the default value for `weights_only` will be flipped to `True`. This limits the functions that could be executed during unpickling. Arbitrary objects will no longer be allowed to be loaded via this mode unless they are explicitly allowlisted by the user via `torch.serialization.add_safe_globals`. We recommend you start setting `weights_only=True` for any use case where you don't have full control of the loaded file. Please open an issue on GitHub for any issues related to this experimental feature.\n",
      "  model.load_state_dict(torch.load(ckpt_file))\n"
     ]
    },
    {
     "name": "stdout",
     "output_type": "stream",
     "text": [
      "📁 Epoch 01 | Test Loss: 0.2525 | Test Accuracy: 0.9151\n",
      "📁 Epoch 02 | Test Loss: 0.3411 | Test Accuracy: 0.8594\n",
      "📁 Epoch 03 | Test Loss: 0.3090 | Test Accuracy: 0.8755\n",
      "📁 Epoch 04 | Test Loss: 0.2741 | Test Accuracy: 0.9048\n",
      "📁 Epoch 05 | Test Loss: 0.2562 | Test Accuracy: 0.9136\n",
      "📁 Epoch 06 | Test Loss: 0.2957 | Test Accuracy: 0.9034\n",
      "📁 Epoch 07 | Test Loss: 0.3783 | Test Accuracy: 0.9019\n",
      "📁 Epoch 08 | Test Loss: 0.3786 | Test Accuracy: 0.8741\n",
      "📁 Epoch 09 | Test Loss: 0.2833 | Test Accuracy: 0.9048\n",
      "📁 Epoch 10 | Test Loss: 0.4722 | Test Accuracy: 0.8712\n"
     ]
    }
   ],
   "source": [
    "import os\n",
    "import torch\n",
    "import torch.nn as nn\n",
    "import torch.optim as optim\n",
    "from torchvision import transforms\n",
    "from torch.utils.data import DataLoader\n",
    "from torchvision.datasets import ImageFolder\n",
    "from torchvision.models import mobilenet_v3_large, MobileNet_V3_Large_Weights\n",
    "from tqdm.notebook import tqdm\n",
    "\n",
    "# —— 1. 忽略隐藏目录 —— #\n",
    "class FilteredImageFolder(ImageFolder):\n",
    "    def find_classes(self, directory):\n",
    "        classes = [d.name for d in os.scandir(directory) if d.is_dir() and not d.name.startswith('.')]\n",
    "        classes.sort()\n",
    "        class_to_idx = {cls_name: idx for idx, cls_name in enumerate(classes)}\n",
    "        return classes, class_to_idx\n",
    "\n",
    "# —— 2. 配置 —— #\n",
    "train_dir = \"/root/autodl-fs/generate/train\"\n",
    "val_dir   = \"/root/autodl-fs/generate/val\"\n",
    "test_dir  = \"/root/autodl-fs/generate/test\"\n",
    "ckpt_path     = \"/root/autodl-fs/best_mobilenetv3.pth\"\n",
    "batch_size    = 32\n",
    "num_epochs    = 10\n",
    "learning_rate = 1e-3  # MobileNet 通常用较大的学习率\n",
    "device        = torch.device(\"cuda\" if torch.cuda.is_available() else \"cpu\")\n",
    "\n",
    "# —— 3. 使用 MobileNetV3 的官方预处理 —— #\n",
    "weights = MobileNet_V3_Large_Weights.DEFAULT\n",
    "transform = weights.transforms()\n",
    "\n",
    "# —— 4. 加载数据 —— #\n",
    "train_dataset = FilteredImageFolder(root=train_dir, transform=transform)\n",
    "test_dataset  = FilteredImageFolder(root=test_dir,  transform=transform)\n",
    "\n",
    "if os.path.exists(val_dir):\n",
    "    val_dataset = FilteredImageFolder(root=val_dir, transform=transform)\n",
    "else:\n",
    "    val_len = int(len(train_dataset) * 0.15)\n",
    "    train_len = len(train_dataset) - val_len\n",
    "    train_dataset, val_dataset = torch.utils.data.random_split(train_dataset, [train_len, val_len])\n",
    "\n",
    "train_loader = DataLoader(train_dataset, batch_size=batch_size, shuffle=True, num_workers=4)\n",
    "val_loader   = DataLoader(val_dataset,   batch_size=batch_size, shuffle=False, num_workers=4)\n",
    "test_loader  = DataLoader(test_dataset,  batch_size=batch_size, shuffle=False, num_workers=4)\n",
    "\n",
    "# —— 5. MobileNetV3 模型定义 —— #\n",
    "model = mobilenet_v3_large(weights=weights)\n",
    "num_classes = len(train_dataset.dataset.classes if hasattr(train_dataset, 'dataset') else train_dataset.classes)\n",
    "model.classifier[3] = nn.Linear(model.classifier[3].in_features, num_classes)\n",
    "model.to(device)\n",
    "\n",
    "criterion = nn.CrossEntropyLoss()\n",
    "optimizer = optim.Adam(model.parameters(), lr=learning_rate)\n",
    "\n",
    "# —— 6. 训练 + 验证 + 保存最佳模型 —— #\n",
    "best_val_acc = 0.0\n",
    "for epoch in range(num_epochs):\n",
    "    model.train()\n",
    "    train_loss, train_acc = 0.0, 0\n",
    "    for x, y in tqdm(train_loader, desc=f\"Epoch {epoch+1}/{num_epochs}\"):\n",
    "        x, y = x.to(device), y.to(device)\n",
    "        optimizer.zero_grad()\n",
    "        out = model(x)\n",
    "        loss = criterion(out, y)\n",
    "        loss.backward()\n",
    "        optimizer.step()\n",
    "        train_loss += loss.item() * x.size(0)\n",
    "        train_acc += (out.argmax(1) == y).sum().item()\n",
    "\n",
    "    train_loss /= len(train_loader.dataset)\n",
    "    train_acc  /= len(train_loader.dataset)\n",
    "\n",
    "    # 验证\n",
    "    model.eval()\n",
    "    val_loss, val_acc = 0.0, 0\n",
    "    with torch.no_grad():\n",
    "        for x, y in val_loader:\n",
    "            x, y = x.to(device), y.to(device)\n",
    "            out = model(x)\n",
    "            loss = criterion(out, y)\n",
    "            val_loss += loss.item() * x.size(0)\n",
    "            val_acc  += (out.argmax(1) == y).sum().item()\n",
    "    val_loss /= len(val_loader.dataset)\n",
    "    val_acc  /= len(val_loader.dataset)\n",
    "\n",
    "    print(f\"[Epoch {epoch+1}] Train Loss: {train_loss:.4f}, Acc: {train_acc:.4f} | Val Loss: {val_loss:.4f}, Acc: {val_acc:.4f}\")\n",
    "\n",
    "    if val_acc > best_val_acc:\n",
    "        best_val_acc = val_acc\n",
    "        os.makedirs(os.path.dirname(ckpt_path), exist_ok=True)\n",
    "        torch.save(model.state_dict(), ckpt_path)\n",
    "        print(\"✅ Saved Best Model!\")\n",
    "\n",
    "    # 每个 epoch 保存一次模型\n",
    "    epoch_ckpt_path = f\"/root/autodl-fs/ckpt_mobilenetv3/epoch_{epoch+1}.pth\"\n",
    "    os.makedirs(os.path.dirname(epoch_ckpt_path), exist_ok=True)\n",
    "    torch.save(model.state_dict(), epoch_ckpt_path)\n",
    "\n",
    "# —— 7. 测试集评估 —— #\n",
    "model.load_state_dict(torch.load(ckpt_path))\n",
    "model.eval()\n",
    "test_loss, test_acc, total = 0.0, 0, 0\n",
    "with torch.no_grad():\n",
    "    for x, y in test_loader:\n",
    "        x, y = x.to(device), y.to(device)\n",
    "        out = model(x)\n",
    "        loss = criterion(out, y)\n",
    "        test_loss += loss.item() * x.size(0)\n",
    "        test_acc  += (out.argmax(1) == y).sum().item()\n",
    "        total += y.size(0)\n",
    "\n",
    "test_loss /= total\n",
    "test_acc  /= total\n",
    "print(f\"🎯 Test Loss: {test_loss:.4f} | Test Accuracy: {test_acc:.4f}\")\n",
    "\n",
    "# —— 8. 所有 epoch 的模型推理 —— #\n",
    "print(\"\\n📊 Evaluating all epoch checkpoints on test set:\")\n",
    "epoch_results = []\n",
    "\n",
    "for e in range(1, num_epochs + 1):\n",
    "    ckpt_file = f\"/root/autodl-fs/ckpt_mobilenetv3/epoch_{e}.pth\"\n",
    "    if not os.path.exists(ckpt_file):\n",
    "        print(f\"❌ Epoch {e} model not found.\")\n",
    "        continue\n",
    "\n",
    "    model.load_state_dict(torch.load(ckpt_file))\n",
    "    model.eval()\n",
    "\n",
    "    test_loss, test_acc, total = 0.0, 0, 0\n",
    "    with torch.no_grad():\n",
    "        for x, y in test_loader:\n",
    "            x, y = x.to(device), y.to(device)\n",
    "            out = model(x)\n",
    "            loss = criterion(out, y)\n",
    "            test_loss += loss.item() * x.size(0)\n",
    "            test_acc  += (out.argmax(1) == y).sum().item()\n",
    "            total += y.size(0)\n",
    "\n",
    "    test_loss /= total\n",
    "    test_acc  /= total\n",
    "    epoch_results.append((e, test_loss, test_acc))\n",
    "    print(f\"📁 Epoch {e:02d} | Test Loss: {test_loss:.4f} | Test Accuracy: {test_acc:.4f}\")\n"
   ]
  },
  {
   "cell_type": "code",
   "execution_count": 4,
   "id": "ae3c1ca3-e2fa-4a9e-b333-3260d640aedc",
   "metadata": {},
   "outputs": [
    {
     "data": {
      "application/vnd.jupyter.widget-view+json": {
       "model_id": "c68f5034e1f54ed2886c8fe0fc2c8904",
       "version_major": 2,
       "version_minor": 0
      },
      "text/plain": [
       "Epoch 1/10:   0%|          | 0/283 [00:00<?, ?it/s]"
      ]
     },
     "metadata": {},
     "output_type": "display_data"
    },
    {
     "name": "stdout",
     "output_type": "stream",
     "text": [
      "[Epoch 1] Train Loss: 0.3412, Acc: 0.8550 | Val Loss: 0.3733, Acc: 0.8747\n",
      "✅ Saved Best Model!\n"
     ]
    },
    {
     "data": {
      "application/vnd.jupyter.widget-view+json": {
       "model_id": "e44da2cc41a448cea2c2ad8143190930",
       "version_major": 2,
       "version_minor": 0
      },
      "text/plain": [
       "Epoch 2/10:   0%|          | 0/283 [00:00<?, ?it/s]"
      ]
     },
     "metadata": {},
     "output_type": "display_data"
    },
    {
     "name": "stdout",
     "output_type": "stream",
     "text": [
      "[Epoch 2] Train Loss: 0.2834, Acc: 0.8819 | Val Loss: 0.3441, Acc: 0.8647\n"
     ]
    },
    {
     "data": {
      "application/vnd.jupyter.widget-view+json": {
       "model_id": "8c9b282d14554e1aad040713ba1a36bb",
       "version_major": 2,
       "version_minor": 0
      },
      "text/plain": [
       "Epoch 3/10:   0%|          | 0/283 [00:00<?, ?it/s]"
      ]
     },
     "metadata": {},
     "output_type": "display_data"
    },
    {
     "name": "stdout",
     "output_type": "stream",
     "text": [
      "[Epoch 3] Train Loss: 0.2603, Acc: 0.8901 | Val Loss: 0.2828, Acc: 0.8672\n"
     ]
    },
    {
     "data": {
      "application/vnd.jupyter.widget-view+json": {
       "model_id": "9d0daf45287044b68965c10991f56fc4",
       "version_major": 2,
       "version_minor": 0
      },
      "text/plain": [
       "Epoch 4/10:   0%|          | 0/283 [00:00<?, ?it/s]"
      ]
     },
     "metadata": {},
     "output_type": "display_data"
    },
    {
     "name": "stdout",
     "output_type": "stream",
     "text": [
      "[Epoch 4] Train Loss: 0.2332, Acc: 0.9046 | Val Loss: 0.3058, Acc: 0.8866\n",
      "✅ Saved Best Model!\n"
     ]
    },
    {
     "data": {
      "application/vnd.jupyter.widget-view+json": {
       "model_id": "40da05617b0b43d2b14a42e7d2f63e41",
       "version_major": 2,
       "version_minor": 0
      },
      "text/plain": [
       "Epoch 5/10:   0%|          | 0/283 [00:00<?, ?it/s]"
      ]
     },
     "metadata": {},
     "output_type": "display_data"
    },
    {
     "name": "stdout",
     "output_type": "stream",
     "text": [
      "[Epoch 5] Train Loss: 0.2191, Acc: 0.9119 | Val Loss: 0.3238, Acc: 0.8716\n"
     ]
    },
    {
     "data": {
      "application/vnd.jupyter.widget-view+json": {
       "model_id": "d070a128cc194f73831f61313d39251f",
       "version_major": 2,
       "version_minor": 0
      },
      "text/plain": [
       "Epoch 6/10:   0%|          | 0/283 [00:00<?, ?it/s]"
      ]
     },
     "metadata": {},
     "output_type": "display_data"
    },
    {
     "name": "stdout",
     "output_type": "stream",
     "text": [
      "[Epoch 6] Train Loss: 0.1874, Acc: 0.9242 | Val Loss: 0.4650, Acc: 0.8108\n"
     ]
    },
    {
     "data": {
      "application/vnd.jupyter.widget-view+json": {
       "model_id": "f60e9652d0a241a68a17b0cfbbea92c1",
       "version_major": 2,
       "version_minor": 0
      },
      "text/plain": [
       "Epoch 7/10:   0%|          | 0/283 [00:00<?, ?it/s]"
      ]
     },
     "metadata": {},
     "output_type": "display_data"
    },
    {
     "name": "stdout",
     "output_type": "stream",
     "text": [
      "[Epoch 7] Train Loss: 0.1561, Acc: 0.9353 | Val Loss: 0.2924, Acc: 0.8885\n",
      "✅ Saved Best Model!\n"
     ]
    },
    {
     "data": {
      "application/vnd.jupyter.widget-view+json": {
       "model_id": "de84ee7117134fc59eff756de4474e8b",
       "version_major": 2,
       "version_minor": 0
      },
      "text/plain": [
       "Epoch 8/10:   0%|          | 0/283 [00:00<?, ?it/s]"
      ]
     },
     "metadata": {},
     "output_type": "display_data"
    },
    {
     "name": "stdout",
     "output_type": "stream",
     "text": [
      "[Epoch 8] Train Loss: 0.1350, Acc: 0.9461 | Val Loss: 0.3535, Acc: 0.8615\n"
     ]
    },
    {
     "data": {
      "application/vnd.jupyter.widget-view+json": {
       "model_id": "d76f637ea3fa47e9a1237ff83db0e484",
       "version_major": 2,
       "version_minor": 0
      },
      "text/plain": [
       "Epoch 9/10:   0%|          | 0/283 [00:00<?, ?it/s]"
      ]
     },
     "metadata": {},
     "output_type": "display_data"
    },
    {
     "name": "stdout",
     "output_type": "stream",
     "text": [
      "[Epoch 9] Train Loss: 0.1155, Acc: 0.9548 | Val Loss: 0.5399, Acc: 0.8741\n"
     ]
    },
    {
     "data": {
      "application/vnd.jupyter.widget-view+json": {
       "model_id": "2be82e4a1cbf40128dc28ef14f298b9e",
       "version_major": 2,
       "version_minor": 0
      },
      "text/plain": [
       "Epoch 10/10:   0%|          | 0/283 [00:00<?, ?it/s]"
      ]
     },
     "metadata": {},
     "output_type": "display_data"
    },
    {
     "name": "stdout",
     "output_type": "stream",
     "text": [
      "[Epoch 10] Train Loss: 0.1037, Acc: 0.9616 | Val Loss: 0.3616, Acc: 0.8866\n"
     ]
    },
    {
     "name": "stderr",
     "output_type": "stream",
     "text": [
      "/tmp/ipykernel_78762/1951740429.py:102: FutureWarning: You are using `torch.load` with `weights_only=False` (the current default value), which uses the default pickle module implicitly. It is possible to construct malicious pickle data which will execute arbitrary code during unpickling (See https://github.com/pytorch/pytorch/blob/main/SECURITY.md#untrusted-models for more details). In a future release, the default value for `weights_only` will be flipped to `True`. This limits the functions that could be executed during unpickling. Arbitrary objects will no longer be allowed to be loaded via this mode unless they are explicitly allowlisted by the user via `torch.serialization.add_safe_globals`. We recommend you start setting `weights_only=True` for any use case where you don't have full control of the loaded file. Please open an issue on GitHub for any issues related to this experimental feature.\n",
      "  model.load_state_dict(torch.load(ckpt_path))\n"
     ]
    },
    {
     "name": "stdout",
     "output_type": "stream",
     "text": [
      "🎯 Test Loss: 0.3163 | Test Accuracy: 0.8818\n",
      "\n",
      "📊 Evaluating all epoch checkpoints on test set:\n"
     ]
    },
    {
     "name": "stderr",
     "output_type": "stream",
     "text": [
      "/tmp/ipykernel_78762/1951740429.py:128: FutureWarning: You are using `torch.load` with `weights_only=False` (the current default value), which uses the default pickle module implicitly. It is possible to construct malicious pickle data which will execute arbitrary code during unpickling (See https://github.com/pytorch/pytorch/blob/main/SECURITY.md#untrusted-models for more details). In a future release, the default value for `weights_only` will be flipped to `True`. This limits the functions that could be executed during unpickling. Arbitrary objects will no longer be allowed to be loaded via this mode unless they are explicitly allowlisted by the user via `torch.serialization.add_safe_globals`. We recommend you start setting `weights_only=True` for any use case where you don't have full control of the loaded file. Please open an issue on GitHub for any issues related to this experimental feature.\n",
      "  model.load_state_dict(torch.load(ckpt_file))\n"
     ]
    },
    {
     "name": "stdout",
     "output_type": "stream",
     "text": [
      "📁 Epoch 01 | Test Loss: 0.5172 | Test Accuracy: 0.8380\n",
      "📁 Epoch 02 | Test Loss: 0.3285 | Test Accuracy: 0.8613\n",
      "📁 Epoch 03 | Test Loss: 0.3060 | Test Accuracy: 0.8803\n",
      "📁 Epoch 04 | Test Loss: 0.3251 | Test Accuracy: 0.8818\n",
      "📁 Epoch 05 | Test Loss: 0.4496 | Test Accuracy: 0.8117\n",
      "📁 Epoch 06 | Test Loss: 0.6848 | Test Accuracy: 0.7124\n",
      "📁 Epoch 07 | Test Loss: 0.3163 | Test Accuracy: 0.8818\n",
      "📁 Epoch 08 | Test Loss: 0.4530 | Test Accuracy: 0.8467\n",
      "📁 Epoch 09 | Test Loss: 0.5746 | Test Accuracy: 0.8847\n",
      "📁 Epoch 10 | Test Loss: 0.4334 | Test Accuracy: 0.8350\n"
     ]
    }
   ],
   "source": [
    "import os\n",
    "import torch\n",
    "import torch.nn as nn\n",
    "import torch.optim as optim\n",
    "from torchvision import transforms\n",
    "from torch.utils.data import DataLoader\n",
    "from torchvision.datasets import ImageFolder\n",
    "from torchvision.models import mobilenet_v3_large, MobileNet_V3_Large_Weights\n",
    "from tqdm.notebook import tqdm\n",
    "\n",
    "# —— 1. 忽略隐藏目录 —— #\n",
    "class FilteredImageFolder(ImageFolder):\n",
    "    def find_classes(self, directory):\n",
    "        classes = [d.name for d in os.scandir(directory) if d.is_dir() and not d.name.startswith('.')]\n",
    "        classes.sort()\n",
    "        class_to_idx = {cls_name: idx for idx, cls_name in enumerate(classes)}\n",
    "        return classes, class_to_idx\n",
    "\n",
    "# —— 2. 配置 —— #\n",
    "train_dir = \"/root/autodl-fs/generate_twice/train\"\n",
    "val_dir   = \"/root/autodl-fs/generate_twice/val\"\n",
    "test_dir  = \"/root/autodl-fs/generate_twice/test\"\n",
    "ckpt_path     = \"/root/autodl-fs/best_mobilenetv3.pth\"\n",
    "batch_size    = 32\n",
    "num_epochs    = 10\n",
    "learning_rate = 1e-3  # MobileNet 通常用较大的学习率\n",
    "device        = torch.device(\"cuda\" if torch.cuda.is_available() else \"cpu\")\n",
    "\n",
    "# —— 3. 使用 MobileNetV3 的官方预处理 —— #\n",
    "weights = MobileNet_V3_Large_Weights.DEFAULT\n",
    "transform = weights.transforms()\n",
    "\n",
    "# —— 4. 加载数据 —— #\n",
    "train_dataset = FilteredImageFolder(root=train_dir, transform=transform)\n",
    "test_dataset  = FilteredImageFolder(root=test_dir,  transform=transform)\n",
    "\n",
    "if os.path.exists(val_dir):\n",
    "    val_dataset = FilteredImageFolder(root=val_dir, transform=transform)\n",
    "else:\n",
    "    val_len = int(len(train_dataset) * 0.15)\n",
    "    train_len = len(train_dataset) - val_len\n",
    "    train_dataset, val_dataset = torch.utils.data.random_split(train_dataset, [train_len, val_len])\n",
    "\n",
    "train_loader = DataLoader(train_dataset, batch_size=batch_size, shuffle=True, num_workers=4)\n",
    "val_loader   = DataLoader(val_dataset,   batch_size=batch_size, shuffle=False, num_workers=4)\n",
    "test_loader  = DataLoader(test_dataset,  batch_size=batch_size, shuffle=False, num_workers=4)\n",
    "\n",
    "# —— 5. MobileNetV3 模型定义 —— #\n",
    "model = mobilenet_v3_large(weights=weights)\n",
    "num_classes = len(train_dataset.dataset.classes if hasattr(train_dataset, 'dataset') else train_dataset.classes)\n",
    "model.classifier[3] = nn.Linear(model.classifier[3].in_features, num_classes)\n",
    "model.to(device)\n",
    "\n",
    "criterion = nn.CrossEntropyLoss()\n",
    "optimizer = optim.Adam(model.parameters(), lr=learning_rate)\n",
    "\n",
    "# —— 6. 训练 + 验证 + 保存最佳模型 —— #\n",
    "best_val_acc = 0.0\n",
    "for epoch in range(num_epochs):\n",
    "    model.train()\n",
    "    train_loss, train_acc = 0.0, 0\n",
    "    for x, y in tqdm(train_loader, desc=f\"Epoch {epoch+1}/{num_epochs}\"):\n",
    "        x, y = x.to(device), y.to(device)\n",
    "        optimizer.zero_grad()\n",
    "        out = model(x)\n",
    "        loss = criterion(out, y)\n",
    "        loss.backward()\n",
    "        optimizer.step()\n",
    "        train_loss += loss.item() * x.size(0)\n",
    "        train_acc += (out.argmax(1) == y).sum().item()\n",
    "\n",
    "    train_loss /= len(train_loader.dataset)\n",
    "    train_acc  /= len(train_loader.dataset)\n",
    "\n",
    "    # 验证\n",
    "    model.eval()\n",
    "    val_loss, val_acc = 0.0, 0\n",
    "    with torch.no_grad():\n",
    "        for x, y in val_loader:\n",
    "            x, y = x.to(device), y.to(device)\n",
    "            out = model(x)\n",
    "            loss = criterion(out, y)\n",
    "            val_loss += loss.item() * x.size(0)\n",
    "            val_acc  += (out.argmax(1) == y).sum().item()\n",
    "    val_loss /= len(val_loader.dataset)\n",
    "    val_acc  /= len(val_loader.dataset)\n",
    "\n",
    "    print(f\"[Epoch {epoch+1}] Train Loss: {train_loss:.4f}, Acc: {train_acc:.4f} | Val Loss: {val_loss:.4f}, Acc: {val_acc:.4f}\")\n",
    "\n",
    "    if val_acc > best_val_acc:\n",
    "        best_val_acc = val_acc\n",
    "        os.makedirs(os.path.dirname(ckpt_path), exist_ok=True)\n",
    "        torch.save(model.state_dict(), ckpt_path)\n",
    "        print(\"✅ Saved Best Model!\")\n",
    "\n",
    "    # 每个 epoch 保存一次模型\n",
    "    epoch_ckpt_path = f\"/root/autodl-fs/ckpt_mobilenetv3/epoch_{epoch+1}.pth\"\n",
    "    os.makedirs(os.path.dirname(epoch_ckpt_path), exist_ok=True)\n",
    "    torch.save(model.state_dict(), epoch_ckpt_path)\n",
    "\n",
    "# —— 7. 测试集评估 —— #\n",
    "model.load_state_dict(torch.load(ckpt_path))\n",
    "model.eval()\n",
    "test_loss, test_acc, total = 0.0, 0, 0\n",
    "with torch.no_grad():\n",
    "    for x, y in test_loader:\n",
    "        x, y = x.to(device), y.to(device)\n",
    "        out = model(x)\n",
    "        loss = criterion(out, y)\n",
    "        test_loss += loss.item() * x.size(0)\n",
    "        test_acc  += (out.argmax(1) == y).sum().item()\n",
    "        total += y.size(0)\n",
    "\n",
    "test_loss /= total\n",
    "test_acc  /= total\n",
    "print(f\"🎯 Test Loss: {test_loss:.4f} | Test Accuracy: {test_acc:.4f}\")\n",
    "\n",
    "# —— 8. 所有 epoch 的模型推理 —— #\n",
    "print(\"\\n📊 Evaluating all epoch checkpoints on test set:\")\n",
    "epoch_results = []\n",
    "\n",
    "for e in range(1, num_epochs + 1):\n",
    "    ckpt_file = f\"/root/autodl-fs/ckpt_mobilenetv3/epoch_{e}.pth\"\n",
    "    if not os.path.exists(ckpt_file):\n",
    "        print(f\"❌ Epoch {e} model not found.\")\n",
    "        continue\n",
    "\n",
    "    model.load_state_dict(torch.load(ckpt_file))\n",
    "    model.eval()\n",
    "\n",
    "    test_loss, test_acc, total = 0.0, 0, 0\n",
    "    with torch.no_grad():\n",
    "        for x, y in test_loader:\n",
    "            x, y = x.to(device), y.to(device)\n",
    "            out = model(x)\n",
    "            loss = criterion(out, y)\n",
    "            test_loss += loss.item() * x.size(0)\n",
    "            test_acc  += (out.argmax(1) == y).sum().item()\n",
    "            total += y.size(0)\n",
    "\n",
    "    test_loss /= total\n",
    "    test_acc  /= total\n",
    "    epoch_results.append((e, test_loss, test_acc))\n",
    "    print(f\"📁 Epoch {e:02d} | Test Loss: {test_loss:.4f} | Test Accuracy: {test_acc:.4f}\")\n"
   ]
  },
  {
   "cell_type": "code",
   "execution_count": null,
   "id": "7320b00d-f4f3-420c-9a6c-68c4d1570f9d",
   "metadata": {},
   "outputs": [],
   "source": []
  }
 ],
 "metadata": {
  "kernelspec": {
   "display_name": "Python 3 (ipykernel)",
   "language": "python",
   "name": "python3"
  },
  "language_info": {
   "codemirror_mode": {
    "name": "ipython",
    "version": 3
   },
   "file_extension": ".py",
   "mimetype": "text/x-python",
   "name": "python",
   "nbconvert_exporter": "python",
   "pygments_lexer": "ipython3",
   "version": "3.12.3"
  }
 },
 "nbformat": 4,
 "nbformat_minor": 5
}
