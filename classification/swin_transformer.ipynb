{
 "cells": [
  {
   "cell_type": "code",
   "execution_count": null,
   "id": "276ae63f-e6e2-4ab1-a77e-afd24f5cd7d6",
   "metadata": {},
   "outputs": [],
   "source": [
    "# 🎯 Test Loss: 0.2191 | Test Accuracy: 0.9459\n",
    "# 🎯 Test Loss: 0.4020 | Test Accuracy: 0.9048\n",
    "# 🎯 Test Loss: 0.2390 | Test Accuracy: 0.9078\n",
    "# 🎯 Test Loss: 0.5143 | Test Accuracy: 0.8832"
   ]
  },
  {
   "cell_type": "code",
   "execution_count": 1,
   "id": "54449bfe-d6ed-44fc-860d-b3f8a3725d39",
   "metadata": {},
   "outputs": [
    {
     "data": {
      "application/vnd.jupyter.widget-view+json": {
       "model_id": "0ff08997c11a4843a4f190bc87888965",
       "version_major": 2,
       "version_minor": 0
      },
      "text/plain": [
       "Epoch 1/10:   0%|          | 0/251 [00:00<?, ?it/s]"
      ]
     },
     "metadata": {},
     "output_type": "display_data"
    },
    {
     "name": "stdout",
     "output_type": "stream",
     "text": [
      "[Epoch 1] Train Loss: 0.2452, Acc: 0.9022 | Val Loss: 0.1921, Acc: 0.9330\n",
      "✅ Saved Best Model!\n"
     ]
    },
    {
     "data": {
      "application/vnd.jupyter.widget-view+json": {
       "model_id": "00bc4f6ebbd24e71a8bc04e66657d50f",
       "version_major": 2,
       "version_minor": 0
      },
      "text/plain": [
       "Epoch 2/10:   0%|          | 0/251 [00:00<?, ?it/s]"
      ]
     },
     "metadata": {},
     "output_type": "display_data"
    },
    {
     "name": "stdout",
     "output_type": "stream",
     "text": [
      "[Epoch 2] Train Loss: 0.1868, Acc: 0.9260 | Val Loss: 0.1764, Acc: 0.9319\n"
     ]
    },
    {
     "data": {
      "application/vnd.jupyter.widget-view+json": {
       "model_id": "16ced804d8e54824b69c03eba38ffe4c",
       "version_major": 2,
       "version_minor": 0
      },
      "text/plain": [
       "Epoch 3/10:   0%|          | 0/251 [00:00<?, ?it/s]"
      ]
     },
     "metadata": {},
     "output_type": "display_data"
    },
    {
     "name": "stdout",
     "output_type": "stream",
     "text": [
      "[Epoch 3] Train Loss: 0.1607, Acc: 0.9406 | Val Loss: 0.1715, Acc: 0.9371\n",
      "✅ Saved Best Model!\n"
     ]
    },
    {
     "data": {
      "application/vnd.jupyter.widget-view+json": {
       "model_id": "d7cf6c8bc4914ea4b0e05a92981e0657",
       "version_major": 2,
       "version_minor": 0
      },
      "text/plain": [
       "Epoch 4/10:   0%|          | 0/251 [00:00<?, ?it/s]"
      ]
     },
     "metadata": {},
     "output_type": "display_data"
    },
    {
     "name": "stdout",
     "output_type": "stream",
     "text": [
      "[Epoch 4] Train Loss: 0.1257, Acc: 0.9553 | Val Loss: 0.1967, Acc: 0.9289\n"
     ]
    },
    {
     "data": {
      "application/vnd.jupyter.widget-view+json": {
       "model_id": "7579e1243fc642cab88759c48f41ffe4",
       "version_major": 2,
       "version_minor": 0
      },
      "text/plain": [
       "Epoch 5/10:   0%|          | 0/251 [00:00<?, ?it/s]"
      ]
     },
     "metadata": {},
     "output_type": "display_data"
    },
    {
     "name": "stdout",
     "output_type": "stream",
     "text": [
      "[Epoch 5] Train Loss: 0.0994, Acc: 0.9642 | Val Loss: 0.1866, Acc: 0.9423\n",
      "✅ Saved Best Model!\n"
     ]
    },
    {
     "data": {
      "application/vnd.jupyter.widget-view+json": {
       "model_id": "dcd1bb911cb54525ad7599d338abe361",
       "version_major": 2,
       "version_minor": 0
      },
      "text/plain": [
       "Epoch 6/10:   0%|          | 0/251 [00:00<?, ?it/s]"
      ]
     },
     "metadata": {},
     "output_type": "display_data"
    },
    {
     "name": "stdout",
     "output_type": "stream",
     "text": [
      "[Epoch 6] Train Loss: 0.0848, Acc: 0.9696 | Val Loss: 0.2374, Acc: 0.9400\n"
     ]
    },
    {
     "data": {
      "application/vnd.jupyter.widget-view+json": {
       "model_id": "c07a36429e2645eda6a656d012dda1f1",
       "version_major": 2,
       "version_minor": 0
      },
      "text/plain": [
       "Epoch 7/10:   0%|          | 0/251 [00:00<?, ?it/s]"
      ]
     },
     "metadata": {},
     "output_type": "display_data"
    },
    {
     "name": "stdout",
     "output_type": "stream",
     "text": [
      "[Epoch 7] Train Loss: 0.0625, Acc: 0.9783 | Val Loss: 0.2153, Acc: 0.9517\n",
      "✅ Saved Best Model!\n"
     ]
    },
    {
     "data": {
      "application/vnd.jupyter.widget-view+json": {
       "model_id": "b975a31eed0d4b7e8807b4df51b45538",
       "version_major": 2,
       "version_minor": 0
      },
      "text/plain": [
       "Epoch 8/10:   0%|          | 0/251 [00:00<?, ?it/s]"
      ]
     },
     "metadata": {},
     "output_type": "display_data"
    },
    {
     "name": "stdout",
     "output_type": "stream",
     "text": [
      "[Epoch 8] Train Loss: 0.0513, Acc: 0.9829 | Val Loss: 0.2526, Acc: 0.9301\n"
     ]
    },
    {
     "data": {
      "application/vnd.jupyter.widget-view+json": {
       "model_id": "340fb19544a0496ab9995f3c133b8429",
       "version_major": 2,
       "version_minor": 0
      },
      "text/plain": [
       "Epoch 9/10:   0%|          | 0/251 [00:00<?, ?it/s]"
      ]
     },
     "metadata": {},
     "output_type": "display_data"
    },
    {
     "name": "stdout",
     "output_type": "stream",
     "text": [
      "[Epoch 9] Train Loss: 0.0438, Acc: 0.9848 | Val Loss: 0.2611, Acc: 0.9394\n"
     ]
    },
    {
     "data": {
      "application/vnd.jupyter.widget-view+json": {
       "model_id": "413b3045d678414e9fe62b62e4cd4400",
       "version_major": 2,
       "version_minor": 0
      },
      "text/plain": [
       "Epoch 10/10:   0%|          | 0/251 [00:00<?, ?it/s]"
      ]
     },
     "metadata": {},
     "output_type": "display_data"
    },
    {
     "name": "stdout",
     "output_type": "stream",
     "text": [
      "[Epoch 10] Train Loss: 0.0402, Acc: 0.9844 | Val Loss: 0.2736, Acc: 0.9289\n"
     ]
    },
    {
     "name": "stderr",
     "output_type": "stream",
     "text": [
      "/tmp/ipykernel_27642/955994246.py:102: FutureWarning: You are using `torch.load` with `weights_only=False` (the current default value), which uses the default pickle module implicitly. It is possible to construct malicious pickle data which will execute arbitrary code during unpickling (See https://github.com/pytorch/pytorch/blob/main/SECURITY.md#untrusted-models for more details). In a future release, the default value for `weights_only` will be flipped to `True`. This limits the functions that could be executed during unpickling. Arbitrary objects will no longer be allowed to be loaded via this mode unless they are explicitly allowlisted by the user via `torch.serialization.add_safe_globals`. We recommend you start setting `weights_only=True` for any use case where you don't have full control of the loaded file. Please open an issue on GitHub for any issues related to this experimental feature.\n",
      "  model.load_state_dict(torch.load(ckpt_path))\n"
     ]
    },
    {
     "name": "stdout",
     "output_type": "stream",
     "text": [
      "🎯 Test Loss: 0.2191 | Test Accuracy: 0.9459\n",
      "\n",
      "📊 Evaluating all epoch checkpoints on test set:\n"
     ]
    },
    {
     "name": "stderr",
     "output_type": "stream",
     "text": [
      "/tmp/ipykernel_27642/955994246.py:128: FutureWarning: You are using `torch.load` with `weights_only=False` (the current default value), which uses the default pickle module implicitly. It is possible to construct malicious pickle data which will execute arbitrary code during unpickling (See https://github.com/pytorch/pytorch/blob/main/SECURITY.md#untrusted-models for more details). In a future release, the default value for `weights_only` will be flipped to `True`. This limits the functions that could be executed during unpickling. Arbitrary objects will no longer be allowed to be loaded via this mode unless they are explicitly allowlisted by the user via `torch.serialization.add_safe_globals`. We recommend you start setting `weights_only=True` for any use case where you don't have full control of the loaded file. Please open an issue on GitHub for any issues related to this experimental feature.\n",
      "  model.load_state_dict(torch.load(ckpt_file))\n"
     ]
    },
    {
     "name": "stdout",
     "output_type": "stream",
     "text": [
      "📁 Epoch 01 | Test Loss: 0.1964 | Test Accuracy: 0.9261\n",
      "📁 Epoch 02 | Test Loss: 0.1757 | Test Accuracy: 0.9284\n",
      "📁 Epoch 03 | Test Loss: 0.1553 | Test Accuracy: 0.9360\n",
      "📁 Epoch 04 | Test Loss: 0.1863 | Test Accuracy: 0.9185\n",
      "📁 Epoch 05 | Test Loss: 0.1739 | Test Accuracy: 0.9371\n",
      "📁 Epoch 06 | Test Loss: 0.2209 | Test Accuracy: 0.9383\n",
      "📁 Epoch 07 | Test Loss: 0.2191 | Test Accuracy: 0.9459\n",
      "📁 Epoch 08 | Test Loss: 0.2555 | Test Accuracy: 0.9272\n",
      "📁 Epoch 09 | Test Loss: 0.2465 | Test Accuracy: 0.9400\n",
      "📁 Epoch 10 | Test Loss: 0.2528 | Test Accuracy: 0.9296\n"
     ]
    }
   ],
   "source": [
    "import os\n",
    "import torch\n",
    "import torch.nn as nn\n",
    "import torch.optim as optim\n",
    "from torchvision import transforms\n",
    "from torch.utils.data import DataLoader\n",
    "from torchvision.datasets import ImageFolder\n",
    "from torchvision.models import swin_t, Swin_T_Weights\n",
    "from tqdm.notebook import tqdm\n",
    "\n",
    "# —— 1. 忽略隐藏目录 —— #\n",
    "class FilteredImageFolder(ImageFolder):\n",
    "    def find_classes(self, directory):\n",
    "        classes = [d.name for d in os.scandir(directory) if d.is_dir() and not d.name.startswith('.')]\n",
    "        classes.sort()\n",
    "        class_to_idx = {cls_name: idx for idx, cls_name in enumerate(classes)}\n",
    "        return classes, class_to_idx\n",
    "\n",
    "# —— 2. 配置 —— #\n",
    "train_dir = \"/root/autodl-fs/isic19_20_split/train\"\n",
    "val_dir   = \"/root/autodl-fs/isic19_20_split/val\"\n",
    "test_dir  = \"/root/autodl-fs/isic19_20_split/test\"\n",
    "ckpt_path     = \"/root/autodl-fs/best_swin.pth\"\n",
    "batch_size    = 32\n",
    "num_epochs    = 10\n",
    "learning_rate = 1e-4  # Swin 推荐稍大于 ViT\n",
    "device        = torch.device(\"cuda\" if torch.cuda.is_available() else \"cpu\")\n",
    "\n",
    "# —— 3. 预处理 —— #\n",
    "weights = Swin_T_Weights.DEFAULT\n",
    "transform = weights.transforms()\n",
    "\n",
    "# —— 4. 加载数据 —— #\n",
    "train_dataset = FilteredImageFolder(root=train_dir, transform=transform)\n",
    "test_dataset  = FilteredImageFolder(root=test_dir,  transform=transform)\n",
    "\n",
    "if os.path.exists(val_dir):\n",
    "    val_dataset = FilteredImageFolder(root=val_dir, transform=transform)\n",
    "else:\n",
    "    val_len = int(len(train_dataset) * 0.15)\n",
    "    train_len = len(train_dataset) - val_len\n",
    "    train_dataset, val_dataset = torch.utils.data.random_split(train_dataset, [train_len, val_len])\n",
    "\n",
    "train_loader = DataLoader(train_dataset, batch_size=batch_size, shuffle=True, num_workers=4)\n",
    "val_loader   = DataLoader(val_dataset,   batch_size=batch_size, shuffle=False, num_workers=4)\n",
    "test_loader  = DataLoader(test_dataset,  batch_size=batch_size, shuffle=False, num_workers=4)\n",
    "\n",
    "# —— 5. Swin 模型定义 —— #\n",
    "model = swin_t(weights=weights)\n",
    "num_classes = len(train_dataset.dataset.classes if hasattr(train_dataset, 'dataset') else train_dataset.classes)\n",
    "model.head = nn.Linear(model.head.in_features, num_classes)\n",
    "model.to(device)\n",
    "\n",
    "criterion = nn.CrossEntropyLoss()\n",
    "optimizer = optim.Adam(model.parameters(), lr=learning_rate)\n",
    "\n",
    "# —— 6. 训练 + 验证 + 保存最佳模型 —— #\n",
    "best_val_acc = 0.0\n",
    "for epoch in range(num_epochs):\n",
    "    model.train()\n",
    "    train_loss, train_acc = 0.0, 0\n",
    "    for x, y in tqdm(train_loader, desc=f\"Epoch {epoch+1}/{num_epochs}\"):\n",
    "        x, y = x.to(device), y.to(device)\n",
    "        optimizer.zero_grad()\n",
    "        out = model(x)\n",
    "        loss = criterion(out, y)\n",
    "        loss.backward()\n",
    "        optimizer.step()\n",
    "        train_loss += loss.item() * x.size(0)\n",
    "        train_acc += (out.argmax(1) == y).sum().item()\n",
    "\n",
    "    train_loss /= len(train_loader.dataset)\n",
    "    train_acc  /= len(train_loader.dataset)\n",
    "\n",
    "    # 验证\n",
    "    model.eval()\n",
    "    val_loss, val_acc = 0.0, 0\n",
    "    with torch.no_grad():\n",
    "        for x, y in val_loader:\n",
    "            x, y = x.to(device), y.to(device)\n",
    "            out = model(x)\n",
    "            loss = criterion(out, y)\n",
    "            val_loss += loss.item() * x.size(0)\n",
    "            val_acc  += (out.argmax(1) == y).sum().item()\n",
    "    val_loss /= len(val_loader.dataset)\n",
    "    val_acc  /= len(val_loader.dataset)\n",
    "\n",
    "    print(f\"[Epoch {epoch+1}] Train Loss: {train_loss:.4f}, Acc: {train_acc:.4f} | Val Loss: {val_loss:.4f}, Acc: {val_acc:.4f}\")\n",
    "\n",
    "    if val_acc > best_val_acc:\n",
    "        best_val_acc = val_acc\n",
    "        os.makedirs(os.path.dirname(ckpt_path), exist_ok=True)\n",
    "        torch.save(model.state_dict(), ckpt_path)\n",
    "        print(\"✅ Saved Best Model!\")\n",
    "\n",
    "    # 每个 epoch 保存一次模型\n",
    "    epoch_ckpt_path = f\"/root/autodl-fs/ckpt_swin/epoch_{epoch+1}.pth\"\n",
    "    os.makedirs(os.path.dirname(epoch_ckpt_path), exist_ok=True)\n",
    "    torch.save(model.state_dict(), epoch_ckpt_path)\n",
    "\n",
    "# —— 7. 测试集评估 —— #\n",
    "model.load_state_dict(torch.load(ckpt_path))\n",
    "model.eval()\n",
    "test_loss, test_acc, total = 0.0, 0, 0\n",
    "with torch.no_grad():\n",
    "    for x, y in test_loader:\n",
    "        x, y = x.to(device), y.to(device)\n",
    "        out = model(x)\n",
    "        loss = criterion(out, y)\n",
    "        test_loss += loss.item() * x.size(0)\n",
    "        test_acc  += (out.argmax(1) == y).sum().item()\n",
    "        total += y.size(0)\n",
    "\n",
    "test_loss /= total\n",
    "test_acc  /= total\n",
    "print(f\"🎯 Test Loss: {test_loss:.4f} | Test Accuracy: {test_acc:.4f}\")\n",
    "\n",
    "# —— 8. 所有 epoch 的模型推理 —— #\n",
    "print(\"\\n📊 Evaluating all epoch checkpoints on test set:\")\n",
    "epoch_results = []\n",
    "\n",
    "for e in range(1, num_epochs + 1):\n",
    "    ckpt_file = f\"/root/autodl-fs/ckpt_swin/epoch_{e}.pth\"\n",
    "    if not os.path.exists(ckpt_file):\n",
    "        print(f\"❌ Epoch {e} model not found.\")\n",
    "        continue\n",
    "\n",
    "    model.load_state_dict(torch.load(ckpt_file))\n",
    "    model.eval()\n",
    "\n",
    "    test_loss, test_acc, total = 0.0, 0, 0\n",
    "    with torch.no_grad():\n",
    "        for x, y in test_loader:\n",
    "            x, y = x.to(device), y.to(device)\n",
    "            out = model(x)\n",
    "            loss = criterion(out, y)\n",
    "            test_loss += loss.item() * x.size(0)\n",
    "            test_acc  += (out.argmax(1) == y).sum().item()\n",
    "            total += y.size(0)\n",
    "\n",
    "    test_loss /= total\n",
    "    test_acc  /= total\n",
    "    epoch_results.append((e, test_loss, test_acc))\n",
    "    print(f\"📁 Epoch {e:02d} | Test Loss: {test_loss:.4f} | Test Accuracy: {test_acc:.4f}\")\n"
   ]
  },
  {
   "cell_type": "code",
   "execution_count": 2,
   "id": "f13616b8-f653-46cc-8fad-392be425d3d9",
   "metadata": {},
   "outputs": [
    {
     "data": {
      "application/vnd.jupyter.widget-view+json": {
       "model_id": "7f08a467d1414860a9d3b76d45c0a6c6",
       "version_major": 2,
       "version_minor": 0
      },
      "text/plain": [
       "Epoch 1/10:   0%|          | 0/287 [00:00<?, ?it/s]"
      ]
     },
     "metadata": {},
     "output_type": "display_data"
    },
    {
     "name": "stdout",
     "output_type": "stream",
     "text": [
      "[Epoch 1] Train Loss: 0.2372, Acc: 0.9070 | Val Loss: 0.1678, Acc: 0.9337\n",
      "✅ Saved Best Model!\n"
     ]
    },
    {
     "data": {
      "application/vnd.jupyter.widget-view+json": {
       "model_id": "c27b598517364609bb08a9cf6581bdf2",
       "version_major": 2,
       "version_minor": 0
      },
      "text/plain": [
       "Epoch 2/10:   0%|          | 0/287 [00:00<?, ?it/s]"
      ]
     },
     "metadata": {},
     "output_type": "display_data"
    },
    {
     "name": "stdout",
     "output_type": "stream",
     "text": [
      "[Epoch 2] Train Loss: 0.1788, Acc: 0.9306 | Val Loss: 0.1527, Acc: 0.9418\n",
      "✅ Saved Best Model!\n"
     ]
    },
    {
     "data": {
      "application/vnd.jupyter.widget-view+json": {
       "model_id": "e79c27f5c0734098b4ea3432e8a6ed77",
       "version_major": 2,
       "version_minor": 0
      },
      "text/plain": [
       "Epoch 3/10:   0%|          | 0/287 [00:00<?, ?it/s]"
      ]
     },
     "metadata": {},
     "output_type": "display_data"
    },
    {
     "name": "stdout",
     "output_type": "stream",
     "text": [
      "[Epoch 3] Train Loss: 0.1440, Acc: 0.9459 | Val Loss: 0.1743, Acc: 0.9393\n"
     ]
    },
    {
     "data": {
      "application/vnd.jupyter.widget-view+json": {
       "model_id": "f4e09cd4b2324258a52dcbaa5ecf72e9",
       "version_major": 2,
       "version_minor": 0
      },
      "text/plain": [
       "Epoch 4/10:   0%|          | 0/287 [00:00<?, ?it/s]"
      ]
     },
     "metadata": {},
     "output_type": "display_data"
    },
    {
     "name": "stdout",
     "output_type": "stream",
     "text": [
      "[Epoch 4] Train Loss: 0.1280, Acc: 0.9538 | Val Loss: 0.1532, Acc: 0.9430\n",
      "✅ Saved Best Model!\n"
     ]
    },
    {
     "data": {
      "application/vnd.jupyter.widget-view+json": {
       "model_id": "8dd346633e3c4391ad22ddc80be1e6d1",
       "version_major": 2,
       "version_minor": 0
      },
      "text/plain": [
       "Epoch 5/10:   0%|          | 0/287 [00:00<?, ?it/s]"
      ]
     },
     "metadata": {},
     "output_type": "display_data"
    },
    {
     "name": "stdout",
     "output_type": "stream",
     "text": [
      "[Epoch 5] Train Loss: 0.1018, Acc: 0.9635 | Val Loss: 0.1707, Acc: 0.9430\n"
     ]
    },
    {
     "data": {
      "application/vnd.jupyter.widget-view+json": {
       "model_id": "e7ff4d608c6649a9b8e789ddabf6a2d8",
       "version_major": 2,
       "version_minor": 0
      },
      "text/plain": [
       "Epoch 6/10:   0%|          | 0/287 [00:00<?, ?it/s]"
      ]
     },
     "metadata": {},
     "output_type": "display_data"
    },
    {
     "name": "stdout",
     "output_type": "stream",
     "text": [
      "[Epoch 6] Train Loss: 0.0826, Acc: 0.9698 | Val Loss: 0.1747, Acc: 0.9430\n"
     ]
    },
    {
     "data": {
      "application/vnd.jupyter.widget-view+json": {
       "model_id": "c6646919e91044b19dee6b858ad9e96a",
       "version_major": 2,
       "version_minor": 0
      },
      "text/plain": [
       "Epoch 7/10:   0%|          | 0/287 [00:00<?, ?it/s]"
      ]
     },
     "metadata": {},
     "output_type": "display_data"
    },
    {
     "name": "stdout",
     "output_type": "stream",
     "text": [
      "[Epoch 7] Train Loss: 0.0671, Acc: 0.9776 | Val Loss: 0.1961, Acc: 0.9399\n"
     ]
    },
    {
     "data": {
      "application/vnd.jupyter.widget-view+json": {
       "model_id": "7df784d6dce14b8dbee7548581ea5d86",
       "version_major": 2,
       "version_minor": 0
      },
      "text/plain": [
       "Epoch 8/10:   0%|          | 0/287 [00:00<?, ?it/s]"
      ]
     },
     "metadata": {},
     "output_type": "display_data"
    },
    {
     "name": "stdout",
     "output_type": "stream",
     "text": [
      "[Epoch 8] Train Loss: 0.0536, Acc: 0.9813 | Val Loss: 0.2195, Acc: 0.9461\n",
      "✅ Saved Best Model!\n"
     ]
    },
    {
     "data": {
      "application/vnd.jupyter.widget-view+json": {
       "model_id": "f1bce6d1800b4cd28f5d46b72b0fe681",
       "version_major": 2,
       "version_minor": 0
      },
      "text/plain": [
       "Epoch 9/10:   0%|          | 0/287 [00:00<?, ?it/s]"
      ]
     },
     "metadata": {},
     "output_type": "display_data"
    },
    {
     "name": "stdout",
     "output_type": "stream",
     "text": [
      "[Epoch 9] Train Loss: 0.0538, Acc: 0.9824 | Val Loss: 0.2172, Acc: 0.9418\n"
     ]
    },
    {
     "data": {
      "application/vnd.jupyter.widget-view+json": {
       "model_id": "c8ea51eed0594ec2b0a6bb595e653b6d",
       "version_major": 2,
       "version_minor": 0
      },
      "text/plain": [
       "Epoch 10/10:   0%|          | 0/287 [00:00<?, ?it/s]"
      ]
     },
     "metadata": {},
     "output_type": "display_data"
    },
    {
     "name": "stdout",
     "output_type": "stream",
     "text": [
      "[Epoch 10] Train Loss: 0.0650, Acc: 0.9779 | Val Loss: 0.2188, Acc: 0.9418\n"
     ]
    },
    {
     "name": "stderr",
     "output_type": "stream",
     "text": [
      "/tmp/ipykernel_27642/1701022642.py:102: FutureWarning: You are using `torch.load` with `weights_only=False` (the current default value), which uses the default pickle module implicitly. It is possible to construct malicious pickle data which will execute arbitrary code during unpickling (See https://github.com/pytorch/pytorch/blob/main/SECURITY.md#untrusted-models for more details). In a future release, the default value for `weights_only` will be flipped to `True`. This limits the functions that could be executed during unpickling. Arbitrary objects will no longer be allowed to be loaded via this mode unless they are explicitly allowlisted by the user via `torch.serialization.add_safe_globals`. We recommend you start setting `weights_only=True` for any use case where you don't have full control of the loaded file. Please open an issue on GitHub for any issues related to this experimental feature.\n",
      "  model.load_state_dict(torch.load(ckpt_path))\n"
     ]
    },
    {
     "name": "stdout",
     "output_type": "stream",
     "text": [
      "🎯 Test Loss: 0.4020 | Test Accuracy: 0.9048\n",
      "\n",
      "📊 Evaluating all epoch checkpoints on test set:\n"
     ]
    },
    {
     "name": "stderr",
     "output_type": "stream",
     "text": [
      "/tmp/ipykernel_27642/1701022642.py:128: FutureWarning: You are using `torch.load` with `weights_only=False` (the current default value), which uses the default pickle module implicitly. It is possible to construct malicious pickle data which will execute arbitrary code during unpickling (See https://github.com/pytorch/pytorch/blob/main/SECURITY.md#untrusted-models for more details). In a future release, the default value for `weights_only` will be flipped to `True`. This limits the functions that could be executed during unpickling. Arbitrary objects will no longer be allowed to be loaded via this mode unless they are explicitly allowlisted by the user via `torch.serialization.add_safe_globals`. We recommend you start setting `weights_only=True` for any use case where you don't have full control of the loaded file. Please open an issue on GitHub for any issues related to this experimental feature.\n",
      "  model.load_state_dict(torch.load(ckpt_file))\n"
     ]
    },
    {
     "name": "stdout",
     "output_type": "stream",
     "text": [
      "📁 Epoch 01 | Test Loss: 0.2400 | Test Accuracy: 0.9048\n",
      "📁 Epoch 02 | Test Loss: 0.2891 | Test Accuracy: 0.9122\n",
      "📁 Epoch 03 | Test Loss: 0.2797 | Test Accuracy: 0.9136\n",
      "📁 Epoch 04 | Test Loss: 0.3200 | Test Accuracy: 0.9107\n",
      "📁 Epoch 05 | Test Loss: 0.3140 | Test Accuracy: 0.9092\n",
      "📁 Epoch 06 | Test Loss: 0.3271 | Test Accuracy: 0.9078\n",
      "📁 Epoch 07 | Test Loss: 0.3238 | Test Accuracy: 0.9092\n",
      "📁 Epoch 08 | Test Loss: 0.4020 | Test Accuracy: 0.9048\n",
      "📁 Epoch 09 | Test Loss: 0.3831 | Test Accuracy: 0.9136\n",
      "📁 Epoch 10 | Test Loss: 0.3828 | Test Accuracy: 0.9019\n"
     ]
    }
   ],
   "source": [
    "import os\n",
    "import torch\n",
    "import torch.nn as nn\n",
    "import torch.optim as optim\n",
    "from torchvision import transforms\n",
    "from torch.utils.data import DataLoader\n",
    "from torchvision.datasets import ImageFolder\n",
    "from torchvision.models import swin_t, Swin_T_Weights\n",
    "from tqdm.notebook import tqdm\n",
    "\n",
    "# —— 1. 忽略隐藏目录 —— #\n",
    "class FilteredImageFolder(ImageFolder):\n",
    "    def find_classes(self, directory):\n",
    "        classes = [d.name for d in os.scandir(directory) if d.is_dir() and not d.name.startswith('.')]\n",
    "        classes.sort()\n",
    "        class_to_idx = {cls_name: idx for idx, cls_name in enumerate(classes)}\n",
    "        return classes, class_to_idx\n",
    "\n",
    "# —— 2. 配置 —— #\n",
    "train_dir = \"/root/autodl-fs/processed/processed/train\"\n",
    "val_dir   = \"/root/autodl-fs/processed/processed/val\"\n",
    "test_dir  = \"/root/autodl-fs/processed/processed/test\"\n",
    "ckpt_path     = \"/root/autodl-fs/best_swin.pth\"\n",
    "batch_size    = 32\n",
    "num_epochs    = 10\n",
    "learning_rate = 1e-4  # Swin 推荐稍大于 ViT\n",
    "device        = torch.device(\"cuda\" if torch.cuda.is_available() else \"cpu\")\n",
    "\n",
    "# —— 3. 预处理 —— #\n",
    "weights = Swin_T_Weights.DEFAULT\n",
    "transform = weights.transforms()\n",
    "\n",
    "# —— 4. 加载数据 —— #\n",
    "train_dataset = FilteredImageFolder(root=train_dir, transform=transform)\n",
    "test_dataset  = FilteredImageFolder(root=test_dir,  transform=transform)\n",
    "\n",
    "if os.path.exists(val_dir):\n",
    "    val_dataset = FilteredImageFolder(root=val_dir, transform=transform)\n",
    "else:\n",
    "    val_len = int(len(train_dataset) * 0.15)\n",
    "    train_len = len(train_dataset) - val_len\n",
    "    train_dataset, val_dataset = torch.utils.data.random_split(train_dataset, [train_len, val_len])\n",
    "\n",
    "train_loader = DataLoader(train_dataset, batch_size=batch_size, shuffle=True, num_workers=4)\n",
    "val_loader   = DataLoader(val_dataset,   batch_size=batch_size, shuffle=False, num_workers=4)\n",
    "test_loader  = DataLoader(test_dataset,  batch_size=batch_size, shuffle=False, num_workers=4)\n",
    "\n",
    "# —— 5. Swin 模型定义 —— #\n",
    "model = swin_t(weights=weights)\n",
    "num_classes = len(train_dataset.dataset.classes if hasattr(train_dataset, 'dataset') else train_dataset.classes)\n",
    "model.head = nn.Linear(model.head.in_features, num_classes)\n",
    "model.to(device)\n",
    "\n",
    "criterion = nn.CrossEntropyLoss()\n",
    "optimizer = optim.Adam(model.parameters(), lr=learning_rate)\n",
    "\n",
    "# —— 6. 训练 + 验证 + 保存最佳模型 —— #\n",
    "best_val_acc = 0.0\n",
    "for epoch in range(num_epochs):\n",
    "    model.train()\n",
    "    train_loss, train_acc = 0.0, 0\n",
    "    for x, y in tqdm(train_loader, desc=f\"Epoch {epoch+1}/{num_epochs}\"):\n",
    "        x, y = x.to(device), y.to(device)\n",
    "        optimizer.zero_grad()\n",
    "        out = model(x)\n",
    "        loss = criterion(out, y)\n",
    "        loss.backward()\n",
    "        optimizer.step()\n",
    "        train_loss += loss.item() * x.size(0)\n",
    "        train_acc += (out.argmax(1) == y).sum().item()\n",
    "\n",
    "    train_loss /= len(train_loader.dataset)\n",
    "    train_acc  /= len(train_loader.dataset)\n",
    "\n",
    "    # 验证\n",
    "    model.eval()\n",
    "    val_loss, val_acc = 0.0, 0\n",
    "    with torch.no_grad():\n",
    "        for x, y in val_loader:\n",
    "            x, y = x.to(device), y.to(device)\n",
    "            out = model(x)\n",
    "            loss = criterion(out, y)\n",
    "            val_loss += loss.item() * x.size(0)\n",
    "            val_acc  += (out.argmax(1) == y).sum().item()\n",
    "    val_loss /= len(val_loader.dataset)\n",
    "    val_acc  /= len(val_loader.dataset)\n",
    "\n",
    "    print(f\"[Epoch {epoch+1}] Train Loss: {train_loss:.4f}, Acc: {train_acc:.4f} | Val Loss: {val_loss:.4f}, Acc: {val_acc:.4f}\")\n",
    "\n",
    "    if val_acc > best_val_acc:\n",
    "        best_val_acc = val_acc\n",
    "        os.makedirs(os.path.dirname(ckpt_path), exist_ok=True)\n",
    "        torch.save(model.state_dict(), ckpt_path)\n",
    "        print(\"✅ Saved Best Model!\")\n",
    "\n",
    "    # 每个 epoch 保存一次模型\n",
    "    epoch_ckpt_path = f\"/root/autodl-fs/ckpt_swin/epoch_{epoch+1}.pth\"\n",
    "    os.makedirs(os.path.dirname(epoch_ckpt_path), exist_ok=True)\n",
    "    torch.save(model.state_dict(), epoch_ckpt_path)\n",
    "\n",
    "# —— 7. 测试集评估 —— #\n",
    "model.load_state_dict(torch.load(ckpt_path))\n",
    "model.eval()\n",
    "test_loss, test_acc, total = 0.0, 0, 0\n",
    "with torch.no_grad():\n",
    "    for x, y in test_loader:\n",
    "        x, y = x.to(device), y.to(device)\n",
    "        out = model(x)\n",
    "        loss = criterion(out, y)\n",
    "        test_loss += loss.item() * x.size(0)\n",
    "        test_acc  += (out.argmax(1) == y).sum().item()\n",
    "        total += y.size(0)\n",
    "\n",
    "test_loss /= total\n",
    "test_acc  /= total\n",
    "print(f\"🎯 Test Loss: {test_loss:.4f} | Test Accuracy: {test_acc:.4f}\")\n",
    "\n",
    "# —— 8. 所有 epoch 的模型推理 —— #\n",
    "print(\"\\n📊 Evaluating all epoch checkpoints on test set:\")\n",
    "epoch_results = []\n",
    "\n",
    "for e in range(1, num_epochs + 1):\n",
    "    ckpt_file = f\"/root/autodl-fs/ckpt_swin/epoch_{e}.pth\"\n",
    "    if not os.path.exists(ckpt_file):\n",
    "        print(f\"❌ Epoch {e} model not found.\")\n",
    "        continue\n",
    "\n",
    "    model.load_state_dict(torch.load(ckpt_file))\n",
    "    model.eval()\n",
    "\n",
    "    test_loss, test_acc, total = 0.0, 0, 0\n",
    "    with torch.no_grad():\n",
    "        for x, y in test_loader:\n",
    "            x, y = x.to(device), y.to(device)\n",
    "            out = model(x)\n",
    "            loss = criterion(out, y)\n",
    "            test_loss += loss.item() * x.size(0)\n",
    "            test_acc  += (out.argmax(1) == y).sum().item()\n",
    "            total += y.size(0)\n",
    "\n",
    "    test_loss /= total\n",
    "    test_acc  /= total\n",
    "    epoch_results.append((e, test_loss, test_acc))\n",
    "    print(f\"📁 Epoch {e:02d} | Test Loss: {test_loss:.4f} | Test Accuracy: {test_acc:.4f}\")\n"
   ]
  },
  {
   "cell_type": "code",
   "execution_count": 3,
   "id": "646f174e-cc78-4ffd-89dc-b2fb9d3a4984",
   "metadata": {},
   "outputs": [
    {
     "data": {
      "application/vnd.jupyter.widget-view+json": {
       "model_id": "d152f45268ee4b5a96105fca27abdca1",
       "version_major": 2,
       "version_minor": 0
      },
      "text/plain": [
       "Epoch 1/10:   0%|          | 0/286 [00:00<?, ?it/s]"
      ]
     },
     "metadata": {},
     "output_type": "display_data"
    },
    {
     "name": "stdout",
     "output_type": "stream",
     "text": [
      "[Epoch 1] Train Loss: 0.2449, Acc: 0.9023 | Val Loss: 0.1882, Acc: 0.9276\n",
      "✅ Saved Best Model!\n"
     ]
    },
    {
     "data": {
      "application/vnd.jupyter.widget-view+json": {
       "model_id": "bc6d2d126a474dfc8eab7f3158947ea7",
       "version_major": 2,
       "version_minor": 0
      },
      "text/plain": [
       "Epoch 2/10:   0%|          | 0/286 [00:00<?, ?it/s]"
      ]
     },
     "metadata": {},
     "output_type": "display_data"
    },
    {
     "name": "stdout",
     "output_type": "stream",
     "text": [
      "[Epoch 2] Train Loss: 0.1869, Acc: 0.9303 | Val Loss: 0.1878, Acc: 0.9325\n",
      "✅ Saved Best Model!\n"
     ]
    },
    {
     "data": {
      "application/vnd.jupyter.widget-view+json": {
       "model_id": "01be6e0da5584f16b71316b7dbccbc4c",
       "version_major": 2,
       "version_minor": 0
      },
      "text/plain": [
       "Epoch 3/10:   0%|          | 0/286 [00:00<?, ?it/s]"
      ]
     },
     "metadata": {},
     "output_type": "display_data"
    },
    {
     "name": "stdout",
     "output_type": "stream",
     "text": [
      "[Epoch 3] Train Loss: 0.1513, Acc: 0.9432 | Val Loss: 0.1774, Acc: 0.9344\n",
      "✅ Saved Best Model!\n"
     ]
    },
    {
     "data": {
      "application/vnd.jupyter.widget-view+json": {
       "model_id": "1a8f9f0ac8634bf59ca057c4dcc6e0b8",
       "version_major": 2,
       "version_minor": 0
      },
      "text/plain": [
       "Epoch 4/10:   0%|          | 0/286 [00:00<?, ?it/s]"
      ]
     },
     "metadata": {},
     "output_type": "display_data"
    },
    {
     "name": "stdout",
     "output_type": "stream",
     "text": [
      "[Epoch 4] Train Loss: 0.1263, Acc: 0.9519 | Val Loss: 0.1696, Acc: 0.9356\n",
      "✅ Saved Best Model!\n"
     ]
    },
    {
     "data": {
      "application/vnd.jupyter.widget-view+json": {
       "model_id": "5715d667f79a4d5fbc4f16cf9353fad1",
       "version_major": 2,
       "version_minor": 0
      },
      "text/plain": [
       "Epoch 5/10:   0%|          | 0/286 [00:00<?, ?it/s]"
      ]
     },
     "metadata": {},
     "output_type": "display_data"
    },
    {
     "name": "stdout",
     "output_type": "stream",
     "text": [
      "[Epoch 5] Train Loss: 0.1031, Acc: 0.9646 | Val Loss: 0.2045, Acc: 0.9356\n"
     ]
    },
    {
     "data": {
      "application/vnd.jupyter.widget-view+json": {
       "model_id": "edca5f14656e4bff8d41253375ac39ae",
       "version_major": 2,
       "version_minor": 0
      },
      "text/plain": [
       "Epoch 6/10:   0%|          | 0/286 [00:00<?, ?it/s]"
      ]
     },
     "metadata": {},
     "output_type": "display_data"
    },
    {
     "name": "stdout",
     "output_type": "stream",
     "text": [
      "[Epoch 6] Train Loss: 0.0797, Acc: 0.9706 | Val Loss: 0.1909, Acc: 0.9387\n",
      "✅ Saved Best Model!\n"
     ]
    },
    {
     "data": {
      "application/vnd.jupyter.widget-view+json": {
       "model_id": "92815155491b486c9d099a357c2946ed",
       "version_major": 2,
       "version_minor": 0
      },
      "text/plain": [
       "Epoch 7/10:   0%|          | 0/286 [00:00<?, ?it/s]"
      ]
     },
     "metadata": {},
     "output_type": "display_data"
    },
    {
     "name": "stdout",
     "output_type": "stream",
     "text": [
      "[Epoch 7] Train Loss: 0.0624, Acc: 0.9774 | Val Loss: 0.2441, Acc: 0.9170\n"
     ]
    },
    {
     "data": {
      "application/vnd.jupyter.widget-view+json": {
       "model_id": "83107e662f4f4b0e80eeba7ee57fb903",
       "version_major": 2,
       "version_minor": 0
      },
      "text/plain": [
       "Epoch 8/10:   0%|          | 0/286 [00:00<?, ?it/s]"
      ]
     },
     "metadata": {},
     "output_type": "display_data"
    },
    {
     "name": "stdout",
     "output_type": "stream",
     "text": [
      "[Epoch 8] Train Loss: 0.0509, Acc: 0.9814 | Val Loss: 0.2249, Acc: 0.9344\n"
     ]
    },
    {
     "data": {
      "application/vnd.jupyter.widget-view+json": {
       "model_id": "4264b68e7015490ca9ef2df3363782b8",
       "version_major": 2,
       "version_minor": 0
      },
      "text/plain": [
       "Epoch 9/10:   0%|          | 0/286 [00:00<?, ?it/s]"
      ]
     },
     "metadata": {},
     "output_type": "display_data"
    },
    {
     "name": "stdout",
     "output_type": "stream",
     "text": [
      "[Epoch 9] Train Loss: 0.0428, Acc: 0.9862 | Val Loss: 0.2262, Acc: 0.9406\n",
      "✅ Saved Best Model!\n"
     ]
    },
    {
     "data": {
      "application/vnd.jupyter.widget-view+json": {
       "model_id": "bc864b853fb442cebcac9721284c04f4",
       "version_major": 2,
       "version_minor": 0
      },
      "text/plain": [
       "Epoch 10/10:   0%|          | 0/286 [00:00<?, ?it/s]"
      ]
     },
     "metadata": {},
     "output_type": "display_data"
    },
    {
     "name": "stdout",
     "output_type": "stream",
     "text": [
      "[Epoch 10] Train Loss: 0.0386, Acc: 0.9872 | Val Loss: 0.2468, Acc: 0.9337\n"
     ]
    },
    {
     "name": "stderr",
     "output_type": "stream",
     "text": [
      "/tmp/ipykernel_27642/991752975.py:102: FutureWarning: You are using `torch.load` with `weights_only=False` (the current default value), which uses the default pickle module implicitly. It is possible to construct malicious pickle data which will execute arbitrary code during unpickling (See https://github.com/pytorch/pytorch/blob/main/SECURITY.md#untrusted-models for more details). In a future release, the default value for `weights_only` will be flipped to `True`. This limits the functions that could be executed during unpickling. Arbitrary objects will no longer be allowed to be loaded via this mode unless they are explicitly allowlisted by the user via `torch.serialization.add_safe_globals`. We recommend you start setting `weights_only=True` for any use case where you don't have full control of the loaded file. Please open an issue on GitHub for any issues related to this experimental feature.\n",
      "  model.load_state_dict(torch.load(ckpt_path))\n"
     ]
    },
    {
     "name": "stdout",
     "output_type": "stream",
     "text": [
      "🎯 Test Loss: 0.4143 | Test Accuracy: 0.9034\n",
      "\n",
      "📊 Evaluating all epoch checkpoints on test set:\n"
     ]
    },
    {
     "name": "stderr",
     "output_type": "stream",
     "text": [
      "/tmp/ipykernel_27642/991752975.py:128: FutureWarning: You are using `torch.load` with `weights_only=False` (the current default value), which uses the default pickle module implicitly. It is possible to construct malicious pickle data which will execute arbitrary code during unpickling (See https://github.com/pytorch/pytorch/blob/main/SECURITY.md#untrusted-models for more details). In a future release, the default value for `weights_only` will be flipped to `True`. This limits the functions that could be executed during unpickling. Arbitrary objects will no longer be allowed to be loaded via this mode unless they are explicitly allowlisted by the user via `torch.serialization.add_safe_globals`. We recommend you start setting `weights_only=True` for any use case where you don't have full control of the loaded file. Please open an issue on GitHub for any issues related to this experimental feature.\n",
      "  model.load_state_dict(torch.load(ckpt_file))\n"
     ]
    },
    {
     "name": "stdout",
     "output_type": "stream",
     "text": [
      "📁 Epoch 01 | Test Loss: 0.2390 | Test Accuracy: 0.9078\n",
      "📁 Epoch 02 | Test Loss: 0.2554 | Test Accuracy: 0.9019\n",
      "📁 Epoch 03 | Test Loss: 0.2670 | Test Accuracy: 0.8946\n",
      "📁 Epoch 04 | Test Loss: 0.2894 | Test Accuracy: 0.9063\n",
      "📁 Epoch 05 | Test Loss: 0.3201 | Test Accuracy: 0.8960\n",
      "📁 Epoch 06 | Test Loss: 0.3646 | Test Accuracy: 0.8873\n",
      "📁 Epoch 07 | Test Loss: 0.3394 | Test Accuracy: 0.8931\n",
      "📁 Epoch 08 | Test Loss: 0.4048 | Test Accuracy: 0.8902\n",
      "📁 Epoch 09 | Test Loss: 0.4143 | Test Accuracy: 0.9034\n",
      "📁 Epoch 10 | Test Loss: 0.3870 | Test Accuracy: 0.9048\n"
     ]
    }
   ],
   "source": [
    "import os\n",
    "import torch\n",
    "import torch.nn as nn\n",
    "import torch.optim as optim\n",
    "from torchvision import transforms\n",
    "from torch.utils.data import DataLoader\n",
    "from torchvision.datasets import ImageFolder\n",
    "from torchvision.models import swin_t, Swin_T_Weights\n",
    "from tqdm.notebook import tqdm\n",
    "\n",
    "# —— 1. 忽略隐藏目录 —— #\n",
    "class FilteredImageFolder(ImageFolder):\n",
    "    def find_classes(self, directory):\n",
    "        classes = [d.name for d in os.scandir(directory) if d.is_dir() and not d.name.startswith('.')]\n",
    "        classes.sort()\n",
    "        class_to_idx = {cls_name: idx for idx, cls_name in enumerate(classes)}\n",
    "        return classes, class_to_idx\n",
    "\n",
    "# —— 2. 配置 —— #\n",
    "train_dir = \"/root/autodl-fs/generate/train\"\n",
    "val_dir   = \"/root/autodl-fs/generate/val\"\n",
    "test_dir  = \"/root/autodl-fs/generate/test\"\n",
    "ckpt_path     = \"/root/autodl-fs/best_swin.pth\"\n",
    "batch_size    = 32\n",
    "num_epochs    = 10\n",
    "learning_rate = 1e-4  # Swin 推荐稍大于 ViT\n",
    "device        = torch.device(\"cuda\" if torch.cuda.is_available() else \"cpu\")\n",
    "\n",
    "# —— 3. 预处理 —— #\n",
    "weights = Swin_T_Weights.DEFAULT\n",
    "transform = weights.transforms()\n",
    "\n",
    "# —— 4. 加载数据 —— #\n",
    "train_dataset = FilteredImageFolder(root=train_dir, transform=transform)\n",
    "test_dataset  = FilteredImageFolder(root=test_dir,  transform=transform)\n",
    "\n",
    "if os.path.exists(val_dir):\n",
    "    val_dataset = FilteredImageFolder(root=val_dir, transform=transform)\n",
    "else:\n",
    "    val_len = int(len(train_dataset) * 0.15)\n",
    "    train_len = len(train_dataset) - val_len\n",
    "    train_dataset, val_dataset = torch.utils.data.random_split(train_dataset, [train_len, val_len])\n",
    "\n",
    "train_loader = DataLoader(train_dataset, batch_size=batch_size, shuffle=True, num_workers=4)\n",
    "val_loader   = DataLoader(val_dataset,   batch_size=batch_size, shuffle=False, num_workers=4)\n",
    "test_loader  = DataLoader(test_dataset,  batch_size=batch_size, shuffle=False, num_workers=4)\n",
    "\n",
    "# —— 5. Swin 模型定义 —— #\n",
    "model = swin_t(weights=weights)\n",
    "num_classes = len(train_dataset.dataset.classes if hasattr(train_dataset, 'dataset') else train_dataset.classes)\n",
    "model.head = nn.Linear(model.head.in_features, num_classes)\n",
    "model.to(device)\n",
    "\n",
    "criterion = nn.CrossEntropyLoss()\n",
    "optimizer = optim.Adam(model.parameters(), lr=learning_rate)\n",
    "\n",
    "# —— 6. 训练 + 验证 + 保存最佳模型 —— #\n",
    "best_val_acc = 0.0\n",
    "for epoch in range(num_epochs):\n",
    "    model.train()\n",
    "    train_loss, train_acc = 0.0, 0\n",
    "    for x, y in tqdm(train_loader, desc=f\"Epoch {epoch+1}/{num_epochs}\"):\n",
    "        x, y = x.to(device), y.to(device)\n",
    "        optimizer.zero_grad()\n",
    "        out = model(x)\n",
    "        loss = criterion(out, y)\n",
    "        loss.backward()\n",
    "        optimizer.step()\n",
    "        train_loss += loss.item() * x.size(0)\n",
    "        train_acc += (out.argmax(1) == y).sum().item()\n",
    "\n",
    "    train_loss /= len(train_loader.dataset)\n",
    "    train_acc  /= len(train_loader.dataset)\n",
    "\n",
    "    # 验证\n",
    "    model.eval()\n",
    "    val_loss, val_acc = 0.0, 0\n",
    "    with torch.no_grad():\n",
    "        for x, y in val_loader:\n",
    "            x, y = x.to(device), y.to(device)\n",
    "            out = model(x)\n",
    "            loss = criterion(out, y)\n",
    "            val_loss += loss.item() * x.size(0)\n",
    "            val_acc  += (out.argmax(1) == y).sum().item()\n",
    "    val_loss /= len(val_loader.dataset)\n",
    "    val_acc  /= len(val_loader.dataset)\n",
    "\n",
    "    print(f\"[Epoch {epoch+1}] Train Loss: {train_loss:.4f}, Acc: {train_acc:.4f} | Val Loss: {val_loss:.4f}, Acc: {val_acc:.4f}\")\n",
    "\n",
    "    if val_acc > best_val_acc:\n",
    "        best_val_acc = val_acc\n",
    "        os.makedirs(os.path.dirname(ckpt_path), exist_ok=True)\n",
    "        torch.save(model.state_dict(), ckpt_path)\n",
    "        print(\"✅ Saved Best Model!\")\n",
    "\n",
    "    # 每个 epoch 保存一次模型\n",
    "    epoch_ckpt_path = f\"/root/autodl-fs/ckpt_swin/epoch_{epoch+1}.pth\"\n",
    "    os.makedirs(os.path.dirname(epoch_ckpt_path), exist_ok=True)\n",
    "    torch.save(model.state_dict(), epoch_ckpt_path)\n",
    "\n",
    "# —— 7. 测试集评估 —— #\n",
    "model.load_state_dict(torch.load(ckpt_path))\n",
    "model.eval()\n",
    "test_loss, test_acc, total = 0.0, 0, 0\n",
    "with torch.no_grad():\n",
    "    for x, y in test_loader:\n",
    "        x, y = x.to(device), y.to(device)\n",
    "        out = model(x)\n",
    "        loss = criterion(out, y)\n",
    "        test_loss += loss.item() * x.size(0)\n",
    "        test_acc  += (out.argmax(1) == y).sum().item()\n",
    "        total += y.size(0)\n",
    "\n",
    "test_loss /= total\n",
    "test_acc  /= total\n",
    "print(f\"🎯 Test Loss: {test_loss:.4f} | Test Accuracy: {test_acc:.4f}\")\n",
    "\n",
    "# —— 8. 所有 epoch 的模型推理 —— #\n",
    "print(\"\\n📊 Evaluating all epoch checkpoints on test set:\")\n",
    "epoch_results = []\n",
    "\n",
    "for e in range(1, num_epochs + 1):\n",
    "    ckpt_file = f\"/root/autodl-fs/ckpt_swin/epoch_{e}.pth\"\n",
    "    if not os.path.exists(ckpt_file):\n",
    "        print(f\"❌ Epoch {e} model not found.\")\n",
    "        continue\n",
    "\n",
    "    model.load_state_dict(torch.load(ckpt_file))\n",
    "    model.eval()\n",
    "\n",
    "    test_loss, test_acc, total = 0.0, 0, 0\n",
    "    with torch.no_grad():\n",
    "        for x, y in test_loader:\n",
    "            x, y = x.to(device), y.to(device)\n",
    "            out = model(x)\n",
    "            loss = criterion(out, y)\n",
    "            test_loss += loss.item() * x.size(0)\n",
    "            test_acc  += (out.argmax(1) == y).sum().item()\n",
    "            total += y.size(0)\n",
    "\n",
    "    test_loss /= total\n",
    "    test_acc  /= total\n",
    "    epoch_results.append((e, test_loss, test_acc))\n",
    "    print(f\"📁 Epoch {e:02d} | Test Loss: {test_loss:.4f} | Test Accuracy: {test_acc:.4f}\")\n"
   ]
  },
  {
   "cell_type": "code",
   "execution_count": 4,
   "id": "2cc78c7a-1d51-4a6e-ae31-6c3a6987a193",
   "metadata": {},
   "outputs": [
    {
     "data": {
      "application/vnd.jupyter.widget-view+json": {
       "model_id": "eaaa8ea5b98041a5b734ced74d1fbfc4",
       "version_major": 2,
       "version_minor": 0
      },
      "text/plain": [
       "Epoch 1/10:   0%|          | 0/283 [00:00<?, ?it/s]"
      ]
     },
     "metadata": {},
     "output_type": "display_data"
    },
    {
     "name": "stdout",
     "output_type": "stream",
     "text": [
      "[Epoch 1] Train Loss: 0.3257, Acc: 0.8611 | Val Loss: 0.2580, Acc: 0.9023\n",
      "✅ Saved Best Model!\n"
     ]
    },
    {
     "data": {
      "application/vnd.jupyter.widget-view+json": {
       "model_id": "2d116b08bbec493f9770465b0b3e95de",
       "version_major": 2,
       "version_minor": 0
      },
      "text/plain": [
       "Epoch 2/10:   0%|          | 0/283 [00:00<?, ?it/s]"
      ]
     },
     "metadata": {},
     "output_type": "display_data"
    },
    {
     "name": "stdout",
     "output_type": "stream",
     "text": [
      "[Epoch 2] Train Loss: 0.2757, Acc: 0.8907 | Val Loss: 0.2209, Acc: 0.9179\n",
      "✅ Saved Best Model!\n"
     ]
    },
    {
     "data": {
      "application/vnd.jupyter.widget-view+json": {
       "model_id": "774e1f19dc1e4ff2a29cef9a554560fa",
       "version_major": 2,
       "version_minor": 0
      },
      "text/plain": [
       "Epoch 3/10:   0%|          | 0/283 [00:00<?, ?it/s]"
      ]
     },
     "metadata": {},
     "output_type": "display_data"
    },
    {
     "name": "stdout",
     "output_type": "stream",
     "text": [
      "[Epoch 3] Train Loss: 0.2432, Acc: 0.9013 | Val Loss: 0.2048, Acc: 0.9185\n",
      "✅ Saved Best Model!\n"
     ]
    },
    {
     "data": {
      "application/vnd.jupyter.widget-view+json": {
       "model_id": "ff20da6057c041039924ee55b81fe42e",
       "version_major": 2,
       "version_minor": 0
      },
      "text/plain": [
       "Epoch 4/10:   0%|          | 0/283 [00:00<?, ?it/s]"
      ]
     },
     "metadata": {},
     "output_type": "display_data"
    },
    {
     "name": "stdout",
     "output_type": "stream",
     "text": [
      "[Epoch 4] Train Loss: 0.2018, Acc: 0.9191 | Val Loss: 0.2154, Acc: 0.9135\n"
     ]
    },
    {
     "data": {
      "application/vnd.jupyter.widget-view+json": {
       "model_id": "94c4acfc1c734cbc9a3ec237f79b1111",
       "version_major": 2,
       "version_minor": 0
      },
      "text/plain": [
       "Epoch 5/10:   0%|          | 0/283 [00:00<?, ?it/s]"
      ]
     },
     "metadata": {},
     "output_type": "display_data"
    },
    {
     "name": "stdout",
     "output_type": "stream",
     "text": [
      "[Epoch 5] Train Loss: 0.1776, Acc: 0.9300 | Val Loss: 0.2320, Acc: 0.9066\n"
     ]
    },
    {
     "data": {
      "application/vnd.jupyter.widget-view+json": {
       "model_id": "1f16934e9bc04b72a71a12d82b1b562a",
       "version_major": 2,
       "version_minor": 0
      },
      "text/plain": [
       "Epoch 6/10:   0%|          | 0/283 [00:00<?, ?it/s]"
      ]
     },
     "metadata": {},
     "output_type": "display_data"
    },
    {
     "name": "stdout",
     "output_type": "stream",
     "text": [
      "[Epoch 6] Train Loss: 0.1523, Acc: 0.9421 | Val Loss: 0.2364, Acc: 0.9117\n"
     ]
    },
    {
     "data": {
      "application/vnd.jupyter.widget-view+json": {
       "model_id": "7f685d33d5784f71907348d651388cb0",
       "version_major": 2,
       "version_minor": 0
      },
      "text/plain": [
       "Epoch 7/10:   0%|          | 0/283 [00:00<?, ?it/s]"
      ]
     },
     "metadata": {},
     "output_type": "display_data"
    },
    {
     "name": "stdout",
     "output_type": "stream",
     "text": [
      "[Epoch 7] Train Loss: 0.1254, Acc: 0.9525 | Val Loss: 0.2105, Acc: 0.9160\n"
     ]
    },
    {
     "data": {
      "application/vnd.jupyter.widget-view+json": {
       "model_id": "63a28d5fe0a049a49e531be42d46acf4",
       "version_major": 2,
       "version_minor": 0
      },
      "text/plain": [
       "Epoch 8/10:   0%|          | 0/283 [00:00<?, ?it/s]"
      ]
     },
     "metadata": {},
     "output_type": "display_data"
    },
    {
     "name": "stdout",
     "output_type": "stream",
     "text": [
      "[Epoch 8] Train Loss: 0.1037, Acc: 0.9604 | Val Loss: 0.2555, Acc: 0.9041\n"
     ]
    },
    {
     "data": {
      "application/vnd.jupyter.widget-view+json": {
       "model_id": "fa1e3326bf984124a2b0beae3214e697",
       "version_major": 2,
       "version_minor": 0
      },
      "text/plain": [
       "Epoch 9/10:   0%|          | 0/283 [00:00<?, ?it/s]"
      ]
     },
     "metadata": {},
     "output_type": "display_data"
    },
    {
     "name": "stdout",
     "output_type": "stream",
     "text": [
      "[Epoch 9] Train Loss: 0.0867, Acc: 0.9665 | Val Loss: 0.2775, Acc: 0.9279\n",
      "✅ Saved Best Model!\n"
     ]
    },
    {
     "data": {
      "application/vnd.jupyter.widget-view+json": {
       "model_id": "66d764ec997c4ed2be8036fbbc80dbe1",
       "version_major": 2,
       "version_minor": 0
      },
      "text/plain": [
       "Epoch 10/10:   0%|          | 0/283 [00:00<?, ?it/s]"
      ]
     },
     "metadata": {},
     "output_type": "display_data"
    },
    {
     "name": "stdout",
     "output_type": "stream",
     "text": [
      "[Epoch 10] Train Loss: 0.0731, Acc: 0.9725 | Val Loss: 0.3439, Acc: 0.9185\n"
     ]
    },
    {
     "name": "stderr",
     "output_type": "stream",
     "text": [
      "/tmp/ipykernel_27642/1760770288.py:102: FutureWarning: You are using `torch.load` with `weights_only=False` (the current default value), which uses the default pickle module implicitly. It is possible to construct malicious pickle data which will execute arbitrary code during unpickling (See https://github.com/pytorch/pytorch/blob/main/SECURITY.md#untrusted-models for more details). In a future release, the default value for `weights_only` will be flipped to `True`. This limits the functions that could be executed during unpickling. Arbitrary objects will no longer be allowed to be loaded via this mode unless they are explicitly allowlisted by the user via `torch.serialization.add_safe_globals`. We recommend you start setting `weights_only=True` for any use case where you don't have full control of the loaded file. Please open an issue on GitHub for any issues related to this experimental feature.\n",
      "  model.load_state_dict(torch.load(ckpt_path))\n"
     ]
    },
    {
     "name": "stdout",
     "output_type": "stream",
     "text": [
      "🎯 Test Loss: 0.5143 | Test Accuracy: 0.8832\n",
      "\n",
      "📊 Evaluating all epoch checkpoints on test set:\n"
     ]
    },
    {
     "name": "stderr",
     "output_type": "stream",
     "text": [
      "/tmp/ipykernel_27642/1760770288.py:128: FutureWarning: You are using `torch.load` with `weights_only=False` (the current default value), which uses the default pickle module implicitly. It is possible to construct malicious pickle data which will execute arbitrary code during unpickling (See https://github.com/pytorch/pytorch/blob/main/SECURITY.md#untrusted-models for more details). In a future release, the default value for `weights_only` will be flipped to `True`. This limits the functions that could be executed during unpickling. Arbitrary objects will no longer be allowed to be loaded via this mode unless they are explicitly allowlisted by the user via `torch.serialization.add_safe_globals`. We recommend you start setting `weights_only=True` for any use case where you don't have full control of the loaded file. Please open an issue on GitHub for any issues related to this experimental feature.\n",
      "  model.load_state_dict(torch.load(ckpt_file))\n"
     ]
    },
    {
     "name": "stdout",
     "output_type": "stream",
     "text": [
      "📁 Epoch 01 | Test Loss: 0.3172 | Test Accuracy: 0.8891\n",
      "📁 Epoch 02 | Test Loss: 0.3216 | Test Accuracy: 0.8803\n",
      "📁 Epoch 03 | Test Loss: 0.2875 | Test Accuracy: 0.8803\n",
      "📁 Epoch 04 | Test Loss: 0.3064 | Test Accuracy: 0.8861\n",
      "📁 Epoch 05 | Test Loss: 0.3493 | Test Accuracy: 0.8788\n",
      "📁 Epoch 06 | Test Loss: 0.3266 | Test Accuracy: 0.8803\n",
      "📁 Epoch 07 | Test Loss: 0.3540 | Test Accuracy: 0.8788\n",
      "📁 Epoch 08 | Test Loss: 0.4143 | Test Accuracy: 0.8380\n",
      "📁 Epoch 09 | Test Loss: 0.5143 | Test Accuracy: 0.8832\n",
      "📁 Epoch 10 | Test Loss: 0.5043 | Test Accuracy: 0.8934\n"
     ]
    }
   ],
   "source": [
    "import os\n",
    "import torch\n",
    "import torch.nn as nn\n",
    "import torch.optim as optim\n",
    "from torchvision import transforms\n",
    "from torch.utils.data import DataLoader\n",
    "from torchvision.datasets import ImageFolder\n",
    "from torchvision.models import swin_t, Swin_T_Weights\n",
    "from tqdm.notebook import tqdm\n",
    "\n",
    "# —— 1. 忽略隐藏目录 —— #\n",
    "class FilteredImageFolder(ImageFolder):\n",
    "    def find_classes(self, directory):\n",
    "        classes = [d.name for d in os.scandir(directory) if d.is_dir() and not d.name.startswith('.')]\n",
    "        classes.sort()\n",
    "        class_to_idx = {cls_name: idx for idx, cls_name in enumerate(classes)}\n",
    "        return classes, class_to_idx\n",
    "\n",
    "# —— 2. 配置 —— #\n",
    "train_dir = \"/root/autodl-fs/generate_twice/train\"\n",
    "val_dir   = \"/root/autodl-fs/generate_twice/val\"\n",
    "test_dir  = \"/root/autodl-fs/generate_twice/test\"\n",
    "ckpt_path     = \"/root/autodl-fs/best_swin.pth\"\n",
    "batch_size    = 32\n",
    "num_epochs    = 10\n",
    "learning_rate = 1e-4  # Swin 推荐稍大于 ViT\n",
    "device        = torch.device(\"cuda\" if torch.cuda.is_available() else \"cpu\")\n",
    "\n",
    "# —— 3. 预处理 —— #\n",
    "weights = Swin_T_Weights.DEFAULT\n",
    "transform = weights.transforms()\n",
    "\n",
    "# —— 4. 加载数据 —— #\n",
    "train_dataset = FilteredImageFolder(root=train_dir, transform=transform)\n",
    "test_dataset  = FilteredImageFolder(root=test_dir,  transform=transform)\n",
    "\n",
    "if os.path.exists(val_dir):\n",
    "    val_dataset = FilteredImageFolder(root=val_dir, transform=transform)\n",
    "else:\n",
    "    val_len = int(len(train_dataset) * 0.15)\n",
    "    train_len = len(train_dataset) - val_len\n",
    "    train_dataset, val_dataset = torch.utils.data.random_split(train_dataset, [train_len, val_len])\n",
    "\n",
    "train_loader = DataLoader(train_dataset, batch_size=batch_size, shuffle=True, num_workers=4)\n",
    "val_loader   = DataLoader(val_dataset,   batch_size=batch_size, shuffle=False, num_workers=4)\n",
    "test_loader  = DataLoader(test_dataset,  batch_size=batch_size, shuffle=False, num_workers=4)\n",
    "\n",
    "# —— 5. Swin 模型定义 —— #\n",
    "model = swin_t(weights=weights)\n",
    "num_classes = len(train_dataset.dataset.classes if hasattr(train_dataset, 'dataset') else train_dataset.classes)\n",
    "model.head = nn.Linear(model.head.in_features, num_classes)\n",
    "model.to(device)\n",
    "\n",
    "criterion = nn.CrossEntropyLoss()\n",
    "optimizer = optim.Adam(model.parameters(), lr=learning_rate)\n",
    "\n",
    "# —— 6. 训练 + 验证 + 保存最佳模型 —— #\n",
    "best_val_acc = 0.0\n",
    "for epoch in range(num_epochs):\n",
    "    model.train()\n",
    "    train_loss, train_acc = 0.0, 0\n",
    "    for x, y in tqdm(train_loader, desc=f\"Epoch {epoch+1}/{num_epochs}\"):\n",
    "        x, y = x.to(device), y.to(device)\n",
    "        optimizer.zero_grad()\n",
    "        out = model(x)\n",
    "        loss = criterion(out, y)\n",
    "        loss.backward()\n",
    "        optimizer.step()\n",
    "        train_loss += loss.item() * x.size(0)\n",
    "        train_acc += (out.argmax(1) == y).sum().item()\n",
    "\n",
    "    train_loss /= len(train_loader.dataset)\n",
    "    train_acc  /= len(train_loader.dataset)\n",
    "\n",
    "    # 验证\n",
    "    model.eval()\n",
    "    val_loss, val_acc = 0.0, 0\n",
    "    with torch.no_grad():\n",
    "        for x, y in val_loader:\n",
    "            x, y = x.to(device), y.to(device)\n",
    "            out = model(x)\n",
    "            loss = criterion(out, y)\n",
    "            val_loss += loss.item() * x.size(0)\n",
    "            val_acc  += (out.argmax(1) == y).sum().item()\n",
    "    val_loss /= len(val_loader.dataset)\n",
    "    val_acc  /= len(val_loader.dataset)\n",
    "\n",
    "    print(f\"[Epoch {epoch+1}] Train Loss: {train_loss:.4f}, Acc: {train_acc:.4f} | Val Loss: {val_loss:.4f}, Acc: {val_acc:.4f}\")\n",
    "\n",
    "    if val_acc > best_val_acc:\n",
    "        best_val_acc = val_acc\n",
    "        os.makedirs(os.path.dirname(ckpt_path), exist_ok=True)\n",
    "        torch.save(model.state_dict(), ckpt_path)\n",
    "        print(\"✅ Saved Best Model!\")\n",
    "\n",
    "    # 每个 epoch 保存一次模型\n",
    "    epoch_ckpt_path = f\"/root/autodl-fs/ckpt_swin/epoch_{epoch+1}.pth\"\n",
    "    os.makedirs(os.path.dirname(epoch_ckpt_path), exist_ok=True)\n",
    "    torch.save(model.state_dict(), epoch_ckpt_path)\n",
    "\n",
    "# —— 7. 测试集评估 —— #\n",
    "model.load_state_dict(torch.load(ckpt_path))\n",
    "model.eval()\n",
    "test_loss, test_acc, total = 0.0, 0, 0\n",
    "with torch.no_grad():\n",
    "    for x, y in test_loader:\n",
    "        x, y = x.to(device), y.to(device)\n",
    "        out = model(x)\n",
    "        loss = criterion(out, y)\n",
    "        test_loss += loss.item() * x.size(0)\n",
    "        test_acc  += (out.argmax(1) == y).sum().item()\n",
    "        total += y.size(0)\n",
    "\n",
    "test_loss /= total\n",
    "test_acc  /= total\n",
    "print(f\"🎯 Test Loss: {test_loss:.4f} | Test Accuracy: {test_acc:.4f}\")\n",
    "\n",
    "# —— 8. 所有 epoch 的模型推理 —— #\n",
    "print(\"\\n📊 Evaluating all epoch checkpoints on test set:\")\n",
    "epoch_results = []\n",
    "\n",
    "for e in range(1, num_epochs + 1):\n",
    "    ckpt_file = f\"/root/autodl-fs/ckpt_swin/epoch_{e}.pth\"\n",
    "    if not os.path.exists(ckpt_file):\n",
    "        print(f\"❌ Epoch {e} model not found.\")\n",
    "        continue\n",
    "\n",
    "    model.load_state_dict(torch.load(ckpt_file))\n",
    "    model.eval()\n",
    "\n",
    "    test_loss, test_acc, total = 0.0, 0, 0\n",
    "    with torch.no_grad():\n",
    "        for x, y in test_loader:\n",
    "            x, y = x.to(device), y.to(device)\n",
    "            out = model(x)\n",
    "            loss = criterion(out, y)\n",
    "            test_loss += loss.item() * x.size(0)\n",
    "            test_acc  += (out.argmax(1) == y).sum().item()\n",
    "            total += y.size(0)\n",
    "\n",
    "    test_loss /= total\n",
    "    test_acc  /= total\n",
    "    epoch_results.append((e, test_loss, test_acc))\n",
    "    print(f\"📁 Epoch {e:02d} | Test Loss: {test_loss:.4f} | Test Accuracy: {test_acc:.4f}\")\n"
   ]
  },
  {
   "cell_type": "code",
   "execution_count": null,
   "id": "2ee50252-2d02-4a11-882c-e8fecf688cf7",
   "metadata": {},
   "outputs": [],
   "source": []
  }
 ],
 "metadata": {
  "kernelspec": {
   "display_name": "Python 3 (ipykernel)",
   "language": "python",
   "name": "python3"
  },
  "language_info": {
   "codemirror_mode": {
    "name": "ipython",
    "version": 3
   },
   "file_extension": ".py",
   "mimetype": "text/x-python",
   "name": "python",
   "nbconvert_exporter": "python",
   "pygments_lexer": "ipython3",
   "version": "3.12.3"
  }
 },
 "nbformat": 4,
 "nbformat_minor": 5
}
