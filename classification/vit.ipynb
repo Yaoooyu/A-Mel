{
 "cells": [
  {
   "cell_type": "code",
   "execution_count": null,
   "id": "7a98293f-50ab-4c4e-af6e-2a0163aca562",
   "metadata": {},
   "outputs": [],
   "source": [
    "#   1 🎯 Test Loss: 0.2043 | Test Accuracy: 0.9418\n",
    "#   2 🎯 Test Loss: 0.5611 | Test Accuracy: 0.9136\n",
    "#   3 🎯 Test Loss: 0.0806 | Test Accuracy: 0.9912\n",
    "#   病变 🎯 Test Loss: 0.1399 | Test Accuracy: 0.9606"
   ]
  },
  {
   "cell_type": "code",
   "execution_count": 2,
   "id": "8d854d49-11cb-4d4e-8ece-e76dda3928ea",
   "metadata": {},
   "outputs": [
    {
     "name": "stderr",
     "output_type": "stream",
     "text": [
      "Downloading: \"https://download.pytorch.org/models/vit_b_16-c867db91.pth\" to /root/.cache/torch/hub/checkpoints/vit_b_16-c867db91.pth\n",
      "100%|██████████| 330M/330M [01:32<00:00, 3.76MB/s] \n"
     ]
    },
    {
     "data": {
      "application/vnd.jupyter.widget-view+json": {
       "model_id": "a890a5b74a8d4a9e9d75c387785a4939",
       "version_major": 2,
       "version_minor": 0
      },
      "text/plain": [
       "Epoch 1/10:   0%|          | 0/251 [00:00<?, ?it/s]"
      ]
     },
     "metadata": {},
     "output_type": "display_data"
    },
    {
     "name": "stdout",
     "output_type": "stream",
     "text": [
      "[Epoch 1] Train Loss: 0.2430, Acc: 0.8967 | Val Loss: 0.1823, Acc: 0.9295\n",
      "✅ Saved Best Model!\n"
     ]
    },
    {
     "data": {
      "application/vnd.jupyter.widget-view+json": {
       "model_id": "fa43784dd24d4c8e8c7b42d7f9f70744",
       "version_major": 2,
       "version_minor": 0
      },
      "text/plain": [
       "Epoch 2/10:   0%|          | 0/251 [00:00<?, ?it/s]"
      ]
     },
     "metadata": {},
     "output_type": "display_data"
    },
    {
     "name": "stdout",
     "output_type": "stream",
     "text": [
      "[Epoch 2] Train Loss: 0.1655, Acc: 0.9364 | Val Loss: 0.1745, Acc: 0.9319\n",
      "✅ Saved Best Model!\n"
     ]
    },
    {
     "data": {
      "application/vnd.jupyter.widget-view+json": {
       "model_id": "0cab8272e4f6434b836016abd3fcbcec",
       "version_major": 2,
       "version_minor": 0
      },
      "text/plain": [
       "Epoch 3/10:   0%|          | 0/251 [00:00<?, ?it/s]"
      ]
     },
     "metadata": {},
     "output_type": "display_data"
    },
    {
     "name": "stdout",
     "output_type": "stream",
     "text": [
      "[Epoch 3] Train Loss: 0.1211, Acc: 0.9552 | Val Loss: 0.1801, Acc: 0.9388\n",
      "✅ Saved Best Model!\n"
     ]
    },
    {
     "data": {
      "application/vnd.jupyter.widget-view+json": {
       "model_id": "a892778de9a34963a951f4daa670d915",
       "version_major": 2,
       "version_minor": 0
      },
      "text/plain": [
       "Epoch 4/10:   0%|          | 0/251 [00:00<?, ?it/s]"
      ]
     },
     "metadata": {},
     "output_type": "display_data"
    },
    {
     "name": "stdout",
     "output_type": "stream",
     "text": [
      "[Epoch 4] Train Loss: 0.1008, Acc: 0.9636 | Val Loss: 0.2495, Acc: 0.9185\n"
     ]
    },
    {
     "data": {
      "application/vnd.jupyter.widget-view+json": {
       "model_id": "dea81078116c4170b3ffed34943c7ce3",
       "version_major": 2,
       "version_minor": 0
      },
      "text/plain": [
       "Epoch 5/10:   0%|          | 0/251 [00:00<?, ?it/s]"
      ]
     },
     "metadata": {},
     "output_type": "display_data"
    },
    {
     "name": "stdout",
     "output_type": "stream",
     "text": [
      "[Epoch 5] Train Loss: 0.0795, Acc: 0.9717 | Val Loss: 0.2793, Acc: 0.8893\n"
     ]
    },
    {
     "data": {
      "application/vnd.jupyter.widget-view+json": {
       "model_id": "aa18b8daa7734b8fa916533157c13393",
       "version_major": 2,
       "version_minor": 0
      },
      "text/plain": [
       "Epoch 6/10:   0%|          | 0/251 [00:00<?, ?it/s]"
      ]
     },
     "metadata": {},
     "output_type": "display_data"
    },
    {
     "name": "stdout",
     "output_type": "stream",
     "text": [
      "[Epoch 6] Train Loss: 0.0447, Acc: 0.9842 | Val Loss: 0.2561, Acc: 0.9190\n"
     ]
    },
    {
     "data": {
      "application/vnd.jupyter.widget-view+json": {
       "model_id": "ccc46d41d937430d9daf45b3abab0e6f",
       "version_major": 2,
       "version_minor": 0
      },
      "text/plain": [
       "Epoch 7/10:   0%|          | 0/251 [00:00<?, ?it/s]"
      ]
     },
     "metadata": {},
     "output_type": "display_data"
    },
    {
     "name": "stdout",
     "output_type": "stream",
     "text": [
      "[Epoch 7] Train Loss: 0.0416, Acc: 0.9860 | Val Loss: 0.2922, Acc: 0.9045\n"
     ]
    },
    {
     "data": {
      "application/vnd.jupyter.widget-view+json": {
       "model_id": "4b259740bb6d49519172eaaf3942af46",
       "version_major": 2,
       "version_minor": 0
      },
      "text/plain": [
       "Epoch 8/10:   0%|          | 0/251 [00:00<?, ?it/s]"
      ]
     },
     "metadata": {},
     "output_type": "display_data"
    },
    {
     "name": "stdout",
     "output_type": "stream",
     "text": [
      "[Epoch 8] Train Loss: 0.0314, Acc: 0.9896 | Val Loss: 0.3221, Acc: 0.8992\n"
     ]
    },
    {
     "data": {
      "application/vnd.jupyter.widget-view+json": {
       "model_id": "16268bf9c06841a590f9d6f93c4449ae",
       "version_major": 2,
       "version_minor": 0
      },
      "text/plain": [
       "Epoch 9/10:   0%|          | 0/251 [00:00<?, ?it/s]"
      ]
     },
     "metadata": {},
     "output_type": "display_data"
    },
    {
     "name": "stdout",
     "output_type": "stream",
     "text": [
      "[Epoch 9] Train Loss: 0.0243, Acc: 0.9924 | Val Loss: 0.2801, Acc: 0.9330\n"
     ]
    },
    {
     "data": {
      "application/vnd.jupyter.widget-view+json": {
       "model_id": "c42af22935574a9887ad133139cbd816",
       "version_major": 2,
       "version_minor": 0
      },
      "text/plain": [
       "Epoch 10/10:   0%|          | 0/251 [00:00<?, ?it/s]"
      ]
     },
     "metadata": {},
     "output_type": "display_data"
    },
    {
     "name": "stdout",
     "output_type": "stream",
     "text": [
      "[Epoch 10] Train Loss: 0.0309, Acc: 0.9889 | Val Loss: 0.2986, Acc: 0.9255\n"
     ]
    },
    {
     "name": "stderr",
     "output_type": "stream",
     "text": [
      "/tmp/ipykernel_5074/2492976349.py:102: FutureWarning: You are using `torch.load` with `weights_only=False` (the current default value), which uses the default pickle module implicitly. It is possible to construct malicious pickle data which will execute arbitrary code during unpickling (See https://github.com/pytorch/pytorch/blob/main/SECURITY.md#untrusted-models for more details). In a future release, the default value for `weights_only` will be flipped to `True`. This limits the functions that could be executed during unpickling. Arbitrary objects will no longer be allowed to be loaded via this mode unless they are explicitly allowlisted by the user via `torch.serialization.add_safe_globals`. We recommend you start setting `weights_only=True` for any use case where you don't have full control of the loaded file. Please open an issue on GitHub for any issues related to this experimental feature.\n",
      "  model.load_state_dict(torch.load(ckpt_path))\n"
     ]
    },
    {
     "name": "stdout",
     "output_type": "stream",
     "text": [
      "🎯 Test Loss: 0.1621 | Test Accuracy: 0.9418\n",
      "\n",
      "📊 Evaluating all epoch checkpoints on test set:\n"
     ]
    },
    {
     "name": "stderr",
     "output_type": "stream",
     "text": [
      "/tmp/ipykernel_5074/2492976349.py:128: FutureWarning: You are using `torch.load` with `weights_only=False` (the current default value), which uses the default pickle module implicitly. It is possible to construct malicious pickle data which will execute arbitrary code during unpickling (See https://github.com/pytorch/pytorch/blob/main/SECURITY.md#untrusted-models for more details). In a future release, the default value for `weights_only` will be flipped to `True`. This limits the functions that could be executed during unpickling. Arbitrary objects will no longer be allowed to be loaded via this mode unless they are explicitly allowlisted by the user via `torch.serialization.add_safe_globals`. We recommend you start setting `weights_only=True` for any use case where you don't have full control of the loaded file. Please open an issue on GitHub for any issues related to this experimental feature.\n",
      "  model.load_state_dict(torch.load(ckpt_file))\n"
     ]
    },
    {
     "name": "stdout",
     "output_type": "stream",
     "text": [
      "📁 Epoch 01 | Test Loss: 0.1781 | Test Accuracy: 0.9331\n",
      "📁 Epoch 02 | Test Loss: 0.1664 | Test Accuracy: 0.9424\n",
      "📁 Epoch 03 | Test Loss: 0.1621 | Test Accuracy: 0.9418\n",
      "📁 Epoch 04 | Test Loss: 0.2043 | Test Accuracy: 0.9255\n",
      "📁 Epoch 05 | Test Loss: 0.2699 | Test Accuracy: 0.8958\n",
      "📁 Epoch 06 | Test Loss: 0.2317 | Test Accuracy: 0.9348\n",
      "📁 Epoch 07 | Test Loss: 0.2387 | Test Accuracy: 0.9185\n",
      "📁 Epoch 08 | Test Loss: 0.2975 | Test Accuracy: 0.9092\n",
      "📁 Epoch 09 | Test Loss: 0.2634 | Test Accuracy: 0.9383\n",
      "📁 Epoch 10 | Test Loss: 0.2613 | Test Accuracy: 0.9331\n"
     ]
    }
   ],
   "source": [
    "import os\n",
    "import torch\n",
    "import torch.nn as nn\n",
    "import torch.optim as optim\n",
    "from torchvision import transforms\n",
    "from torch.utils.data import DataLoader\n",
    "from torchvision.datasets import ImageFolder\n",
    "from torchvision.models import vit_b_16, ViT_B_16_Weights\n",
    "from tqdm.notebook import tqdm\n",
    "\n",
    "# —— 1. 忽略隐藏目录 —— #\n",
    "class FilteredImageFolder(ImageFolder):\n",
    "    def find_classes(self, directory):\n",
    "        classes = [d.name for d in os.scandir(directory) if d.is_dir() and not d.name.startswith('.')]\n",
    "        classes.sort()\n",
    "        class_to_idx = {cls_name: idx for idx, cls_name in enumerate(classes)}\n",
    "        return classes, class_to_idx\n",
    "\n",
    "# —— 2. 配置 —— #\n",
    "train_dir = \"/root/autodl-fs/isic19_20_split/train\"\n",
    "val_dir   = \"/root/autodl-fs/isic19_20_split/val\"\n",
    "test_dir  = \"/root/autodl-fs/isic19_20_split/test\"\n",
    "ckpt_path     = \"/root/autodl-fs/best_vit.pth\"\n",
    "batch_size    = 32\n",
    "num_epochs    = 10\n",
    "learning_rate = 5e-5  # ViT 通常使用较小的学习率\n",
    "device        = torch.device(\"cuda\" if torch.cuda.is_available() else \"cpu\")\n",
    "\n",
    "# —— 3. 使用 ViT 的官方预处理 —— #\n",
    "weights = ViT_B_16_Weights.DEFAULT\n",
    "transform = weights.transforms()\n",
    "\n",
    "# —— 4. 加载数据 —— #\n",
    "train_dataset = FilteredImageFolder(root=train_dir, transform=transform)\n",
    "test_dataset  = FilteredImageFolder(root=test_dir,  transform=transform)\n",
    "\n",
    "if os.path.exists(val_dir):\n",
    "    val_dataset = FilteredImageFolder(root=val_dir, transform=transform)\n",
    "else:\n",
    "    val_len = int(len(train_dataset) * 0.15)\n",
    "    train_len = len(train_dataset) - val_len\n",
    "    train_dataset, val_dataset = torch.utils.data.random_split(train_dataset, [train_len, val_len])\n",
    "\n",
    "train_loader = DataLoader(train_dataset, batch_size=batch_size, shuffle=True, num_workers=4)\n",
    "val_loader   = DataLoader(val_dataset,   batch_size=batch_size, shuffle=False, num_workers=4)\n",
    "test_loader  = DataLoader(test_dataset,  batch_size=batch_size, shuffle=False, num_workers=4)\n",
    "\n",
    "# —— 5. 模型定义 —— #\n",
    "model = vit_b_16(weights=weights)\n",
    "num_classes = len(train_dataset.dataset.classes if hasattr(train_dataset, 'dataset') else train_dataset.classes)\n",
    "model.heads.head = nn.Linear(model.heads.head.in_features, num_classes)\n",
    "model.to(device)\n",
    "\n",
    "criterion = nn.CrossEntropyLoss()\n",
    "optimizer = optim.Adam(model.parameters(), lr=learning_rate)\n",
    "\n",
    "# —— 6. 训练 + 验证 + 保存最佳模型 —— #\n",
    "best_val_acc = 0.0\n",
    "for epoch in range(num_epochs):\n",
    "    model.train()\n",
    "    train_loss, train_acc = 0.0, 0\n",
    "    for x, y in tqdm(train_loader, desc=f\"Epoch {epoch+1}/{num_epochs}\"):\n",
    "        x, y = x.to(device), y.to(device)\n",
    "        optimizer.zero_grad()\n",
    "        out = model(x)\n",
    "        loss = criterion(out, y)\n",
    "        loss.backward()\n",
    "        optimizer.step()\n",
    "        train_loss += loss.item() * x.size(0)\n",
    "        train_acc += (out.argmax(1) == y).sum().item()\n",
    "    \n",
    "    train_loss /= len(train_loader.dataset)\n",
    "    train_acc  /= len(train_loader.dataset)\n",
    "\n",
    "    # 验证\n",
    "    model.eval()\n",
    "    val_loss, val_acc = 0.0, 0\n",
    "    with torch.no_grad():\n",
    "        for x, y in val_loader:\n",
    "            x, y = x.to(device), y.to(device)\n",
    "            out = model(x)\n",
    "            loss = criterion(out, y)\n",
    "            val_loss += loss.item() * x.size(0)\n",
    "            val_acc  += (out.argmax(1) == y).sum().item()\n",
    "    val_loss /= len(val_loader.dataset)\n",
    "    val_acc  /= len(val_loader.dataset)\n",
    "\n",
    "    print(f\"[Epoch {epoch+1}] Train Loss: {train_loss:.4f}, Acc: {train_acc:.4f} | Val Loss: {val_loss:.4f}, Acc: {val_acc:.4f}\")\n",
    "\n",
    "    if val_acc > best_val_acc:\n",
    "        best_val_acc = val_acc\n",
    "        os.makedirs(os.path.dirname(ckpt_path), exist_ok=True)\n",
    "        torch.save(model.state_dict(), ckpt_path)\n",
    "        print(\"✅ Saved Best Model!\")\n",
    "\n",
    "    # 每个 epoch 保存一次模型\n",
    "    epoch_ckpt_path = f\"/root/autodl-fs/ckpt_vit/epoch_{epoch+1}.pth\"\n",
    "    os.makedirs(os.path.dirname(epoch_ckpt_path), exist_ok=True)\n",
    "    torch.save(model.state_dict(), epoch_ckpt_path)\n",
    "\n",
    "# —— 7. 加载并评估测试集 —— #\n",
    "model.load_state_dict(torch.load(ckpt_path))\n",
    "model.eval()\n",
    "test_loss, test_acc, total = 0.0, 0, 0\n",
    "with torch.no_grad():\n",
    "    for x, y in test_loader:\n",
    "        x, y = x.to(device), y.to(device)\n",
    "        out = model(x)\n",
    "        loss = criterion(out, y)\n",
    "        test_loss += loss.item() * x.size(0)\n",
    "        test_acc  += (out.argmax(1) == y).sum().item()\n",
    "        total += y.size(0)\n",
    "\n",
    "test_loss /= total\n",
    "test_acc  /= total\n",
    "print(f\"🎯 Test Loss: {test_loss:.4f} | Test Accuracy: {test_acc:.4f}\")\n",
    "\n",
    "# —— 8. 所有 epoch 的模型推理 —— #\n",
    "print(\"\\n📊 Evaluating all epoch checkpoints on test set:\")\n",
    "epoch_results = []\n",
    "\n",
    "for e in range(1, num_epochs + 1):\n",
    "    ckpt_file = f\"/root/autodl-fs/ckpt_vit/epoch_{e}.pth\"\n",
    "    if not os.path.exists(ckpt_file):\n",
    "        print(f\"❌ Epoch {e} model not found.\")\n",
    "        continue\n",
    "\n",
    "    model.load_state_dict(torch.load(ckpt_file))\n",
    "    model.eval()\n",
    "\n",
    "    test_loss, test_acc, total = 0.0, 0, 0\n",
    "    with torch.no_grad():\n",
    "        for x, y in test_loader:\n",
    "            x, y = x.to(device), y.to(device)\n",
    "            out = model(x)\n",
    "            loss = criterion(out, y)\n",
    "            test_loss += loss.item() * x.size(0)\n",
    "            test_acc  += (out.argmax(1) == y).sum().item()\n",
    "            total += y.size(0)\n",
    "\n",
    "    test_loss /= total\n",
    "    test_acc  /= total\n",
    "    epoch_results.append((e, test_loss, test_acc))\n",
    "    print(f\"📁 Epoch {e:02d} | Test Loss: {test_loss:.4f} | Test Accuracy: {test_acc:.4f}\")\n"
   ]
  },
  {
   "cell_type": "code",
   "execution_count": 5,
   "id": "2d448180-8bf3-4615-b4cc-2856a3e45418",
   "metadata": {},
   "outputs": [
    {
     "data": {
      "application/vnd.jupyter.widget-view+json": {
       "model_id": "7ee9629034dd4230b80d5e83adb5bb7d",
       "version_major": 2,
       "version_minor": 0
      },
      "text/plain": [
       "Epoch 1/10:   0%|          | 0/287 [00:00<?, ?it/s]"
      ]
     },
     "metadata": {},
     "output_type": "display_data"
    },
    {
     "name": "stdout",
     "output_type": "stream",
     "text": [
      "[Epoch 1] Train Loss: 0.2267, Acc: 0.9080 | Val Loss: 0.1853, Acc: 0.9238\n",
      "✅ Saved Best Model!\n"
     ]
    },
    {
     "data": {
      "application/vnd.jupyter.widget-view+json": {
       "model_id": "514df263313d436e904d40c787e43b7a",
       "version_major": 2,
       "version_minor": 0
      },
      "text/plain": [
       "Epoch 2/10:   0%|          | 0/287 [00:00<?, ?it/s]"
      ]
     },
     "metadata": {},
     "output_type": "display_data"
    },
    {
     "name": "stdout",
     "output_type": "stream",
     "text": [
      "[Epoch 2] Train Loss: 0.1535, Acc: 0.9410 | Val Loss: 0.1820, Acc: 0.9276\n",
      "✅ Saved Best Model!\n"
     ]
    },
    {
     "data": {
      "application/vnd.jupyter.widget-view+json": {
       "model_id": "d7abfc35052f492cbbf160b54ee38f27",
       "version_major": 2,
       "version_minor": 0
      },
      "text/plain": [
       "Epoch 3/10:   0%|          | 0/287 [00:00<?, ?it/s]"
      ]
     },
     "metadata": {},
     "output_type": "display_data"
    },
    {
     "name": "stdout",
     "output_type": "stream",
     "text": [
      "[Epoch 3] Train Loss: 0.1075, Acc: 0.9602 | Val Loss: 0.1763, Acc: 0.9350\n",
      "✅ Saved Best Model!\n"
     ]
    },
    {
     "data": {
      "application/vnd.jupyter.widget-view+json": {
       "model_id": "68d11d0a6f8a43b898891ae5ea41c626",
       "version_major": 2,
       "version_minor": 0
      },
      "text/plain": [
       "Epoch 4/10:   0%|          | 0/287 [00:00<?, ?it/s]"
      ]
     },
     "metadata": {},
     "output_type": "display_data"
    },
    {
     "name": "stdout",
     "output_type": "stream",
     "text": [
      "[Epoch 4] Train Loss: 0.0752, Acc: 0.9704 | Val Loss: 0.2333, Acc: 0.9251\n"
     ]
    },
    {
     "data": {
      "application/vnd.jupyter.widget-view+json": {
       "model_id": "a83b8cfe19ca4e9cb3e78e79d4e20145",
       "version_major": 2,
       "version_minor": 0
      },
      "text/plain": [
       "Epoch 5/10:   0%|          | 0/287 [00:00<?, ?it/s]"
      ]
     },
     "metadata": {},
     "output_type": "display_data"
    },
    {
     "name": "stdout",
     "output_type": "stream",
     "text": [
      "[Epoch 5] Train Loss: 0.0609, Acc: 0.9786 | Val Loss: 0.2206, Acc: 0.9245\n"
     ]
    },
    {
     "data": {
      "application/vnd.jupyter.widget-view+json": {
       "model_id": "eedb15ee19b5455f883762212c2721d9",
       "version_major": 2,
       "version_minor": 0
      },
      "text/plain": [
       "Epoch 6/10:   0%|          | 0/287 [00:00<?, ?it/s]"
      ]
     },
     "metadata": {},
     "output_type": "display_data"
    },
    {
     "name": "stdout",
     "output_type": "stream",
     "text": [
      "[Epoch 6] Train Loss: 0.0494, Acc: 0.9825 | Val Loss: 0.2702, Acc: 0.9294\n"
     ]
    },
    {
     "data": {
      "application/vnd.jupyter.widget-view+json": {
       "model_id": "2915e16f252b4954a409de88e4350ffd",
       "version_major": 2,
       "version_minor": 0
      },
      "text/plain": [
       "Epoch 7/10:   0%|          | 0/287 [00:00<?, ?it/s]"
      ]
     },
     "metadata": {},
     "output_type": "display_data"
    },
    {
     "name": "stdout",
     "output_type": "stream",
     "text": [
      "[Epoch 7] Train Loss: 0.0335, Acc: 0.9883 | Val Loss: 0.2822, Acc: 0.9269\n"
     ]
    },
    {
     "data": {
      "application/vnd.jupyter.widget-view+json": {
       "model_id": "2f055e0c2ccc4e6e98dac6fa93bdf4a5",
       "version_major": 2,
       "version_minor": 0
      },
      "text/plain": [
       "Epoch 8/10:   0%|          | 0/287 [00:00<?, ?it/s]"
      ]
     },
     "metadata": {},
     "output_type": "display_data"
    },
    {
     "name": "stdout",
     "output_type": "stream",
     "text": [
      "[Epoch 8] Train Loss: 0.0335, Acc: 0.9884 | Val Loss: 0.3024, Acc: 0.9288\n"
     ]
    },
    {
     "data": {
      "application/vnd.jupyter.widget-view+json": {
       "model_id": "b5b0ea484898467aad7f7d7ef290548a",
       "version_major": 2,
       "version_minor": 0
      },
      "text/plain": [
       "Epoch 9/10:   0%|          | 0/287 [00:00<?, ?it/s]"
      ]
     },
     "metadata": {},
     "output_type": "display_data"
    },
    {
     "name": "stdout",
     "output_type": "stream",
     "text": [
      "[Epoch 9] Train Loss: 0.0213, Acc: 0.9934 | Val Loss: 0.2894, Acc: 0.9276\n"
     ]
    },
    {
     "data": {
      "application/vnd.jupyter.widget-view+json": {
       "model_id": "0e28eef70c6544afb2c8cd965b7085a0",
       "version_major": 2,
       "version_minor": 0
      },
      "text/plain": [
       "Epoch 10/10:   0%|          | 0/287 [00:00<?, ?it/s]"
      ]
     },
     "metadata": {},
     "output_type": "display_data"
    },
    {
     "name": "stdout",
     "output_type": "stream",
     "text": [
      "[Epoch 10] Train Loss: 0.0185, Acc: 0.9927 | Val Loss: 0.3948, Acc: 0.9238\n"
     ]
    },
    {
     "name": "stderr",
     "output_type": "stream",
     "text": [
      "/tmp/ipykernel_5074/1029455139.py:102: FutureWarning: You are using `torch.load` with `weights_only=False` (the current default value), which uses the default pickle module implicitly. It is possible to construct malicious pickle data which will execute arbitrary code during unpickling (See https://github.com/pytorch/pytorch/blob/main/SECURITY.md#untrusted-models for more details). In a future release, the default value for `weights_only` will be flipped to `True`. This limits the functions that could be executed during unpickling. Arbitrary objects will no longer be allowed to be loaded via this mode unless they are explicitly allowlisted by the user via `torch.serialization.add_safe_globals`. We recommend you start setting `weights_only=True` for any use case where you don't have full control of the loaded file. Please open an issue on GitHub for any issues related to this experimental feature.\n",
      "  model.load_state_dict(torch.load(ckpt_path))\n"
     ]
    },
    {
     "name": "stdout",
     "output_type": "stream",
     "text": [
      "🎯 Test Loss: 0.2742 | Test Accuracy: 0.9136\n",
      "\n",
      "📊 Evaluating all epoch checkpoints on test set:\n"
     ]
    },
    {
     "name": "stderr",
     "output_type": "stream",
     "text": [
      "/tmp/ipykernel_5074/1029455139.py:128: FutureWarning: You are using `torch.load` with `weights_only=False` (the current default value), which uses the default pickle module implicitly. It is possible to construct malicious pickle data which will execute arbitrary code during unpickling (See https://github.com/pytorch/pytorch/blob/main/SECURITY.md#untrusted-models for more details). In a future release, the default value for `weights_only` will be flipped to `True`. This limits the functions that could be executed during unpickling. Arbitrary objects will no longer be allowed to be loaded via this mode unless they are explicitly allowlisted by the user via `torch.serialization.add_safe_globals`. We recommend you start setting `weights_only=True` for any use case where you don't have full control of the loaded file. Please open an issue on GitHub for any issues related to this experimental feature.\n",
      "  model.load_state_dict(torch.load(ckpt_file))\n"
     ]
    },
    {
     "name": "stdout",
     "output_type": "stream",
     "text": [
      "📁 Epoch 01 | Test Loss: 0.2411 | Test Accuracy: 0.9004\n",
      "📁 Epoch 02 | Test Loss: 0.2298 | Test Accuracy: 0.9107\n",
      "📁 Epoch 03 | Test Loss: 0.2742 | Test Accuracy: 0.9136\n",
      "📁 Epoch 04 | Test Loss: 0.3461 | Test Accuracy: 0.9078\n",
      "📁 Epoch 05 | Test Loss: 0.2891 | Test Accuracy: 0.9019\n",
      "📁 Epoch 06 | Test Loss: 0.5391 | Test Accuracy: 0.8975\n",
      "📁 Epoch 07 | Test Loss: 0.4414 | Test Accuracy: 0.9034\n",
      "📁 Epoch 08 | Test Loss: 0.4667 | Test Accuracy: 0.9136\n",
      "📁 Epoch 09 | Test Loss: 0.4153 | Test Accuracy: 0.9048\n",
      "📁 Epoch 10 | Test Loss: 0.5611 | Test Accuracy: 0.8990\n"
     ]
    }
   ],
   "source": [
    "import os\n",
    "import torch\n",
    "import torch.nn as nn\n",
    "import torch.optim as optim\n",
    "from torchvision import transforms\n",
    "from torch.utils.data import DataLoader\n",
    "from torchvision.datasets import ImageFolder\n",
    "from torchvision.models import vit_b_16, ViT_B_16_Weights\n",
    "from tqdm.notebook import tqdm\n",
    "\n",
    "# —— 1. 忽略隐藏目录 —— #\n",
    "class FilteredImageFolder(ImageFolder):\n",
    "    def find_classes(self, directory):\n",
    "        classes = [d.name for d in os.scandir(directory) if d.is_dir() and not d.name.startswith('.')]\n",
    "        classes.sort()\n",
    "        class_to_idx = {cls_name: idx for idx, cls_name in enumerate(classes)}\n",
    "        return classes, class_to_idx\n",
    "\n",
    "# —— 2. 配置 —— #\n",
    "train_dir = \"/root/autodl-fs/processed/processed/train\"\n",
    "val_dir   = \"/root/autodl-fs/processed/processed/val\"\n",
    "test_dir  = \"/root/autodl-fs/processed/processed/test\"\n",
    "ckpt_path     = \"/root/autodl-fs/best_vit.pth\"\n",
    "batch_size    = 32\n",
    "num_epochs    = 10\n",
    "learning_rate = 5e-5  # ViT 通常使用较小的学习率\n",
    "device        = torch.device(\"cuda\" if torch.cuda.is_available() else \"cpu\")\n",
    "\n",
    "# —— 3. 使用 ViT 的官方预处理 —— #\n",
    "weights = ViT_B_16_Weights.DEFAULT\n",
    "transform = weights.transforms()\n",
    "\n",
    "# —— 4. 加载数据 —— #\n",
    "train_dataset = FilteredImageFolder(root=train_dir, transform=transform)\n",
    "test_dataset  = FilteredImageFolder(root=test_dir,  transform=transform)\n",
    "\n",
    "if os.path.exists(val_dir):\n",
    "    val_dataset = FilteredImageFolder(root=val_dir, transform=transform)\n",
    "else:\n",
    "    val_len = int(len(train_dataset) * 0.15)\n",
    "    train_len = len(train_dataset) - val_len\n",
    "    train_dataset, val_dataset = torch.utils.data.random_split(train_dataset, [train_len, val_len])\n",
    "\n",
    "train_loader = DataLoader(train_dataset, batch_size=batch_size, shuffle=True, num_workers=4)\n",
    "val_loader   = DataLoader(val_dataset,   batch_size=batch_size, shuffle=False, num_workers=4)\n",
    "test_loader  = DataLoader(test_dataset,  batch_size=batch_size, shuffle=False, num_workers=4)\n",
    "\n",
    "# —— 5. 模型定义 —— #\n",
    "model = vit_b_16(weights=weights)\n",
    "num_classes = len(train_dataset.dataset.classes if hasattr(train_dataset, 'dataset') else train_dataset.classes)\n",
    "model.heads.head = nn.Linear(model.heads.head.in_features, num_classes)\n",
    "model.to(device)\n",
    "\n",
    "criterion = nn.CrossEntropyLoss()\n",
    "optimizer = optim.Adam(model.parameters(), lr=learning_rate)\n",
    "\n",
    "# —— 6. 训练 + 验证 + 保存最佳模型 —— #\n",
    "best_val_acc = 0.0\n",
    "for epoch in range(num_epochs):\n",
    "    model.train()\n",
    "    train_loss, train_acc = 0.0, 0\n",
    "    for x, y in tqdm(train_loader, desc=f\"Epoch {epoch+1}/{num_epochs}\"):\n",
    "        x, y = x.to(device), y.to(device)\n",
    "        optimizer.zero_grad()\n",
    "        out = model(x)\n",
    "        loss = criterion(out, y)\n",
    "        loss.backward()\n",
    "        optimizer.step()\n",
    "        train_loss += loss.item() * x.size(0)\n",
    "        train_acc += (out.argmax(1) == y).sum().item()\n",
    "    \n",
    "    train_loss /= len(train_loader.dataset)\n",
    "    train_acc  /= len(train_loader.dataset)\n",
    "\n",
    "    # 验证\n",
    "    model.eval()\n",
    "    val_loss, val_acc = 0.0, 0\n",
    "    with torch.no_grad():\n",
    "        for x, y in val_loader:\n",
    "            x, y = x.to(device), y.to(device)\n",
    "            out = model(x)\n",
    "            loss = criterion(out, y)\n",
    "            val_loss += loss.item() * x.size(0)\n",
    "            val_acc  += (out.argmax(1) == y).sum().item()\n",
    "    val_loss /= len(val_loader.dataset)\n",
    "    val_acc  /= len(val_loader.dataset)\n",
    "\n",
    "    print(f\"[Epoch {epoch+1}] Train Loss: {train_loss:.4f}, Acc: {train_acc:.4f} | Val Loss: {val_loss:.4f}, Acc: {val_acc:.4f}\")\n",
    "\n",
    "    if val_acc > best_val_acc:\n",
    "        best_val_acc = val_acc\n",
    "        os.makedirs(os.path.dirname(ckpt_path), exist_ok=True)\n",
    "        torch.save(model.state_dict(), ckpt_path)\n",
    "        print(\"✅ Saved Best Model!\")\n",
    "\n",
    "    # 每个 epoch 保存一次模型\n",
    "    epoch_ckpt_path = f\"/root/autodl-fs/ckpt_vit/epoch_{epoch+1}.pth\"\n",
    "    os.makedirs(os.path.dirname(epoch_ckpt_path), exist_ok=True)\n",
    "    torch.save(model.state_dict(), epoch_ckpt_path)\n",
    "\n",
    "# —— 7. 加载并评估测试集 —— #\n",
    "model.load_state_dict(torch.load(ckpt_path))\n",
    "model.eval()\n",
    "test_loss, test_acc, total = 0.0, 0, 0\n",
    "with torch.no_grad():\n",
    "    for x, y in test_loader:\n",
    "        x, y = x.to(device), y.to(device)\n",
    "        out = model(x)\n",
    "        loss = criterion(out, y)\n",
    "        test_loss += loss.item() * x.size(0)\n",
    "        test_acc  += (out.argmax(1) == y).sum().item()\n",
    "        total += y.size(0)\n",
    "\n",
    "test_loss /= total\n",
    "test_acc  /= total\n",
    "print(f\"🎯 Test Loss: {test_loss:.4f} | Test Accuracy: {test_acc:.4f}\")\n",
    "\n",
    "# —— 8. 所有 epoch 的模型推理 —— #\n",
    "print(\"\\n📊 Evaluating all epoch checkpoints on test set:\")\n",
    "epoch_results = []\n",
    "\n",
    "for e in range(1, num_epochs + 1):\n",
    "    ckpt_file = f\"/root/autodl-fs/ckpt_vit/epoch_{e}.pth\"\n",
    "    if not os.path.exists(ckpt_file):\n",
    "        print(f\"❌ Epoch {e} model not found.\")\n",
    "        continue\n",
    "\n",
    "    model.load_state_dict(torch.load(ckpt_file))\n",
    "    model.eval()\n",
    "\n",
    "    test_loss, test_acc, total = 0.0, 0, 0\n",
    "    with torch.no_grad():\n",
    "        for x, y in test_loader:\n",
    "            x, y = x.to(device), y.to(device)\n",
    "            out = model(x)\n",
    "            loss = criterion(out, y)\n",
    "            test_loss += loss.item() * x.size(0)\n",
    "            test_acc  += (out.argmax(1) == y).sum().item()\n",
    "            total += y.size(0)\n",
    "\n",
    "    test_loss /= total\n",
    "    test_acc  /= total\n",
    "    epoch_results.append((e, test_loss, test_acc))\n",
    "    print(f\"📁 Epoch {e:02d} | Test Loss: {test_loss:.4f} | Test Accuracy: {test_acc:.4f}\")\n"
   ]
  },
  {
   "cell_type": "code",
   "execution_count": 6,
   "id": "39707f36-1199-4ab2-a816-af777a67879c",
   "metadata": {},
   "outputs": [
    {
     "data": {
      "application/vnd.jupyter.widget-view+json": {
       "model_id": "dda62df124244ef89903bcd6d00c1a14",
       "version_major": 2,
       "version_minor": 0
      },
      "text/plain": [
       "Epoch 1/10:   0%|          | 0/19 [00:00<?, ?it/s]"
      ]
     },
     "metadata": {},
     "output_type": "display_data"
    },
    {
     "name": "stdout",
     "output_type": "stream",
     "text": [
      "[Epoch 1] Train Loss: 0.4730, Acc: 0.8055 | Val Loss: 0.2508, Acc: 0.9020\n",
      "✅ Saved Best Model!\n"
     ]
    },
    {
     "data": {
      "application/vnd.jupyter.widget-view+json": {
       "model_id": "5b83a7af13184c31ba67846991ac6e60",
       "version_major": 2,
       "version_minor": 0
      },
      "text/plain": [
       "Epoch 2/10:   0%|          | 0/19 [00:00<?, ?it/s]"
      ]
     },
     "metadata": {},
     "output_type": "display_data"
    },
    {
     "name": "stdout",
     "output_type": "stream",
     "text": [
      "[Epoch 2] Train Loss: 0.2161, Acc: 0.9277 | Val Loss: 0.2269, Acc: 0.9118\n",
      "✅ Saved Best Model!\n"
     ]
    },
    {
     "data": {
      "application/vnd.jupyter.widget-view+json": {
       "model_id": "7591094eea92400db1dd55d16c419b19",
       "version_major": 2,
       "version_minor": 0
      },
      "text/plain": [
       "Epoch 3/10:   0%|          | 0/19 [00:00<?, ?it/s]"
      ]
     },
     "metadata": {},
     "output_type": "display_data"
    },
    {
     "name": "stdout",
     "output_type": "stream",
     "text": [
      "[Epoch 3] Train Loss: 0.1181, Acc: 0.9570 | Val Loss: 0.2425, Acc: 0.9216\n",
      "✅ Saved Best Model!\n"
     ]
    },
    {
     "data": {
      "application/vnd.jupyter.widget-view+json": {
       "model_id": "fd2e9ed0f4334e4e9b235dcf731792b7",
       "version_major": 2,
       "version_minor": 0
      },
      "text/plain": [
       "Epoch 4/10:   0%|          | 0/19 [00:00<?, ?it/s]"
      ]
     },
     "metadata": {},
     "output_type": "display_data"
    },
    {
     "name": "stdout",
     "output_type": "stream",
     "text": [
      "[Epoch 4] Train Loss: 0.0926, Acc: 0.9673 | Val Loss: 0.2842, Acc: 0.9412\n",
      "✅ Saved Best Model!\n"
     ]
    },
    {
     "data": {
      "application/vnd.jupyter.widget-view+json": {
       "model_id": "bde6b78e873840d5878ffd15347523c2",
       "version_major": 2,
       "version_minor": 0
      },
      "text/plain": [
       "Epoch 5/10:   0%|          | 0/19 [00:00<?, ?it/s]"
      ]
     },
     "metadata": {},
     "output_type": "display_data"
    },
    {
     "name": "stdout",
     "output_type": "stream",
     "text": [
      "[Epoch 5] Train Loss: 0.0428, Acc: 0.9862 | Val Loss: 0.4285, Acc: 0.8627\n"
     ]
    },
    {
     "data": {
      "application/vnd.jupyter.widget-view+json": {
       "model_id": "d75a5646cae24c55b7198776c77c300c",
       "version_major": 2,
       "version_minor": 0
      },
      "text/plain": [
       "Epoch 6/10:   0%|          | 0/19 [00:00<?, ?it/s]"
      ]
     },
     "metadata": {},
     "output_type": "display_data"
    },
    {
     "name": "stdout",
     "output_type": "stream",
     "text": [
      "[Epoch 6] Train Loss: 0.0449, Acc: 0.9880 | Val Loss: 0.2778, Acc: 0.9314\n"
     ]
    },
    {
     "data": {
      "application/vnd.jupyter.widget-view+json": {
       "model_id": "5c400235330744ebad753ce174802aaa",
       "version_major": 2,
       "version_minor": 0
      },
      "text/plain": [
       "Epoch 7/10:   0%|          | 0/19 [00:00<?, ?it/s]"
      ]
     },
     "metadata": {},
     "output_type": "display_data"
    },
    {
     "name": "stdout",
     "output_type": "stream",
     "text": [
      "[Epoch 7] Train Loss: 0.0156, Acc: 0.9983 | Val Loss: 0.2899, Acc: 0.9412\n"
     ]
    },
    {
     "data": {
      "application/vnd.jupyter.widget-view+json": {
       "model_id": "5e863904a9e8427d8c45e2f434b8509c",
       "version_major": 2,
       "version_minor": 0
      },
      "text/plain": [
       "Epoch 8/10:   0%|          | 0/19 [00:00<?, ?it/s]"
      ]
     },
     "metadata": {},
     "output_type": "display_data"
    },
    {
     "name": "stdout",
     "output_type": "stream",
     "text": [
      "[Epoch 8] Train Loss: 0.0040, Acc: 0.9983 | Val Loss: 0.3510, Acc: 0.9314\n"
     ]
    },
    {
     "data": {
      "application/vnd.jupyter.widget-view+json": {
       "model_id": "470ac7e2f5de4892805f6d268a84ed16",
       "version_major": 2,
       "version_minor": 0
      },
      "text/plain": [
       "Epoch 9/10:   0%|          | 0/19 [00:00<?, ?it/s]"
      ]
     },
     "metadata": {},
     "output_type": "display_data"
    },
    {
     "name": "stdout",
     "output_type": "stream",
     "text": [
      "[Epoch 9] Train Loss: 0.0226, Acc: 0.9966 | Val Loss: 0.2795, Acc: 0.9510\n",
      "✅ Saved Best Model!\n"
     ]
    },
    {
     "data": {
      "application/vnd.jupyter.widget-view+json": {
       "model_id": "eefcdd0721f241b18b3e8ce2bf477f9e",
       "version_major": 2,
       "version_minor": 0
      },
      "text/plain": [
       "Epoch 10/10:   0%|          | 0/19 [00:00<?, ?it/s]"
      ]
     },
     "metadata": {},
     "output_type": "display_data"
    },
    {
     "name": "stdout",
     "output_type": "stream",
     "text": [
      "[Epoch 10] Train Loss: 0.0044, Acc: 0.9983 | Val Loss: 0.2930, Acc: 0.9412\n"
     ]
    },
    {
     "name": "stderr",
     "output_type": "stream",
     "text": [
      "/tmp/ipykernel_5074/3268109312.py:102: FutureWarning: You are using `torch.load` with `weights_only=False` (the current default value), which uses the default pickle module implicitly. It is possible to construct malicious pickle data which will execute arbitrary code during unpickling (See https://github.com/pytorch/pytorch/blob/main/SECURITY.md#untrusted-models for more details). In a future release, the default value for `weights_only` will be flipped to `True`. This limits the functions that could be executed during unpickling. Arbitrary objects will no longer be allowed to be loaded via this mode unless they are explicitly allowlisted by the user via `torch.serialization.add_safe_globals`. We recommend you start setting `weights_only=True` for any use case where you don't have full control of the loaded file. Please open an issue on GitHub for any issues related to this experimental feature.\n",
      "  model.load_state_dict(torch.load(ckpt_path))\n"
     ]
    },
    {
     "name": "stdout",
     "output_type": "stream",
     "text": [
      "🎯 Test Loss: 0.0475 | Test Accuracy: 0.9912\n",
      "\n",
      "📊 Evaluating all epoch checkpoints on test set:\n"
     ]
    },
    {
     "name": "stderr",
     "output_type": "stream",
     "text": [
      "/tmp/ipykernel_5074/3268109312.py:128: FutureWarning: You are using `torch.load` with `weights_only=False` (the current default value), which uses the default pickle module implicitly. It is possible to construct malicious pickle data which will execute arbitrary code during unpickling (See https://github.com/pytorch/pytorch/blob/main/SECURITY.md#untrusted-models for more details). In a future release, the default value for `weights_only` will be flipped to `True`. This limits the functions that could be executed during unpickling. Arbitrary objects will no longer be allowed to be loaded via this mode unless they are explicitly allowlisted by the user via `torch.serialization.add_safe_globals`. We recommend you start setting `weights_only=True` for any use case where you don't have full control of the loaded file. Please open an issue on GitHub for any issues related to this experimental feature.\n",
      "  model.load_state_dict(torch.load(ckpt_file))\n"
     ]
    },
    {
     "name": "stdout",
     "output_type": "stream",
     "text": [
      "📁 Epoch 01 | Test Loss: 0.2462 | Test Accuracy: 0.9004\n",
      "📁 Epoch 02 | Test Loss: 0.1472 | Test Accuracy: 0.9531\n",
      "📁 Epoch 03 | Test Loss: 0.1069 | Test Accuracy: 0.9678\n",
      "📁 Epoch 04 | Test Loss: 0.0829 | Test Accuracy: 0.9766\n",
      "📁 Epoch 05 | Test Loss: 0.0806 | Test Accuracy: 0.9780\n",
      "📁 Epoch 06 | Test Loss: 0.0556 | Test Accuracy: 0.9883\n",
      "📁 Epoch 07 | Test Loss: 0.0450 | Test Accuracy: 0.9912\n",
      "📁 Epoch 08 | Test Loss: 0.0624 | Test Accuracy: 0.9883\n",
      "📁 Epoch 09 | Test Loss: 0.0475 | Test Accuracy: 0.9912\n",
      "📁 Epoch 10 | Test Loss: 0.0446 | Test Accuracy: 0.9912\n"
     ]
    }
   ],
   "source": [
    "import os\n",
    "import torch\n",
    "import torch.nn as nn\n",
    "import torch.optim as optim\n",
    "from torchvision import transforms\n",
    "from torch.utils.data import DataLoader\n",
    "from torchvision.datasets import ImageFolder\n",
    "from torchvision.models import vit_b_16, ViT_B_16_Weights\n",
    "from tqdm.notebook import tqdm\n",
    "\n",
    "# —— 1. 忽略隐藏目录 —— #\n",
    "class FilteredImageFolder(ImageFolder):\n",
    "    def find_classes(self, directory):\n",
    "        classes = [d.name for d in os.scandir(directory) if d.is_dir() and not d.name.startswith('.')]\n",
    "        classes.sort()\n",
    "        class_to_idx = {cls_name: idx for idx, cls_name in enumerate(classes)}\n",
    "        return classes, class_to_idx\n",
    "\n",
    "# —— 2. 配置 —— #\n",
    "train_dir = \"/root/autodl-fs/generate/test\"\n",
    "val_dir   = \"/root/autodl-fs/generate/val\"\n",
    "test_dir  = \"/root/autodl-fs/generate/test\"\n",
    "ckpt_path     = \"/root/autodl-fs/best_vit.pth\"\n",
    "batch_size    = 32\n",
    "num_epochs    = 10\n",
    "learning_rate = 5e-5  # ViT 通常使用较小的学习率\n",
    "device        = torch.device(\"cuda\" if torch.cuda.is_available() else \"cpu\")\n",
    "\n",
    "# —— 3. 使用 ViT 的官方预处理 —— #\n",
    "weights = ViT_B_16_Weights.DEFAULT\n",
    "transform = weights.transforms()\n",
    "\n",
    "# —— 4. 加载数据 —— #\n",
    "train_dataset = FilteredImageFolder(root=train_dir, transform=transform)\n",
    "test_dataset  = FilteredImageFolder(root=test_dir,  transform=transform)\n",
    "\n",
    "if os.path.exists(val_dir):\n",
    "    val_dataset = FilteredImageFolder(root=val_dir, transform=transform)\n",
    "else:\n",
    "    val_len = int(len(train_dataset) * 0.15)\n",
    "    train_len = len(train_dataset) - val_len\n",
    "    train_dataset, val_dataset = torch.utils.data.random_split(train_dataset, [train_len, val_len])\n",
    "\n",
    "train_loader = DataLoader(train_dataset, batch_size=batch_size, shuffle=True, num_workers=4)\n",
    "val_loader   = DataLoader(val_dataset,   batch_size=batch_size, shuffle=False, num_workers=4)\n",
    "test_loader  = DataLoader(test_dataset,  batch_size=batch_size, shuffle=False, num_workers=4)\n",
    "\n",
    "# —— 5. 模型定义 —— #\n",
    "model = vit_b_16(weights=weights)\n",
    "num_classes = len(train_dataset.dataset.classes if hasattr(train_dataset, 'dataset') else train_dataset.classes)\n",
    "model.heads.head = nn.Linear(model.heads.head.in_features, num_classes)\n",
    "model.to(device)\n",
    "\n",
    "criterion = nn.CrossEntropyLoss()\n",
    "optimizer = optim.Adam(model.parameters(), lr=learning_rate)\n",
    "\n",
    "# —— 6. 训练 + 验证 + 保存最佳模型 —— #\n",
    "best_val_acc = 0.0\n",
    "for epoch in range(num_epochs):\n",
    "    model.train()\n",
    "    train_loss, train_acc = 0.0, 0\n",
    "    for x, y in tqdm(train_loader, desc=f\"Epoch {epoch+1}/{num_epochs}\"):\n",
    "        x, y = x.to(device), y.to(device)\n",
    "        optimizer.zero_grad()\n",
    "        out = model(x)\n",
    "        loss = criterion(out, y)\n",
    "        loss.backward()\n",
    "        optimizer.step()\n",
    "        train_loss += loss.item() * x.size(0)\n",
    "        train_acc += (out.argmax(1) == y).sum().item()\n",
    "    \n",
    "    train_loss /= len(train_loader.dataset)\n",
    "    train_acc  /= len(train_loader.dataset)\n",
    "\n",
    "    # 验证\n",
    "    model.eval()\n",
    "    val_loss, val_acc = 0.0, 0\n",
    "    with torch.no_grad():\n",
    "        for x, y in val_loader:\n",
    "            x, y = x.to(device), y.to(device)\n",
    "            out = model(x)\n",
    "            loss = criterion(out, y)\n",
    "            val_loss += loss.item() * x.size(0)\n",
    "            val_acc  += (out.argmax(1) == y).sum().item()\n",
    "    val_loss /= len(val_loader.dataset)\n",
    "    val_acc  /= len(val_loader.dataset)\n",
    "\n",
    "    print(f\"[Epoch {epoch+1}] Train Loss: {train_loss:.4f}, Acc: {train_acc:.4f} | Val Loss: {val_loss:.4f}, Acc: {val_acc:.4f}\")\n",
    "\n",
    "    if val_acc > best_val_acc:\n",
    "        best_val_acc = val_acc\n",
    "        os.makedirs(os.path.dirname(ckpt_path), exist_ok=True)\n",
    "        torch.save(model.state_dict(), ckpt_path)\n",
    "        print(\"✅ Saved Best Model!\")\n",
    "\n",
    "    # 每个 epoch 保存一次模型\n",
    "    epoch_ckpt_path = f\"/root/autodl-fs/ckpt_vit/epoch_{epoch+1}.pth\"\n",
    "    os.makedirs(os.path.dirname(epoch_ckpt_path), exist_ok=True)\n",
    "    torch.save(model.state_dict(), epoch_ckpt_path)\n",
    "\n",
    "# —— 7. 加载并评估测试集 —— #\n",
    "model.load_state_dict(torch.load(ckpt_path))\n",
    "model.eval()\n",
    "test_loss, test_acc, total = 0.0, 0, 0\n",
    "with torch.no_grad():\n",
    "    for x, y in test_loader:\n",
    "        x, y = x.to(device), y.to(device)\n",
    "        out = model(x)\n",
    "        loss = criterion(out, y)\n",
    "        test_loss += loss.item() * x.size(0)\n",
    "        test_acc  += (out.argmax(1) == y).sum().item()\n",
    "        total += y.size(0)\n",
    "\n",
    "test_loss /= total\n",
    "test_acc  /= total\n",
    "print(f\"🎯 Test Loss: {test_loss:.4f} | Test Accuracy: {test_acc:.4f}\")\n",
    "\n",
    "# —— 8. 所有 epoch 的模型推理 —— #\n",
    "print(\"\\n📊 Evaluating all epoch checkpoints on test set:\")\n",
    "epoch_results = []\n",
    "\n",
    "for e in range(1, num_epochs + 1):\n",
    "    ckpt_file = f\"/root/autodl-fs/ckpt_vit/epoch_{e}.pth\"\n",
    "    if not os.path.exists(ckpt_file):\n",
    "        print(f\"❌ Epoch {e} model not found.\")\n",
    "        continue\n",
    "\n",
    "    model.load_state_dict(torch.load(ckpt_file))\n",
    "    model.eval()\n",
    "\n",
    "    test_loss, test_acc, total = 0.0, 0, 0\n",
    "    with torch.no_grad():\n",
    "        for x, y in test_loader:\n",
    "            x, y = x.to(device), y.to(device)\n",
    "            out = model(x)\n",
    "            loss = criterion(out, y)\n",
    "            test_loss += loss.item() * x.size(0)\n",
    "            test_acc  += (out.argmax(1) == y).sum().item()\n",
    "            total += y.size(0)\n",
    "\n",
    "    test_loss /= total\n",
    "    test_acc  /= total\n",
    "    epoch_results.append((e, test_loss, test_acc))\n",
    "    print(f\"📁 Epoch {e:02d} | Test Loss: {test_loss:.4f} | Test Accuracy: {test_acc:.4f}\")\n"
   ]
  },
  {
   "cell_type": "code",
   "execution_count": 1,
   "id": "8d4f226d-0b0f-4515-a859-5a130cd0495b",
   "metadata": {},
   "outputs": [
    {
     "data": {
      "application/vnd.jupyter.widget-view+json": {
       "model_id": "48a1594a1f1b4044b4a492b73d0369d6",
       "version_major": 2,
       "version_minor": 0
      },
      "text/plain": [
       "Epoch 1/10:   0%|          | 0/19 [00:00<?, ?it/s]"
      ]
     },
     "metadata": {},
     "output_type": "display_data"
    },
    {
     "name": "stdout",
     "output_type": "stream",
     "text": [
      "[Epoch 1] Train Loss: 0.4655, Acc: 0.7873 | Val Loss: 0.3960, Acc: 0.8529\n",
      "✅ Saved Best Model!\n"
     ]
    },
    {
     "data": {
      "application/vnd.jupyter.widget-view+json": {
       "model_id": "69d4fa25dac84670924c83fcb26c4fbc",
       "version_major": 2,
       "version_minor": 0
      },
      "text/plain": [
       "Epoch 2/10:   0%|          | 0/19 [00:00<?, ?it/s]"
      ]
     },
     "metadata": {},
     "output_type": "display_data"
    },
    {
     "name": "stdout",
     "output_type": "stream",
     "text": [
      "[Epoch 2] Train Loss: 0.2537, Acc: 0.8885 | Val Loss: 0.4012, Acc: 0.8431\n"
     ]
    },
    {
     "data": {
      "application/vnd.jupyter.widget-view+json": {
       "model_id": "150df40ef5e148b3ac051f8aae48ef4e",
       "version_major": 2,
       "version_minor": 0
      },
      "text/plain": [
       "Epoch 3/10:   0%|          | 0/19 [00:00<?, ?it/s]"
      ]
     },
     "metadata": {},
     "output_type": "display_data"
    },
    {
     "name": "stdout",
     "output_type": "stream",
     "text": [
      "[Epoch 3] Train Loss: 0.1300, Acc: 0.9537 | Val Loss: 0.4311, Acc: 0.8529\n"
     ]
    },
    {
     "data": {
      "application/vnd.jupyter.widget-view+json": {
       "model_id": "d3d899b708a348e4a1fe7e4744d78696",
       "version_major": 2,
       "version_minor": 0
      },
      "text/plain": [
       "Epoch 4/10:   0%|          | 0/19 [00:00<?, ?it/s]"
      ]
     },
     "metadata": {},
     "output_type": "display_data"
    },
    {
     "name": "stdout",
     "output_type": "stream",
     "text": [
      "[Epoch 4] Train Loss: 0.0524, Acc: 0.9828 | Val Loss: 0.7007, Acc: 0.8333\n"
     ]
    },
    {
     "data": {
      "application/vnd.jupyter.widget-view+json": {
       "model_id": "d8bbc4d47f1a4b8586900d1d543d8d66",
       "version_major": 2,
       "version_minor": 0
      },
      "text/plain": [
       "Epoch 5/10:   0%|          | 0/19 [00:00<?, ?it/s]"
      ]
     },
     "metadata": {},
     "output_type": "display_data"
    },
    {
     "name": "stdout",
     "output_type": "stream",
     "text": [
      "[Epoch 5] Train Loss: 0.0618, Acc: 0.9828 | Val Loss: 0.4629, Acc: 0.8529\n"
     ]
    },
    {
     "data": {
      "application/vnd.jupyter.widget-view+json": {
       "model_id": "309b6667d51a42ab91ed6a73a09fc301",
       "version_major": 2,
       "version_minor": 0
      },
      "text/plain": [
       "Epoch 6/10:   0%|          | 0/19 [00:00<?, ?it/s]"
      ]
     },
     "metadata": {},
     "output_type": "display_data"
    },
    {
     "name": "stdout",
     "output_type": "stream",
     "text": [
      "[Epoch 6] Train Loss: 0.0506, Acc: 0.9828 | Val Loss: 0.3732, Acc: 0.8824\n",
      "✅ Saved Best Model!\n"
     ]
    },
    {
     "data": {
      "application/vnd.jupyter.widget-view+json": {
       "model_id": "1628affbc7be4c55a1bb4af95de1ca42",
       "version_major": 2,
       "version_minor": 0
      },
      "text/plain": [
       "Epoch 7/10:   0%|          | 0/19 [00:00<?, ?it/s]"
      ]
     },
     "metadata": {},
     "output_type": "display_data"
    },
    {
     "name": "stdout",
     "output_type": "stream",
     "text": [
      "[Epoch 7] Train Loss: 0.0378, Acc: 0.9897 | Val Loss: 0.4176, Acc: 0.8824\n"
     ]
    },
    {
     "data": {
      "application/vnd.jupyter.widget-view+json": {
       "model_id": "2c85d17f65a549cc8a4d4aebdef97eee",
       "version_major": 2,
       "version_minor": 0
      },
      "text/plain": [
       "Epoch 8/10:   0%|          | 0/19 [00:00<?, ?it/s]"
      ]
     },
     "metadata": {},
     "output_type": "display_data"
    },
    {
     "name": "stdout",
     "output_type": "stream",
     "text": [
      "[Epoch 8] Train Loss: 0.0139, Acc: 0.9966 | Val Loss: 0.6797, Acc: 0.8529\n"
     ]
    },
    {
     "data": {
      "application/vnd.jupyter.widget-view+json": {
       "model_id": "8ac8e3108a024ec89534e94fa3ca0e57",
       "version_major": 2,
       "version_minor": 0
      },
      "text/plain": [
       "Epoch 9/10:   0%|          | 0/19 [00:00<?, ?it/s]"
      ]
     },
     "metadata": {},
     "output_type": "display_data"
    },
    {
     "name": "stdout",
     "output_type": "stream",
     "text": [
      "[Epoch 9] Train Loss: 0.0025, Acc: 1.0000 | Val Loss: 0.5838, Acc: 0.8824\n"
     ]
    },
    {
     "data": {
      "application/vnd.jupyter.widget-view+json": {
       "model_id": "a93af9432b4044c6905cebfdbcd78893",
       "version_major": 2,
       "version_minor": 0
      },
      "text/plain": [
       "Epoch 10/10:   0%|          | 0/19 [00:00<?, ?it/s]"
      ]
     },
     "metadata": {},
     "output_type": "display_data"
    },
    {
     "name": "stdout",
     "output_type": "stream",
     "text": [
      "[Epoch 10] Train Loss: 0.0007, Acc: 1.0000 | Val Loss: 0.7245, Acc: 0.8431\n"
     ]
    },
    {
     "name": "stderr",
     "output_type": "stream",
     "text": [
      "/tmp/ipykernel_1336/760314020.py:102: FutureWarning: You are using `torch.load` with `weights_only=False` (the current default value), which uses the default pickle module implicitly. It is possible to construct malicious pickle data which will execute arbitrary code during unpickling (See https://github.com/pytorch/pytorch/blob/main/SECURITY.md#untrusted-models for more details). In a future release, the default value for `weights_only` will be flipped to `True`. This limits the functions that could be executed during unpickling. Arbitrary objects will no longer be allowed to be loaded via this mode unless they are explicitly allowlisted by the user via `torch.serialization.add_safe_globals`. We recommend you start setting `weights_only=True` for any use case where you don't have full control of the loaded file. Please open an issue on GitHub for any issues related to this experimental feature.\n",
      "  model.load_state_dict(torch.load(ckpt_path))\n"
     ]
    },
    {
     "name": "stdout",
     "output_type": "stream",
     "text": [
      "🎯 Test Loss: 0.0654 | Test Accuracy: 0.9825\n",
      "\n",
      "📊 Evaluating all epoch checkpoints on test set:\n"
     ]
    },
    {
     "name": "stderr",
     "output_type": "stream",
     "text": [
      "/tmp/ipykernel_1336/760314020.py:128: FutureWarning: You are using `torch.load` with `weights_only=False` (the current default value), which uses the default pickle module implicitly. It is possible to construct malicious pickle data which will execute arbitrary code during unpickling (See https://github.com/pytorch/pytorch/blob/main/SECURITY.md#untrusted-models for more details). In a future release, the default value for `weights_only` will be flipped to `True`. This limits the functions that could be executed during unpickling. Arbitrary objects will no longer be allowed to be loaded via this mode unless they are explicitly allowlisted by the user via `torch.serialization.add_safe_globals`. We recommend you start setting `weights_only=True` for any use case where you don't have full control of the loaded file. Please open an issue on GitHub for any issues related to this experimental feature.\n",
      "  model.load_state_dict(torch.load(ckpt_file))\n"
     ]
    },
    {
     "name": "stdout",
     "output_type": "stream",
     "text": [
      "📁 Epoch 01 | Test Loss: 0.2961 | Test Accuracy: 0.8745\n",
      "📁 Epoch 02 | Test Loss: 0.1996 | Test Accuracy: 0.9241\n",
      "📁 Epoch 03 | Test Loss: 0.1119 | Test Accuracy: 0.9635\n",
      "📁 Epoch 04 | Test Loss: 0.1399 | Test Accuracy: 0.9606\n",
      "📁 Epoch 05 | Test Loss: 0.0816 | Test Accuracy: 0.9766\n",
      "📁 Epoch 06 | Test Loss: 0.0654 | Test Accuracy: 0.9825\n",
      "📁 Epoch 07 | Test Loss: 0.0777 | Test Accuracy: 0.9781\n",
      "📁 Epoch 08 | Test Loss: 0.1053 | Test Accuracy: 0.9766\n",
      "📁 Epoch 09 | Test Loss: 0.0876 | Test Accuracy: 0.9825\n",
      "📁 Epoch 10 | Test Loss: 0.1083 | Test Accuracy: 0.9766\n"
     ]
    }
   ],
   "source": [
    "import os\n",
    "import torch\n",
    "import torch.nn as nn\n",
    "import torch.optim as optim\n",
    "from torchvision import transforms\n",
    "from torch.utils.data import DataLoader\n",
    "from torchvision.datasets import ImageFolder\n",
    "from torchvision.models import vit_b_16, ViT_B_16_Weights\n",
    "from tqdm.notebook import tqdm\n",
    "\n",
    "# —— 1. 忽略隐藏目录 —— #\n",
    "class FilteredImageFolder(ImageFolder):\n",
    "    def find_classes(self, directory):\n",
    "        classes = [d.name for d in os.scandir(directory) if d.is_dir() and not d.name.startswith('.')]\n",
    "        classes.sort()\n",
    "        class_to_idx = {cls_name: idx for idx, cls_name in enumerate(classes)}\n",
    "        return classes, class_to_idx\n",
    "\n",
    "# —— 2. 配置 —— #\n",
    "train_dir = \"/root/autodl-fs/generate_twice/test\"\n",
    "val_dir   = \"/root/autodl-fs/generate_twice/val\"\n",
    "test_dir  = \"/root/autodl-fs/generate_twice/test\"\n",
    "ckpt_path     = \"/root/autodl-fs/best_vit.pth\"\n",
    "batch_size    = 32\n",
    "num_epochs    = 10\n",
    "learning_rate = 5e-5  # ViT 通常使用较小的学习率\n",
    "device        = torch.device(\"cuda\" if torch.cuda.is_available() else \"cpu\")\n",
    "\n",
    "# —— 3. 使用 ViT 的官方预处理 —— #\n",
    "weights = ViT_B_16_Weights.DEFAULT\n",
    "transform = weights.transforms()\n",
    "\n",
    "# —— 4. 加载数据 —— #\n",
    "train_dataset = FilteredImageFolder(root=train_dir, transform=transform)\n",
    "test_dataset  = FilteredImageFolder(root=test_dir,  transform=transform)\n",
    "\n",
    "if os.path.exists(val_dir):\n",
    "    val_dataset = FilteredImageFolder(root=val_dir, transform=transform)\n",
    "else:\n",
    "    val_len = int(len(train_dataset) * 0.15)\n",
    "    train_len = len(train_dataset) - val_len\n",
    "    train_dataset, val_dataset = torch.utils.data.random_split(train_dataset, [train_len, val_len])\n",
    "\n",
    "train_loader = DataLoader(train_dataset, batch_size=batch_size, shuffle=True, num_workers=4)\n",
    "val_loader   = DataLoader(val_dataset,   batch_size=batch_size, shuffle=False, num_workers=4)\n",
    "test_loader  = DataLoader(test_dataset,  batch_size=batch_size, shuffle=False, num_workers=4)\n",
    "\n",
    "# —— 5. 模型定义 —— #\n",
    "model = vit_b_16(weights=weights)\n",
    "num_classes = len(train_dataset.dataset.classes if hasattr(train_dataset, 'dataset') else train_dataset.classes)\n",
    "model.heads.head = nn.Linear(model.heads.head.in_features, num_classes)\n",
    "model.to(device)\n",
    "\n",
    "criterion = nn.CrossEntropyLoss()\n",
    "optimizer = optim.Adam(model.parameters(), lr=learning_rate)\n",
    "\n",
    "# —— 6. 训练 + 验证 + 保存最佳模型 —— #\n",
    "best_val_acc = 0.0\n",
    "for epoch in range(num_epochs):\n",
    "    model.train()\n",
    "    train_loss, train_acc = 0.0, 0\n",
    "    for x, y in tqdm(train_loader, desc=f\"Epoch {epoch+1}/{num_epochs}\"):\n",
    "        x, y = x.to(device), y.to(device)\n",
    "        optimizer.zero_grad()\n",
    "        out = model(x)\n",
    "        loss = criterion(out, y)\n",
    "        loss.backward()\n",
    "        optimizer.step()\n",
    "        train_loss += loss.item() * x.size(0)\n",
    "        train_acc += (out.argmax(1) == y).sum().item()\n",
    "    \n",
    "    train_loss /= len(train_loader.dataset)\n",
    "    train_acc  /= len(train_loader.dataset)\n",
    "\n",
    "    # 验证\n",
    "    model.eval()\n",
    "    val_loss, val_acc = 0.0, 0\n",
    "    with torch.no_grad():\n",
    "        for x, y in val_loader:\n",
    "            x, y = x.to(device), y.to(device)\n",
    "            out = model(x)\n",
    "            loss = criterion(out, y)\n",
    "            val_loss += loss.item() * x.size(0)\n",
    "            val_acc  += (out.argmax(1) == y).sum().item()\n",
    "    val_loss /= len(val_loader.dataset)\n",
    "    val_acc  /= len(val_loader.dataset)\n",
    "\n",
    "    print(f\"[Epoch {epoch+1}] Train Loss: {train_loss:.4f}, Acc: {train_acc:.4f} | Val Loss: {val_loss:.4f}, Acc: {val_acc:.4f}\")\n",
    "\n",
    "    if val_acc > best_val_acc:\n",
    "        best_val_acc = val_acc\n",
    "        os.makedirs(os.path.dirname(ckpt_path), exist_ok=True)\n",
    "        torch.save(model.state_dict(), ckpt_path)\n",
    "        print(\"✅ Saved Best Model!\")\n",
    "\n",
    "    # 每个 epoch 保存一次模型\n",
    "    epoch_ckpt_path = f\"/root/autodl-fs/ckpt_vit/epoch_{epoch+1}.pth\"\n",
    "    os.makedirs(os.path.dirname(epoch_ckpt_path), exist_ok=True)\n",
    "    torch.save(model.state_dict(), epoch_ckpt_path)\n",
    "\n",
    "# —— 7. 加载并评估测试集 —— #\n",
    "model.load_state_dict(torch.load(ckpt_path))\n",
    "model.eval()\n",
    "test_loss, test_acc, total = 0.0, 0, 0\n",
    "with torch.no_grad():\n",
    "    for x, y in test_loader:\n",
    "        x, y = x.to(device), y.to(device)\n",
    "        out = model(x)\n",
    "        loss = criterion(out, y)\n",
    "        test_loss += loss.item() * x.size(0)\n",
    "        test_acc  += (out.argmax(1) == y).sum().item()\n",
    "        total += y.size(0)\n",
    "\n",
    "test_loss /= total\n",
    "test_acc  /= total\n",
    "print(f\"🎯 Test Loss: {test_loss:.4f} | Test Accuracy: {test_acc:.4f}\")\n",
    "\n",
    "# —— 8. 所有 epoch 的模型推理 —— #\n",
    "print(\"\\n📊 Evaluating all epoch checkpoints on test set:\")\n",
    "epoch_results = []\n",
    "\n",
    "for e in range(1, num_epochs + 1):\n",
    "    ckpt_file = f\"/root/autodl-fs/ckpt_vit/epoch_{e}.pth\"\n",
    "    if not os.path.exists(ckpt_file):\n",
    "        print(f\"❌ Epoch {e} model not found.\")\n",
    "        continue\n",
    "\n",
    "    model.load_state_dict(torch.load(ckpt_file))\n",
    "    model.eval()\n",
    "\n",
    "    test_loss, test_acc, total = 0.0, 0, 0\n",
    "    with torch.no_grad():\n",
    "        for x, y in test_loader:\n",
    "            x, y = x.to(device), y.to(device)\n",
    "            out = model(x)\n",
    "            loss = criterion(out, y)\n",
    "            test_loss += loss.item() * x.size(0)\n",
    "            test_acc  += (out.argmax(1) == y).sum().item()\n",
    "            total += y.size(0)\n",
    "\n",
    "    test_loss /= total\n",
    "    test_acc  /= total\n",
    "    epoch_results.append((e, test_loss, test_acc))\n",
    "    print(f\"📁 Epoch {e:02d} | Test Loss: {test_loss:.4f} | Test Accuracy: {test_acc:.4f}\")\n"
   ]
  },
  {
   "cell_type": "code",
   "execution_count": null,
   "id": "984dfe15-ba75-47a4-87b1-50205e125ae9",
   "metadata": {},
   "outputs": [],
   "source": []
  }
 ],
 "metadata": {
  "kernelspec": {
   "display_name": "Python 3 (ipykernel)",
   "language": "python",
   "name": "python3"
  },
  "language_info": {
   "codemirror_mode": {
    "name": "ipython",
    "version": 3
   },
   "file_extension": ".py",
   "mimetype": "text/x-python",
   "name": "python",
   "nbconvert_exporter": "python",
   "pygments_lexer": "ipython3",
   "version": "3.12.3"
  }
 },
 "nbformat": 4,
 "nbformat_minor": 5
}
